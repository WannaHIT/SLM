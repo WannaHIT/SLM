{
 "cells": [
  {
   "cell_type": "code",
   "execution_count": 1,
   "metadata": {},
   "outputs": [],
   "source": [
    "import matplotlib.pyplot as plt\n",
    "import numpy as np\n",
    "from sklearn.metrics import classification_report   #计算准确率召回率F1\n",
    "from sklearn import preprocessing\n",
    "#数据是否需要标准化\n",
    "scale=False"
   ]
  },
  {
   "cell_type": "code",
   "execution_count": 2,
   "metadata": {},
   "outputs": [
    {
     "data": {
      "image/png": "[encoded data removed]",
      "text/plain": [
       "<Figure size 432x288 with 1 Axes>"
      ]
     },
     "metadata": {
      "needs_background": "light"
     },
     "output_type": "display_data"
    }
   ],
   "source": [
    "#载入数据\n",
    "data=np.genfromtxt(\"LR-testSet.csv\",delimiter=',')\n",
    "x_data=data[:,:-1]  #这样选取比较通用化\n",
    "y_data=data[:,-1]   #target\n",
    "\n",
    "def plot():\n",
    "    x0=[]\n",
    "    x1=[]\n",
    "    y0=[]\n",
    "    y1=[]\n",
    "    #切分不同类别的数据\n",
    "    for i in range(len(x_data)):\n",
    "        if y_data[i]==0:\n",
    "            x0.append(x_data[i,0])#第一个特征\n",
    "            y0.append(x_data[i,1])#第二个特征 \n",
    "        else:\n",
    "            x1.append(x_data[i,0])\n",
    "            y1.append(x_data[i,1])\n",
    "    #画图\n",
    "    scatter0=plt.scatter(x0,y0,c='b',marker='o',label='label0')\n",
    "    scatter1=plt.scatter(x1,y1,c='r',marker='x',label='label1')\n",
    "    #画图例\n",
    "    #plt.legend(handles=[scatter0,scatter1],labels=['label0','label1'],loc='best')\n",
    "    plt.legend(loc='best')\n",
    "plot()\n",
    "plt.show()"
   ]
  },
  {
   "cell_type": "code",
   "execution_count": 53,
   "metadata": {},
   "outputs": [
    {
     "data": {
      "text/plain": [
       "(100, 1)"
      ]
     },
     "execution_count": 53,
     "metadata": {},
     "output_type": "execute_result"
    }
   ],
   "source": [
    "y_data=data[:,-1,np.newaxis]\n",
    "y_data.shape"
   ]
  },
  {
   "cell_type": "code",
   "execution_count": 54,
   "metadata": {},
   "outputs": [
    {
     "data": {
      "text/plain": [
       "(1, 100)"
      ]
     },
     "execution_count": 54,
     "metadata": {},
     "output_type": "execute_result"
    }
   ],
   "source": [
    "y_data=data[:,-1]\n",
    "np.mat(y_data).shape"
   ]
  },
  {
   "cell_type": "code",
   "execution_count": 55,
   "metadata": {},
   "outputs": [
    {
     "data": {
      "text/plain": [
       "array([0., 1., 0., 0., 0., 1., 0., 1., 0., 0., 1., 0., 1., 0., 1., 1., 1.,\n",
       "       1., 1., 1., 1., 1., 0., 1., 1., 0., 0., 1., 1., 0., 1., 1., 0., 1.,\n",
       "       1., 0., 0., 0., 0., 0., 1., 1., 0., 1., 1., 0., 1., 1., 0., 0., 0.,\n",
       "       0., 0., 0., 1., 1., 0., 1., 0., 1., 1., 1., 0., 0., 0., 1., 1., 0.,\n",
       "       0., 0., 0., 1., 0., 1., 0., 0., 1., 1., 1., 1., 0., 1., 0., 1., 1.,\n",
       "       1., 1., 0., 1., 1., 1., 0., 0., 1., 1., 1., 0., 1., 0., 0.])"
      ]
     },
     "execution_count": 55,
     "metadata": {},
     "output_type": "execute_result"
    }
   ],
   "source": [
    "y_data=data[:,-1]  #注意方括号层数\n",
    "y_data"
   ]
  },
  {
   "cell_type": "code",
   "execution_count": 56,
   "metadata": {},
   "outputs": [
    {
     "data": {
      "text/plain": [
       "(100,)"
      ]
     },
     "execution_count": 56,
     "metadata": {},
     "output_type": "execute_result"
    }
   ],
   "source": [
    "y_data.shape  #这是一维数组 不是 二维"
   ]
  },
  {
   "cell_type": "code",
   "execution_count": 57,
   "metadata": {},
   "outputs": [
    {
     "name": "stdout",
     "output_type": "stream",
     "text": [
      "(100, 2)\n",
      "(100, 1)\n",
      "(100, 3)\n"
     ]
    }
   ],
   "source": [
    "#数据处理，添加偏置项\n",
    "x_data=data[:,:-1]\n",
    "\n",
    "#这里注意要给y_data增加维度，让他也变成二维数据来适配函数mat\n",
    "y_data=data[:,-1,np.newaxis]#相当于转置  1*100 turns to 100*1 .. np.newaxis的作用是增加一个维度\n",
    "#y_data=data[:,-1]\n",
    "\n",
    "print(np.mat(x_data).shape)\n",
    "print(np.mat(y_data).shape)\n",
    "#给样本添加偏置项\n",
    "#concatenate函数可以改变axis的值来进行数据拼接\n",
    "#axis的值为0时，不改变列数，将数据向下拼接\n",
    "#axis的值为1时，不改变行数，将数据向右拼接\n",
    "X_data=np.concatenate((np.ones((100,1)),x_data),axis=1)\n",
    "print(X_data.shape)"
   ]
  },
  {
   "cell_type": "code",
   "execution_count": 58,
   "metadata": {},
   "outputs": [],
   "source": [
    "def sigmoid(x):\n",
    "    return 1.0/(1+np.exp(-x))\n",
    "\n",
    "def cost(xMat,yMat,ws):  #ws相当于theta\n",
    "    left = np.multiply(yMat, np.log(sigmoid(xMat*ws)))   #按位相乘\n",
    "    right = np.multiply(1 - yMat, np.log(1 - sigmoid(xMat*ws)))\n",
    "    #m = len(xMat)\n",
    "    return np.sum(left + right) /(-len(xMat))\n",
    "\n",
    "def gradAscent(xArr,yArr):\n",
    "    # 将每一列特征标准化为标准正太分布，注意，标准化是针对每一列而言的\n",
    "    if scale==True:\n",
    "        xArr=preprocessng.scale(xArr)\n",
    "        \n",
    "    #将数据变成矩阵形式\n",
    "    xMat=np.mat(xArr)\n",
    "    yMat=np.mat(yArr)\n",
    "    \n",
    "    #定义学习率\n",
    "    lr=0.001\n",
    "    #定义循环次数\n",
    "    epochs = 10000\n",
    "    #将代价函数的值定义在一个列表\n",
    "    costList = []\n",
    "    # 计算数据行列数\n",
    "    # 行代表数据个数，列代表权值个数\n",
    "    m,n = np.shape(xMat)\n",
    "    # 初始化权值\n",
    "    ws = np.mat(np.ones((n,1)))\n",
    "    \n",
    "    for i in range(epochs+1):             \n",
    "        # xMat和weights矩阵相乘\n",
    "        h = sigmoid(xMat*ws)   \n",
    "        # 计算误差\n",
    "        #给xMat的矩阵进行转置，才能进行正常的矩阵乘法\n",
    "        #h-yMat的格式是100*1，xMat.T的矩阵的格式是3*100\n",
    "        ws_grad = xMat.T*(h - yMat)/m#即求偏导的化简最终形式\n",
    "        #更新ws的值\n",
    "        ws = ws - lr*ws_grad \n",
    "        #循环每进行50次，就将更新好的代价函数值代入\n",
    "        if i % 50 == 0:\n",
    "            costList.append(cost(xMat,yMat,ws))\n",
    "    return ws,costList"
   ]
  },
  {
   "cell_type": "code",
   "execution_count": 59,
   "metadata": {},
   "outputs": [
    {
     "name": "stdout",
     "output_type": "stream",
     "text": [
      "[[ 2.05836354]\n",
      " [ 0.3510579 ]\n",
      " [-0.36341304]]\n"
     ]
    }
   ],
   "source": [
    "# 训练模型，得到权值和cost值的变化\n",
    "ws,costList = gradAscent(X_data, y_data)\n",
    "#注意这里的X_data是大写字母\n",
    "print(ws)\n",
    "#print(costList)"
   ]
  },
  {
   "cell_type": "code",
   "execution_count": 76,
   "metadata": {},
   "outputs": [
    {
     "data": {
      "image/png": "[encoded data removed]",
      "text/plain": [
       "<Figure size 432x288 with 1 Axes>"
      ]
     },
     "metadata": {
      "needs_background": "light"
     },
     "output_type": "display_data"
    }
   ],
   "source": [
    "\n",
    "#fig = plt.figure()\n",
    "axes = plt.subplot(1,1,1)\n",
    "neg = data[:,2] == 0#由 布尔值组成的数组\n",
    "pos = data[:,2] == 1\n",
    "\n",
    "#plot()\n",
    "x_test = [[-4],[3]]\n",
    "y_test = (-ws[0] - x_test*ws[1])/ws[2]\n",
    "plt.plot(x_test, y_test, 'k')\n",
    "\n",
    "axes.scatter(data[pos][:,0],data[pos][:,1],marker='x',c='b',s=60,linewidth=2,label=\"label_pos\")\n",
    "axes.scatter(data[neg][:,0], data[neg][:,1], c='r', s=60, label=\"label_neg\")\n",
    "\n",
    "axes.set_xlabel(\"label_x\")\n",
    "axes.set_ylabel(\"label_y\")\n",
    "axes.legend(frameon= True, fancybox = True);"
   ]
  },
  {
   "cell_type": "code",
   "execution_count": 75,
   "metadata": {},
   "outputs": [
    {
     "data": {
      "image/png": "[encoded data removed]",
      "text/plain": [
       "<Figure size 432x288 with 1 Axes>"
      ]
     },
     "metadata": {
      "needs_background": "light"
     },
     "output_type": "display_data"
    }
   ],
   "source": [
    "#不进行数据标准化时\n",
    "if scale == False:\n",
    "    # 画图决策边界\n",
    "    plot()\n",
    "    x_test = [[-4],[3]]\n",
    "    y_test = (-ws[0] - x_test*ws[1])/ws[2]\n",
    "    plt.plot(x_test, y_test, 'k')\n",
    "    plt.show()"
   ]
  },
  {
   "cell_type": "code",
   "execution_count": 61,
   "metadata": {},
   "outputs": [
    {
     "data": {
      "image/png": "[encoded data removed]",
      "text/plain": [
       "<Figure size 432x288 with 1 Axes>"
      ]
     },
     "metadata": {
      "needs_background": "light"
     },
     "output_type": "display_data"
    }
   ],
   "source": [
    "# 画图 loss值的变化\n",
    "#定义图像范围\n",
    "x = np.linspace(0,10000,201)   #10000/50\n",
    "#给图像起名贴标签\n",
    "plt.plot(x, costList, c='r')\n",
    "plt.title('Train')\n",
    "plt.xlabel('Epochs')\n",
    "plt.ylabel('Cost')\n",
    "plt.show()"
   ]
  },
  {
   "cell_type": "code",
   "execution_count": 8,
   "metadata": {},
   "outputs": [
    {
     "name": "stdout",
     "output_type": "stream",
     "text": [
      "              precision    recall  f1-score   support\n",
      "\n",
      "         0.0       0.82      1.00      0.90        47\n",
      "         1.0       1.00      0.81      0.90        53\n",
      "\n",
      "    accuracy                           0.90       100\n",
      "   macro avg       0.91      0.91      0.90       100\n",
      "weighted avg       0.92      0.90      0.90       100\n",
      "\n"
     ]
    }
   ],
   "source": [
    "# 预测\n",
    "def predict(x_data, ws):\n",
    "    if scale == True:\n",
    "        x_data = preprocessing.scale(x_data)\n",
    "    xMat = np.mat(x_data)\n",
    "    ws = np.mat(ws)\n",
    "    return [1 if x >= 0.5 else 0 for x in sigmoid(xMat*ws)]\n",
    "\n",
    "predictions = predict(X_data, ws)\n",
    "#classification_report计算准确率，召回率 \n",
    "print(classification_report(y_data, predictions))"
   ]
  },
  {
   "cell_type": "code",
   "execution_count": null,
   "metadata": {},
   "outputs": [],
   "source": []
  },
  {
   "cell_type": "code",
   "execution_count": null,
   "metadata": {},
   "outputs": [],
   "source": []
  }
 ],
 "metadata": {
  "kernelspec": {
   "display_name": "Python 3",
   "language": "python",
   "name": "python3"
  },
  "language_info": {
   "codemirror_mode": {
    "name": "ipython",
    "version": 3
   },
   "file_extension": ".py",
   "mimetype": "text/x-python",
   "name": "python",
   "nbconvert_exporter": "python",
   "pygments_lexer": "ipython3",
   "version": "3.7.7"
  }
 },
 "nbformat": 4,
 "nbformat_minor": 2
}
