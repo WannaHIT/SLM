{
 "cells": [
  {
   "cell_type": "markdown",
   "id": "41531924",
   "metadata": {},
   "source": [
    "### loss 是向量内积，是一个标量"
   ]
  },
  {
   "cell_type": "code",
   "execution_count": 1,
   "id": "bac950ec",
   "metadata": {},
   "outputs": [],
   "source": [
    "import numpy as np\n",
    "import pandas as pd\n",
    "import csv\n",
    "import matplotlib.pyplot as plt"
   ]
  },
  {
   "cell_type": "code",
   "execution_count": 24,
   "id": "2da129a6",
   "metadata": {},
   "outputs": [],
   "source": [
    "from sklearn.utils import shuffle"
   ]
  },
  {
   "cell_type": "code",
   "execution_count": 108,
   "id": "2c434c2a",
   "metadata": {},
   "outputs": [
    {
     "data": {
      "text/plain": [
       "(200,)"
      ]
     },
     "execution_count": 108,
     "metadata": {},
     "output_type": "execute_result"
    }
   ],
   "source": [
    "np.random.seed(5)\n",
    "x_data = np.linspace(0, 60, 200)\n",
    "x_data.shape"
   ]
  },
  {
   "cell_type": "code",
   "execution_count": 72,
   "id": "1b8ad658",
   "metadata": {},
   "outputs": [],
   "source": [
    "y_data = 3.1415 * x_data + 3.15 + np.random.randn(*x_data.shape) * 15"
   ]
  },
  {
   "cell_type": "code",
   "execution_count": 73,
   "id": "3e1c9a83",
   "metadata": {},
   "outputs": [],
   "source": [
    "dataframe = pd.DataFrame({'x_data':x_data,'y_data':y_data})\n",
    "dataframe.to_csv(\"test2024.csv\", index=False,sep=',')"
   ]
  },
  {
   "cell_type": "code",
   "execution_count": 74,
   "id": "f9366894",
   "metadata": {},
   "outputs": [
    {
     "data": {
      "text/plain": [
       "<matplotlib.collections.PathCollection at 0x7fc8e79f7d90>"
      ]
     },
     "execution_count": 74,
     "metadata": {},
     "output_type": "execute_result"
    },
    {
     "data": {
      "image/png": "[encoded data removed]",
      "text/plain": [
       "<Figure size 432x288 with 1 Axes>"
      ]
     },
     "metadata": {
      "needs_background": "light"
     },
     "output_type": "display_data"
    }
   ],
   "source": [
    "plt.scatter(x_data, y_data)"
   ]
  },
  {
   "cell_type": "code",
   "execution_count": 75,
   "id": "5d9fed43",
   "metadata": {},
   "outputs": [
    {
     "data": {
      "text/html": [
       "<div>\n",
       "<style scoped>\n",
       "    .dataframe tbody tr th:only-of-type {\n",
       "        vertical-align: middle;\n",
       "    }\n",
       "\n",
       "    .dataframe tbody tr th {\n",
       "        vertical-align: top;\n",
       "    }\n",
       "\n",
       "    .dataframe thead th {\n",
       "        text-align: right;\n",
       "    }\n",
       "</style>\n",
       "<table border=\"1\" class=\"dataframe\">\n",
       "  <thead>\n",
       "    <tr style=\"text-align: right;\">\n",
       "      <th></th>\n",
       "      <th>x_data</th>\n",
       "      <th>y_data</th>\n",
       "    </tr>\n",
       "  </thead>\n",
       "  <tbody>\n",
       "    <tr>\n",
       "      <th>0</th>\n",
       "      <td>0.000000</td>\n",
       "      <td>9.768412</td>\n",
       "    </tr>\n",
       "    <tr>\n",
       "      <th>1</th>\n",
       "      <td>0.251256</td>\n",
       "      <td>-1.023731</td>\n",
       "    </tr>\n",
       "    <tr>\n",
       "      <th>2</th>\n",
       "      <td>0.502513</td>\n",
       "      <td>41.190211</td>\n",
       "    </tr>\n",
       "    <tr>\n",
       "      <th>3</th>\n",
       "      <td>0.753769</td>\n",
       "      <td>1.736583</td>\n",
       "    </tr>\n",
       "    <tr>\n",
       "      <th>4</th>\n",
       "      <td>1.005025</td>\n",
       "      <td>7.951434</td>\n",
       "    </tr>\n",
       "  </tbody>\n",
       "</table>\n",
       "</div>"
      ],
      "text/plain": [
       "     x_data     y_data\n",
       "0  0.000000   9.768412\n",
       "1  0.251256  -1.023731\n",
       "2  0.502513  41.190211\n",
       "3  0.753769   1.736583\n",
       "4  1.005025   7.951434"
      ]
     },
     "execution_count": 75,
     "metadata": {},
     "output_type": "execute_result"
    }
   ],
   "source": [
    "data = pd.read_csv('test2024.csv')\n",
    "data.head()"
   ]
  },
  {
   "cell_type": "code",
   "execution_count": 76,
   "id": "41ba588f",
   "metadata": {},
   "outputs": [],
   "source": [
    "x_data = np.array(data['x_data'])\n",
    "y_data = np.array(data['y_data'])"
   ]
  },
  {
   "cell_type": "code",
   "execution_count": 82,
   "id": "4dc06d33",
   "metadata": {},
   "outputs": [],
   "source": [
    "X, y = shuffle(x_data, y_data, random_state=13)\n",
    "X = X.astype(np.float32)"
   ]
  },
  {
   "cell_type": "code",
   "execution_count": 83,
   "id": "c71a83ee",
   "metadata": {},
   "outputs": [
    {
     "name": "stdout",
     "output_type": "stream",
     "text": [
      "(180, 1)\n",
      "(20, 1)\n",
      "(180, 1)\n",
      "(20, 1)\n"
     ]
    }
   ],
   "source": [
    "offset = int(X.shape[0]*0.9)\n",
    "\n",
    "x_train = X[:offset]\n",
    "y_train = y[:offset]\n",
    "\n",
    "x_test = X[offset:]\n",
    "y_test = y[offset:]\n",
    "\n",
    "x_train = x_train.reshape((-1,1))\n",
    "x_test = x_test.reshape((-1,1))\n",
    "\n",
    "y_train = y_train.reshape((-1,1))\n",
    "y_test = y_test.reshape((-1,1))\n",
    "\n",
    "print(x_train.shape)\n",
    "print(x_test.shape)\n",
    "print(y_train.shape)\n",
    "print(y_test.shape)"
   ]
  },
  {
   "cell_type": "code",
   "execution_count": 115,
   "id": "541e63d0",
   "metadata": {},
   "outputs": [],
   "source": [
    "class Linear_modle():\n",
    "    def __init__(self):\n",
    "        self.w = None\n",
    "        self.b = None\n",
    "        self.dw = None\n",
    "        self.db = None\n",
    "        self.loss = 0\n",
    "        self.y_hat = None\n",
    "        \n",
    "    def linear_loss(self, X, y):\n",
    "        num_train = X.shape[0]\n",
    "        num_feature = X.shape[1]\n",
    "        \n",
    "        self.y_hat = np.dot(X,self.w) + self.b\n",
    "        # 损失\n",
    "        self.loss = np.sum((y-self.y_hat)**2) / num_train\n",
    "        # 梯度\n",
    "        self.dw = np.dot(X.T, (self.y_hat - y)) / num_train\n",
    "        # 梯度\n",
    "        self.db = np.sum((self.y_hat - y)) / num_train\n",
    "        \n",
    "        # return y_hat, loss, dw, db\n",
    "    \n",
    "    def init_params(self, dims):\n",
    "        self.w = np.zeros((dims, 1))\n",
    "        self.b = 0\n",
    "        \n",
    "        \n",
    "    # learning_rate 选取至关重要，刚开始选的不对，迭代的时候显示溢出\n",
    "    def linear_train(self, X, y, learning_rate=0.001, niters = 10000):\n",
    "        # 直接用init_params显示未定义， 总忘要加self\n",
    "        self.init_params(X.shape[1])\n",
    "        \n",
    "        loss_list = []\n",
    "        for i in range(1, niters):\n",
    "            self.linear_loss(X, y)\n",
    "            loss_list.append(self.loss)\n",
    "            \n",
    "            self.w += -learning_rate * self.dw\n",
    "            self.b += -learning_rate * self.db\n",
    "            \n",
    "            if i%1000 == 0:\n",
    "                print(\"epoch %d loss %f\" % (i, self.loss))\n",
    "                \n",
    "            params = {\n",
    "                'w':self.w,\n",
    "                'b':self.b,\n",
    "            }\n",
    "            \n",
    "            grads = {\n",
    "                'dw':self.dw,\n",
    "                'db':self.db\n",
    "            }\n",
    "            \n",
    "        return params, grads, loss_list\n",
    "    \n",
    "    def predict(self, x):\n",
    "        pass\n",
    "    "
   ]
  },
  {
   "cell_type": "code",
   "execution_count": 116,
   "id": "333e394b",
   "metadata": {},
   "outputs": [],
   "source": [
    "linear_model = Linear_modle()\n"
   ]
  },
  {
   "cell_type": "code",
   "execution_count": 117,
   "id": "fcb6682d",
   "metadata": {},
   "outputs": [
    {
     "name": "stdout",
     "output_type": "stream",
     "text": [
      "epoch 1000 loss 223.070144\n",
      "epoch 2000 loss 222.129066\n",
      "epoch 3000 loss 221.566768\n",
      "epoch 4000 loss 221.230792\n",
      "epoch 5000 loss 221.030045\n",
      "epoch 6000 loss 220.910098\n",
      "epoch 7000 loss 220.838429\n",
      "epoch 8000 loss 220.795606\n",
      "epoch 9000 loss 220.770019\n"
     ]
    }
   ],
   "source": [
    "params, grads, loss_list = linear_model.linear_train(x_train, y_train)"
   ]
  },
  {
   "cell_type": "code",
   "execution_count": 111,
   "id": "3334eac1",
   "metadata": {},
   "outputs": [
    {
     "name": "stdout",
     "output_type": "stream",
     "text": [
      "{'w': array([[3.16067163]]), 'b': 3.6987625200869747}\n"
     ]
    }
   ],
   "source": [
    "print(params)"
   ]
  },
  {
   "cell_type": "code",
   "execution_count": 112,
   "id": "6f9eb28f",
   "metadata": {},
   "outputs": [
    {
     "name": "stdout",
     "output_type": "stream",
     "text": [
      "coef : 3.160672, interception : 3.698763\n"
     ]
    }
   ],
   "source": [
    "w = float(params['w'])\n",
    "b = float(params['b'])\n",
    "\n",
    "x_points = np.linspace(0,50,20)\n",
    "print(\"coef : %f, interception : %f\" % (w, b))\n",
    "y_points = x_points*w + b"
   ]
  },
  {
   "cell_type": "code",
   "execution_count": 113,
   "id": "3f173464",
   "metadata": {},
   "outputs": [
    {
     "data": {
      "image/png": "[encoded data removed]",
      "text/plain": [
       "<Figure size 432x288 with 1 Axes>"
      ]
     },
     "metadata": {
      "needs_background": "light"
     },
     "output_type": "display_data"
    }
   ],
   "source": [
    "plt.scatter(x_train, y_train)\n",
    "plt.plot(x_points, y_points, '-r', label= 'y=w*x=b')\n",
    "plt.xlabel('Square')\n",
    "plt.ylabel('Price')\n",
    "plt.show()"
   ]
  },
  {
   "cell_type": "code",
   "execution_count": 123,
   "id": "91d2802b",
   "metadata": {},
   "outputs": [],
   "source": [
    "predict = x_test.dot(params['w']) + params['b']\n",
    "f = predict"
   ]
  },
  {
   "cell_type": "code",
   "execution_count": 125,
   "id": "6cb8eaa9",
   "metadata": {},
   "outputs": [
    {
     "data": {
      "image/png": "[encoded data removed]",
      "text/plain": [
       "<Figure size 432x288 with 1 Axes>"
      ]
     },
     "metadata": {
      "needs_background": "light"
     },
     "output_type": "display_data"
    }
   ],
   "source": [
    "# 对预测结果和真值进行展示：\n",
    "plt.scatter(range(x_test.shape[0]),y_test)\n",
    "plt.scatter(range(x_test.shape[0]),f)\n",
    "plt.plot(f,color = 'darkorange')\n",
    "plt.xlabel('X')\n",
    "plt.ylabel('y')\n",
    "plt.show()"
   ]
  },
  {
   "cell_type": "code",
   "execution_count": 118,
   "id": "5b9bf777",
   "metadata": {},
   "outputs": [
    {
     "data": {
      "image/png": "[encoded data removed]",
      "text/plain": [
       "<Figure size 432x288 with 1 Axes>"
      ]
     },
     "metadata": {
      "needs_background": "light"
     },
     "output_type": "display_data"
    }
   ],
   "source": [
    "plt.plot(loss_list, color='b')\n",
    "plt.xlabel('epochs')\n",
    "plt.ylabel('loss')\n",
    "plt.show()"
   ]
  },
  {
   "cell_type": "code",
   "execution_count": null,
   "id": "dad2ae81",
   "metadata": {},
   "outputs": [],
   "source": []
  }
 ],
 "metadata": {
  "kernelspec": {
   "display_name": "Python [conda env:pytorch]",
   "language": "python",
   "name": "conda-env-pytorch-py"
  },
  "language_info": {
   "codemirror_mode": {
    "name": "ipython",
    "version": 3
   },
   "file_extension": ".py",
   "mimetype": "text/x-python",
   "name": "python",
   "nbconvert_exporter": "python",
   "pygments_lexer": "ipython3",
   "version": "3.7.7"
  }
 },
 "nbformat": 4,
 "nbformat_minor": 5
}
