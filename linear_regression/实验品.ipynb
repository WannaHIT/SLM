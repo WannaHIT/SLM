{
 "cells": [
  {
   "cell_type": "code",
   "execution_count": 218,
   "metadata": {},
   "outputs": [],
   "source": [
    "import numpy as np\n",
    "import matplotlib.pyplot as plt \n",
    "import pandas as pd"
   ]
  },
  {
   "cell_type": "code",
   "execution_count": 219,
   "metadata": {},
   "outputs": [
    {
     "data": {
      "text/plain": [
       "array(['CRIM', 'ZN', 'INDUS', 'CHAS', 'NOX', 'RM', 'AGE', 'DIS', 'RAD',\n",
       "       'TAX', 'PTRATIO', 'B', 'LSTAT'], dtype='<U7')"
      ]
     },
     "execution_count": 219,
     "metadata": {},
     "output_type": "execute_result"
    }
   ],
   "source": [
    "from sklearn import datasets\n",
    "boston = datasets.load_boston()\n",
    "boston.feature_names"
   ]
  },
  {
   "cell_type": "code",
   "execution_count": 220,
   "metadata": {},
   "outputs": [
    {
     "data": {
      "image/png": "[encoded data removed]",
      "text/plain": [
       "<Figure size 432x288 with 1 Axes>"
      ]
     },
     "metadata": {
      "needs_background": "light"
     },
     "output_type": "display_data"
    }
   ],
   "source": [
    "x = boston.data[:,5]# 只是用“RM”属性\n",
    "y = boston.target\n",
    "plt.scatter(x,y)\n",
    "plt.show()"
   ]
  },
  {
   "cell_type": "code",
   "execution_count": 221,
   "metadata": {},
   "outputs": [
    {
     "data": {
      "text/plain": [
       "(506,)"
      ]
     },
     "execution_count": 221,
     "metadata": {},
     "output_type": "execute_result"
    }
   ],
   "source": [
    "x.shape"
   ]
  },
  {
   "cell_type": "code",
   "execution_count": 222,
   "metadata": {},
   "outputs": [],
   "source": [
    "#y= y[:,np.newaxis]"
   ]
  },
  {
   "cell_type": "code",
   "execution_count": 223,
   "metadata": {},
   "outputs": [
    {
     "data": {
      "text/plain": [
       "(506,)"
      ]
     },
     "execution_count": 223,
     "metadata": {},
     "output_type": "execute_result"
    }
   ],
   "source": [
    "y.shape"
   ]
  },
  {
   "cell_type": "code",
   "execution_count": 224,
   "metadata": {},
   "outputs": [
    {
     "data": {
      "text/plain": [
       "50.0"
      ]
     },
     "execution_count": 224,
     "metadata": {},
     "output_type": "execute_result"
    }
   ],
   "source": [
    "#爆表的的数值\n",
    "np.max(y)"
   ]
  },
  {
   "cell_type": "code",
   "execution_count": 225,
   "metadata": {},
   "outputs": [
    {
     "data": {
      "image/png": "[encoded data removed]",
      "text/plain": [
       "<Figure size 432x288 with 1 Axes>"
      ]
     },
     "metadata": {
      "needs_background": "light"
     },
     "output_type": "display_data"
    }
   ],
   "source": [
    "#删除图中靠上的数据\n",
    "x = x[y<50.0]\n",
    "y = y[y<50.0]\n",
    "plt.scatter(x,y)\n",
    "plt.show()"
   ]
  },
  {
   "cell_type": "code",
   "execution_count": 226,
   "metadata": {},
   "outputs": [
    {
     "data": {
      "text/plain": [
       "(490,)"
      ]
     },
     "execution_count": 226,
     "metadata": {},
     "output_type": "execute_result"
    }
   ],
   "source": [
    "x.shape"
   ]
  },
  {
   "cell_type": "code",
   "execution_count": 228,
   "metadata": {},
   "outputs": [],
   "source": [
    "def linear_loss(X,y,w,b):\n",
    "    num_train = X.shape[0]\n",
    "    num_feature = X.shape[1]\n",
    "    \n",
    "    #y_hat = y - np.dot(X,w) + b 这里是粗心重大错误啊\n",
    "    y_hat =np.dot(X,w) + b\n",
    "    \n",
    "    loss = np.sum((y-y_hat)**2)/num_train\n",
    "    \n",
    "    #dw = np.linalg.inv(np.dot(X.T,X)).dot(X.T).dot(y)\n",
    "    \n",
    "    dw = np.dot(X.T,(y_hat - y))/num_train\n",
    "    db = np.sum((y_hat-y))/num_train\n",
    "    \n",
    "    return y_hat,loss,dw,db"
   ]
  },
  {
   "cell_type": "code",
   "execution_count": 229,
   "metadata": {},
   "outputs": [],
   "source": [
    "def init_params(dims):\n",
    "    w = np.zeros((dims,1))#双层括号注意\n",
    "    b = 0\n",
    "    return w,b"
   ]
  },
  {
   "cell_type": "code",
   "execution_count": 230,
   "metadata": {},
   "outputs": [],
   "source": [
    "def linear_train(X,y,learning_rate,epochs):\n",
    "    w,b = init_params(X.shape[1])\n",
    "    loss_list = []\n",
    "    \n",
    "    for i in range(1,epochs):\n",
    "        y_hat,loss,dw,db = linear_loss(X,y,w,b)\n",
    "        loss_list.append(loss)\n",
    "        \n",
    "        w += -learning_rate*dw\n",
    "        b += -learning_rate*db\n",
    "        \n",
    "        if i%10000 == 0:\n",
    "            print('epch %d loss %f'%(i,loss))\n",
    "        params={\n",
    "            'w':w,\n",
    "            'b':b\n",
    "        }\n",
    "        grads = {\n",
    "            'dw':dw,\n",
    "            'db':db\n",
    "        }\n",
    "    return loss_list,loss,params,grads"
   ]
  },
  {
   "cell_type": "code",
   "execution_count": 231,
   "metadata": {},
   "outputs": [],
   "source": [
    "#from sklearn.model_selection import train_test_split\n",
    "#X_train, X_test, y_train, y_test = train_test_split(x, y, test_size=0.2)\n",
    "#from sklearn.utils import shuffle"
   ]
  },
  {
   "cell_type": "code",
   "execution_count": 235,
   "metadata": {},
   "outputs": [
    {
     "name": "stdout",
     "output_type": "stream",
     "text": [
      "X_train= (441, 1)\n",
      "X_test= (49, 1)\n",
      "y_train= (441, 1)\n",
      "y_test= (49, 1)\n"
     ]
    }
   ],
   "source": [
    "#打乱数据\n",
    "#X,y = shuffle(x,y,random_state = 13)\n",
    "#X = X.astype(np.float32)\n",
    "\n",
    "#划分数据\n",
    "offset = int(X.shape[0]*0.9)\n",
    "X_train,y_train = X[:offset],y[:offset]\n",
    "X_test,y_test = X[offset:],y[offset:]\n",
    "X_train = X_train.reshape((-1,1))\n",
    "X_test = X_test.reshape((-1,1))\n",
    "y_train = y_train.reshape((-1,1))######这里相当于添加维度相当重要\n",
    "y_test = y_test.reshape((-1,1))\n",
    "print('X_train=',X_train.shape)\n",
    "print('X_test=',X_test.shape)\n",
    "print('y_train=',y_train.shape)\n",
    "print('y_test=',y_test.shape) "
   ]
  },
  {
   "cell_type": "code",
   "execution_count": 251,
   "metadata": {},
   "outputs": [
    {
     "data": {
      "text/plain": [
       "<matplotlib.collections.PathCollection at 0x1cb44a8a888>"
      ]
     },
     "execution_count": 251,
     "metadata": {},
     "output_type": "execute_result"
    },
    {
     "data": {
      "image/png": "[encoded data removed]",
      "text/plain": [
       "<Figure size 432x288 with 1 Axes>"
      ]
     },
     "metadata": {
      "needs_background": "light"
     },
     "output_type": "display_data"
    }
   ],
   "source": [
    "plt.scatter(X_train,y_train,color='red')\n",
    "plt.scatter(X_test,y_test,color='darkorange')"
   ]
  },
  {
   "cell_type": "code",
   "execution_count": 238,
   "metadata": {},
   "outputs": [
    {
     "name": "stdout",
     "output_type": "stream",
     "text": [
      "epch 10000 loss 69.979479\n",
      "epch 20000 loss 69.161745\n",
      "epch 30000 loss 68.497846\n",
      "epch 40000 loss 67.958844\n",
      "epch 50000 loss 67.521241\n",
      "epch 60000 loss 67.165962\n",
      "epch 70000 loss 66.877520\n",
      "epch 80000 loss 66.643340\n",
      "epch 90000 loss 66.453216\n"
     ]
    }
   ],
   "source": [
    "loss_list,loss,params,grads = linear_train(X_train,y_train,0.001,100000)"
   ]
  },
  {
   "cell_type": "code",
   "execution_count": 239,
   "metadata": {},
   "outputs": [
    {
     "name": "stdout",
     "output_type": "stream",
     "text": [
      "{'w': array([[1.09259202]]), 'b': 15.027390747622924}\n"
     ]
    }
   ],
   "source": [
    "print(params)"
   ]
  },
  {
   "cell_type": "code",
   "execution_count": 240,
   "metadata": {},
   "outputs": [
    {
     "data": {
      "text/plain": [
       "array([[1.09259202]])"
      ]
     },
     "execution_count": 240,
     "metadata": {},
     "output_type": "execute_result"
    }
   ],
   "source": [
    "params['w']"
   ]
  },
  {
   "cell_type": "code",
   "execution_count": 241,
   "metadata": {},
   "outputs": [
    {
     "name": "stdout",
     "output_type": "stream",
     "text": [
      "coef 1.092592 interception 15.027391 \n"
     ]
    }
   ],
   "source": [
    "w = float(params['w'])\n",
    "b = float(params['b'])\n",
    "x_points = np.linspace(4,9,10)\n",
    "print('coef %f interception %f '%(w,b))\n",
    "y_ = w*x_points + b"
   ]
  },
  {
   "cell_type": "code",
   "execution_count": 242,
   "metadata": {},
   "outputs": [
    {
     "data": {
      "image/png": "[encoded data removed]",
      "text/plain": [
       "<Figure size 432x288 with 1 Axes>"
      ]
     },
     "metadata": {
      "needs_background": "light"
     },
     "output_type": "display_data"
    }
   ],
   "source": [
    "plt.scatter(X_train,y_train)\n",
    "plt.plot(x_points,y_,'-r',label='y=w*x+b')\n",
    "\n",
    "plt.show()"
   ]
  },
  {
   "cell_type": "code",
   "execution_count": null,
   "metadata": {},
   "outputs": [],
   "source": []
  }
 ],
 "metadata": {
  "kernelspec": {
   "display_name": "Python 3",
   "language": "python",
   "name": "python3"
  },
  "language_info": {
   "codemirror_mode": {
    "name": "ipython",
    "version": 3
   },
   "file_extension": ".py",
   "mimetype": "text/x-python",
   "name": "python",
   "nbconvert_exporter": "python",
   "pygments_lexer": "ipython3",
   "version": "3.7.7"
  }
 },
 "nbformat": 4,
 "nbformat_minor": 2
}
