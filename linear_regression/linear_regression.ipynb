{
 "cells": [
  {
   "cell_type": "code",
   "execution_count": 1,
   "metadata": {},
   "outputs": [],
   "source": [
    "import numpy as np\n",
    "import pandas as pd\n",
    "import matplotlib.pyplot as plt\n",
    "import csv"
   ]
  },
  {
   "cell_type": "code",
   "execution_count": 2,
   "metadata": {},
   "outputs": [],
   "source": [
    "#回归模型主题\n",
    "def linear_loss(X,y,w,b):\n",
    "    num_train = X.shape[0]\n",
    "    num_feature = X.shape[1]\n",
    "    #模型公式\n",
    "    y_hat = np.dot(X,w) + b\n",
    "    #损失函数\n",
    "    loss = np.sum((y_hat - y)**2) / num_train#均方误差MSE损失函数\n",
    "    #参数的偏导\n",
    "    \n",
    "    # 对参数求导\n",
    "    dw = np.dot(X.T,(y_hat - y))/num_train   # 梯度------矩阵的推广形式，不是下面的公式形式\n",
    "    #dw = np.linalg.inv(X.T.dot(X)).dot(X.T).dot(y) # 解析解----loss反而增加，奇了怪了，\n",
    "    \n",
    "    db = np.sum((y_hat - y))/num_train  #这个用的是公式\n",
    "    return y_hat,loss,dw,db"
   ]
  },
  {
   "cell_type": "code",
   "execution_count": 3,
   "metadata": {},
   "outputs": [],
   "source": [
    "#函数初始化\n",
    "def initialize_params(dims):\n",
    "    w = np.zeros((dims,1))#注意是双层括号\n",
    "    b = 0\n",
    "    return w,b"
   ]
  },
  {
   "cell_type": "code",
   "execution_count": 4,
   "metadata": {},
   "outputs": [],
   "source": [
    "#梯度下降\n",
    "def linear_train(X,y,learning_rate,epochs):\n",
    "    w,b = initialize_params(X.shape[1])\n",
    "    loss_list = []\n",
    "    for i in range(1,epochs):\n",
    "        #计算当前预测值，损失和参数偏导\n",
    "        \n",
    "        y_hat,loss,dw,db = linear_loss(X,y,w,b)\n",
    "        loss_list.append(loss)\n",
    "        \n",
    "        #基于梯度下降的参数更新过程\n",
    "        \n",
    "        w+= -learning_rate * dw\n",
    "        \n",
    "        b+= -learning_rate * db\n",
    "        #打印迭代次数和损失\n",
    "        \n",
    "        \n",
    "        if i%10000 ==0:\n",
    "            print('epoch %d loss %f' %(i,loss))\n",
    "            \n",
    "        params = {\n",
    "            'w':w,\n",
    "            'b':b\n",
    "         }\n",
    "        grads={\n",
    "            'dw':dw,\n",
    "            'db':db\n",
    "        }\n",
    "    \n",
    "#     w = np.linalg.inv(X.T.dot(X)).dot(X.T).dot(y)\n",
    "#     #保存参数\n",
    "#     params = {\n",
    "#         'w':w,\n",
    "#         'b':b\n",
    "#      }    \n",
    "    \n",
    "    return loss_list,loss,params,grads"
   ]
  },
  {
   "cell_type": "code",
   "execution_count": 16,
   "metadata": {},
   "outputs": [],
   "source": [
    "from sklearn.datasets import load_diabetes\n",
    "from sklearn.utils import shuffle"
   ]
  },
  {
   "cell_type": "code",
   "execution_count": 17,
   "metadata": {},
   "outputs": [],
   "source": [
    "diabetes = load_diabetes()"
   ]
  },
  {
   "cell_type": "code",
   "execution_count": 27,
   "metadata": {},
   "outputs": [
    {
     "data": {
      "text/plain": [
       "(442, 10)"
      ]
     },
     "execution_count": 27,
     "metadata": {},
     "output_type": "execute_result"
    }
   ],
   "source": [
    "diabetes.data.shape"
   ]
  },
  {
   "cell_type": "code",
   "execution_count": 28,
   "metadata": {},
   "outputs": [],
   "source": [
    "\n",
    "data = diabetes.data[:,8]\n",
    "target = diabetes.target"
   ]
  },
  {
   "cell_type": "code",
   "execution_count": 29,
   "metadata": {},
   "outputs": [
    {
     "data": {
      "text/plain": [
       "array([ 0.01990842, -0.06832974,  0.00286377,  0.02269202, -0.03199144])"
      ]
     },
     "execution_count": 29,
     "metadata": {},
     "output_type": "execute_result"
    }
   ],
   "source": [
    "data[:5][:]"
   ]
  },
  {
   "cell_type": "code",
   "execution_count": 30,
   "metadata": {},
   "outputs": [
    {
     "data": {
      "text/plain": [
       "(442,)"
      ]
     },
     "execution_count": 30,
     "metadata": {},
     "output_type": "execute_result"
    }
   ],
   "source": [
    "data.shape"
   ]
  },
  {
   "cell_type": "code",
   "execution_count": 31,
   "metadata": {},
   "outputs": [
    {
     "name": "stdout",
     "output_type": "stream",
     "text": [
      "X_train= (397, 1)\n",
      "X_test= (45, 1)\n",
      "y_train= (397, 1)\n",
      "y_test= (45, 1)\n"
     ]
    }
   ],
   "source": [
    "#打乱数据\n",
    "X,y = shuffle(data,target,random_state = 13)\n",
    "X = X.astype(np.float32)\n",
    "\n",
    "#划分数据\n",
    "offset = int(X.shape[0]*0.9)\n",
    "X_train,y_train = X[:offset],y[:offset]\n",
    "X_test,y_test = X[offset:],y[offset:]\n",
    "X_train = X_train.reshape((-1,1))\n",
    "X_test = X_test.reshape((-1,1))\n",
    "y_train = y_train.reshape((-1,1))\n",
    "y_test = y_test.reshape((-1,1))\n",
    "\n",
    "print('X_train=',X_train.shape)\n",
    "print('X_test=',X_test.shape)\n",
    "print('y_train=',y_train.shape)\n",
    "print('y_test=',y_test.shape)"
   ]
  },
  {
   "cell_type": "code",
   "execution_count": 32,
   "metadata": {},
   "outputs": [
    {
     "data": {
      "image/png": "[encoded data removed]",
      "text/plain": [
       "<Figure size 432x288 with 1 Axes>"
      ]
     },
     "metadata": {
      "needs_background": "light"
     },
     "output_type": "display_data"
    }
   ],
   "source": [
    "plt.scatter(X,y)\n",
    "plt.show()"
   ]
  },
  {
   "cell_type": "code",
   "execution_count": 33,
   "metadata": {},
   "outputs": [
    {
     "name": "stdout",
     "output_type": "stream",
     "text": [
      "epoch 10000 loss 5820.560836\n",
      "epoch 20000 loss 5739.298624\n",
      "epoch 30000 loss 5661.687064\n",
      "epoch 40000 loss 5587.562111\n",
      "epoch 50000 loss 5516.767132\n",
      "epoch 60000 loss 5449.152533\n",
      "epoch 70000 loss 5384.575438\n",
      "epoch 80000 loss 5322.899392\n",
      "epoch 90000 loss 5263.994069\n"
     ]
    }
   ],
   "source": [
    "# 执行训练：\n",
    "loss_list,loss,params,grads = linear_train(X_train,y_train,0.001,100000)"
   ]
  },
  {
   "cell_type": "code",
   "execution_count": 34,
   "metadata": {},
   "outputs": [
    {
     "name": "stdout",
     "output_type": "stream",
     "text": [
      "{'w': array([[186.48967008]]), 'b': 151.60421348803413}\n"
     ]
    }
   ],
   "source": [
    "print(params)"
   ]
  },
  {
   "cell_type": "code",
   "execution_count": 35,
   "metadata": {},
   "outputs": [
    {
     "name": "stdout",
     "output_type": "stream",
     "text": [
      "coef 186.489670 interception 151.604213 \n"
     ]
    }
   ],
   "source": [
    "\n",
    "\n",
    "w = float(params['w'])\n",
    "b = float(params['b'])\n",
    "x_points = np.linspace(-0.1,0.15,10)\n",
    "print('coef %f interception %f '%(w,b))\n",
    "y_ = w*x_points + b"
   ]
  },
  {
   "cell_type": "code",
   "execution_count": 36,
   "metadata": {},
   "outputs": [
    {
     "data": {
      "image/png": "[encoded data removed]",
      "text/plain": [
       "<Figure size 432x288 with 1 Axes>"
      ]
     },
     "metadata": {
      "needs_background": "light"
     },
     "output_type": "display_data"
    }
   ],
   "source": [
    "plt.scatter(X_train,y_train)\n",
    "plt.plot(x_points,y_,'-r',label='y=w*x+b')\n",
    "\n",
    "plt.show()"
   ]
  },
  {
   "cell_type": "code",
   "execution_count": 37,
   "metadata": {},
   "outputs": [
    {
     "data": {
      "text/plain": [
       "array([[150.98810524],\n",
       "       [146.76435434],\n",
       "       [154.91691877],\n",
       "       [147.40592607],\n",
       "       [152.91465073]])"
      ]
     },
     "execution_count": 37,
     "metadata": {},
     "output_type": "execute_result"
    }
   ],
   "source": [
    "def predict(X,params):\n",
    "    w = params['w']\n",
    "    b = params['b']\n",
    "    \n",
    "    y_pred = np.dot(X,w)+b\n",
    "    \n",
    "    return y_pred\n",
    "y_pred = predict(X_test,params)\n",
    "y_pred[:5]"
   ]
  },
  {
   "cell_type": "code",
   "execution_count": 38,
   "metadata": {},
   "outputs": [
    {
     "data": {
      "image/png": "[encoded data removed]",
      "text/plain": [
       "<Figure size 432x288 with 1 Axes>"
      ]
     },
     "metadata": {
      "needs_background": "light"
     },
     "output_type": "display_data"
    }
   ],
   "source": [
    "#对预测结果和真值进行展示：\n",
    "f = X_test.dot(params['w']) + params['b']\n",
    "\n",
    "plt.scatter(range(X_test.shape[0]),y_test)\n",
    "plt.plot(f,color = 'darkorange')\n",
    "plt.xlabel('X')\n",
    "plt.ylabel('y')\n",
    "plt.show()"
   ]
  },
  {
   "cell_type": "markdown",
   "metadata": {},
   "source": [
    "## 可见全变量的数据对于线性回归模型的拟合并不好，一来数据本身的分布问题，二来简单的线性模型对于该数据拟合效果差。"
   ]
  },
  {
   "cell_type": "code",
   "execution_count": 39,
   "metadata": {},
   "outputs": [
    {
     "data": {
      "image/png": "[encoded data removed]",
      "text/plain": [
       "<Figure size 432x288 with 1 Axes>"
      ]
     },
     "metadata": {
      "needs_background": "light"
     },
     "output_type": "display_data"
    }
   ],
   "source": [
    "#   训练过程中损失的下降：\n",
    "plt.plot(loss_list,color = 'blue')\n",
    "plt.xlabel('epochs')\n",
    "plt.ylabel('loss')\n",
    "plt.show()"
   ]
  },
  {
   "cell_type": "markdown",
   "metadata": {},
   "source": [
    "### 用随机数据实验"
   ]
  },
  {
   "cell_type": "code",
   "execution_count": 64,
   "metadata": {},
   "outputs": [
    {
     "name": "stdout",
     "output_type": "stream",
     "text": [
      "(200,)\n"
     ]
    },
    {
     "data": {
      "text/plain": [
       "array([0.        , 0.25125628, 0.50251256, 0.75376884, 1.00502513])"
      ]
     },
     "execution_count": 64,
     "metadata": {},
     "output_type": "execute_result"
    }
   ],
   "source": [
    "# test\n",
    "a = np.linspace(0,50,200)\n",
    "print(a.shape)\n",
    "a[:5]"
   ]
  },
  {
   "cell_type": "code",
   "execution_count": 67,
   "metadata": {},
   "outputs": [
    {
     "data": {
      "text/plain": [
       "(200,)"
      ]
     },
     "execution_count": 67,
     "metadata": {},
     "output_type": "execute_result"
    }
   ],
   "source": [
    "b  = np.random.randn(*a.shape)  # 解包a.shape\n",
    "b.shape"
   ]
  },
  {
   "cell_type": "code",
   "execution_count": 120,
   "metadata": {},
   "outputs": [
    {
     "name": "stdout",
     "output_type": "stream",
     "text": [
      "1\n"
     ]
    },
    {
     "data": {
      "text/plain": [
       "(10,)"
      ]
     },
     "execution_count": 120,
     "metadata": {},
     "output_type": "execute_result"
    }
   ],
   "source": [
    "c = np.random.randn(10)\n",
    "print(c.ndim)\n",
    "c.shape"
   ]
  },
  {
   "cell_type": "code",
   "execution_count": 121,
   "metadata": {},
   "outputs": [
    {
     "name": "stdout",
     "output_type": "stream",
     "text": [
      "1\n",
      "(10, 1)\n"
     ]
    }
   ],
   "source": [
    "# 重新赋值给c才会转二维\n",
    "print(c.ndim)\n",
    "c = c.reshape((-1,1)) \n",
    "print(c.shape)"
   ]
  },
  {
   "cell_type": "code",
   "execution_count": 94,
   "metadata": {},
   "outputs": [],
   "source": [
    "# 设置随机数种子，确保固定方式的随机数,其实可以自己选不带也可以\n",
    "np.random.seed(5)\n",
    "x_data=np.linspace(0,50,200)\n",
    "# 生成y=1.1234x+2.98+噪声,噪声维度和x_data一致\n",
    "y_data=3.1234*x_data+2.98+np.random.randn(*x_data.shape)*10"
   ]
  },
  {
   "cell_type": "code",
   "execution_count": 95,
   "metadata": {},
   "outputs": [],
   "source": [
    "##字典中的key值即为csv中列名\n",
    "dataframe = pd.DataFrame({'x_data':x_data,'y_data':y_data})\n",
    "\n",
    "#将DataFrame存储为csv,index表示是否显示行名，default=True\n",
    "dataframe.to_csv(\"test.csv\",index=False,sep=',')"
   ]
  },
  {
   "cell_type": "code",
   "execution_count": 96,
   "metadata": {},
   "outputs": [
    {
     "data": {
      "text/plain": [
       "<matplotlib.collections.PathCollection at 0x7f57a8be8610>"
      ]
     },
     "execution_count": 96,
     "metadata": {},
     "output_type": "execute_result"
    },
    {
     "data": {
      "image/png": "[encoded data removed]",
      "text/plain": [
       "<Figure size 432x288 with 1 Axes>"
      ]
     },
     "metadata": {
      "needs_background": "light"
     },
     "output_type": "display_data"
    }
   ],
   "source": [
    "plt.scatter(x_data,y_data)"
   ]
  },
  {
   "cell_type": "code",
   "execution_count": 97,
   "metadata": {},
   "outputs": [
    {
     "data": {
      "text/plain": [
       "(200, 2)"
      ]
     },
     "execution_count": 97,
     "metadata": {},
     "output_type": "execute_result"
    }
   ],
   "source": [
    "data = pd.read_csv('test.csv')\n",
    "data.shape"
   ]
  },
  {
   "cell_type": "code",
   "execution_count": 99,
   "metadata": {},
   "outputs": [
    {
     "data": {
      "text/html": [
       "<div>\n",
       "<style scoped>\n",
       "    .dataframe tbody tr th:only-of-type {\n",
       "        vertical-align: middle;\n",
       "    }\n",
       "\n",
       "    .dataframe tbody tr th {\n",
       "        vertical-align: top;\n",
       "    }\n",
       "\n",
       "    .dataframe thead th {\n",
       "        text-align: right;\n",
       "    }\n",
       "</style>\n",
       "<table border=\"1\" class=\"dataframe\">\n",
       "  <thead>\n",
       "    <tr style=\"text-align: right;\">\n",
       "      <th></th>\n",
       "      <th>x_data</th>\n",
       "      <th>y_data</th>\n",
       "    </tr>\n",
       "  </thead>\n",
       "  <tbody>\n",
       "    <tr>\n",
       "      <th>0</th>\n",
       "      <td>0.000000</td>\n",
       "      <td>7.392275</td>\n",
       "    </tr>\n",
       "    <tr>\n",
       "      <th>1</th>\n",
       "      <td>0.251256</td>\n",
       "      <td>0.456072</td>\n",
       "    </tr>\n",
       "    <tr>\n",
       "      <th>2</th>\n",
       "      <td>0.502513</td>\n",
       "      <td>28.857260</td>\n",
       "    </tr>\n",
       "    <tr>\n",
       "      <th>3</th>\n",
       "      <td>0.753769</td>\n",
       "      <td>2.813400</td>\n",
       "    </tr>\n",
       "    <tr>\n",
       "      <th>4</th>\n",
       "      <td>1.005025</td>\n",
       "      <td>7.215194</td>\n",
       "    </tr>\n",
       "  </tbody>\n",
       "</table>\n",
       "</div>"
      ],
      "text/plain": [
       "     x_data     y_data\n",
       "0  0.000000   7.392275\n",
       "1  0.251256   0.456072\n",
       "2  0.502513  28.857260\n",
       "3  0.753769   2.813400\n",
       "4  1.005025   7.215194"
      ]
     },
     "execution_count": 99,
     "metadata": {},
     "output_type": "execute_result"
    }
   ],
   "source": [
    "data.head()"
   ]
  },
  {
   "cell_type": "code",
   "execution_count": 100,
   "metadata": {},
   "outputs": [],
   "source": [
    "x_data = np.array(data['x_data'])\n",
    "y_data = np.array(data['y_data'])"
   ]
  },
  {
   "cell_type": "code",
   "execution_count": 101,
   "metadata": {},
   "outputs": [
    {
     "data": {
      "text/plain": [
       "numpy.float64"
      ]
     },
     "execution_count": 101,
     "metadata": {},
     "output_type": "execute_result"
    }
   ],
   "source": [
    "type(x_data[0])"
   ]
  },
  {
   "cell_type": "code",
   "execution_count": 122,
   "metadata": {},
   "outputs": [
    {
     "name": "stdout",
     "output_type": "stream",
     "text": [
      "\n",
      "\n",
      "X_train= (180, 1)\n",
      "X_test= (20, 1)\n",
      "y_train= (180, 1)\n",
      "y_test= (20, 1)\n"
     ]
    }
   ],
   "source": [
    "#打乱数据\n",
    "X,y = shuffle(x_data,y_data,random_state = 13)\n",
    "X = X.astype(np.float32)\n",
    "\n",
    "#划分数据\n",
    "offset = int(X.shape[0]*0.9)\n",
    "X_train,y_train = X[:offset],y[:offset]\n",
    "X_test,y_test = X[offset:],y[offset:]\n",
    "\n",
    "X_train = X_train.reshape((-1,1))\n",
    "X_test = X_test.reshape((-1,1))\n",
    "y_train = y_train.reshape((-1,1))\n",
    "y_test = y_test.reshape((-1,1))\n",
    "print('\\n')\n",
    "print('X_train=',X_train.shape)\n",
    "print('X_test=',X_test.shape)\n",
    "print('y_train=',y_train.shape)\n",
    "print('y_test=',y_test.shape)"
   ]
  },
  {
   "cell_type": "code",
   "execution_count": 123,
   "metadata": {},
   "outputs": [
    {
     "name": "stdout",
     "output_type": "stream",
     "text": [
      "epoch 10000 loss 98.120874\n",
      "epoch 20000 loss 98.103230\n",
      "epoch 30000 loss 98.103128\n",
      "epoch 40000 loss 98.103127\n",
      "epoch 50000 loss 98.103127\n",
      "epoch 60000 loss 98.103127\n",
      "epoch 70000 loss 98.103127\n",
      "epoch 80000 loss 98.103127\n",
      "epoch 90000 loss 98.103127\n"
     ]
    }
   ],
   "source": [
    "loss_list,loss,params,grads = linear_train(X_train,y_train,0.001,100000)"
   ]
  },
  {
   "cell_type": "code",
   "execution_count": 124,
   "metadata": {},
   "outputs": [
    {
     "data": {
      "text/plain": [
       "{'w': array([[3.13014483]]), 'b': 3.5436827262219017}"
      ]
     },
     "execution_count": 124,
     "metadata": {},
     "output_type": "execute_result"
    }
   ],
   "source": [
    "params"
   ]
  },
  {
   "cell_type": "code",
   "execution_count": 125,
   "metadata": {},
   "outputs": [
    {
     "name": "stdout",
     "output_type": "stream",
     "text": [
      "coef: 3.130145 ,interception: 3.543683 \n"
     ]
    }
   ],
   "source": [
    "w = float(params['w'])\n",
    "b = float(params['b'])\n",
    "x_points = np.linspace(0,50,20)\n",
    "print('coef: %f ,interception: %f '%(w,b))\n",
    "y_ = w*x_points + b"
   ]
  },
  {
   "cell_type": "code",
   "execution_count": 126,
   "metadata": {},
   "outputs": [
    {
     "data": {
      "image/png": "[encoded data removed]",
      "text/plain": [
       "<Figure size 432x288 with 1 Axes>"
      ]
     },
     "metadata": {
      "needs_background": "light"
     },
     "output_type": "display_data"
    }
   ],
   "source": [
    "plt.scatter(X_train,y_train)\n",
    "plt.plot(x_points,y_,'-r',label='y=w*x+b')\n",
    "plt.xlabel('Square')\n",
    "plt.ylabel('Price')\n",
    "plt.show()"
   ]
  },
  {
   "cell_type": "code",
   "execution_count": 127,
   "metadata": {},
   "outputs": [
    {
     "data": {
      "text/plain": [
       "array([[152.18624184],\n",
       "       [120.72750062],\n",
       "       [119.15455938],\n",
       "       [129.37864759],\n",
       "       [  5.11661986]])"
      ]
     },
     "execution_count": 127,
     "metadata": {},
     "output_type": "execute_result"
    }
   ],
   "source": [
    "def predict(X,params):\n",
    "    w = params['w']\n",
    "    b = params['b']\n",
    "    \n",
    "    y_pred = np.dot(X,w)+b\n",
    "    \n",
    "    return y_pred\n",
    "y_pred = predict(X_test,params)\n",
    "y_pred[:5]"
   ]
  },
  {
   "cell_type": "code",
   "execution_count": 128,
   "metadata": {},
   "outputs": [
    {
     "data": {
      "image/png": "[encoded data removed]",
      "text/plain": [
       "<Figure size 432x288 with 1 Axes>"
      ]
     },
     "metadata": {
      "needs_background": "light"
     },
     "output_type": "display_data"
    }
   ],
   "source": [
    "f = X_test.dot(params['w']) + params['b']\n",
    "\n",
    "plt.scatter(range(X_test.shape[0]),y_test)\n",
    "plt.plot(f,color = 'darkorange')\n",
    "plt.xlabel('X')\n",
    "plt.ylabel('y')\n",
    "plt.show()"
   ]
  },
  {
   "cell_type": "code",
   "execution_count": 29,
   "metadata": {},
   "outputs": [
    {
     "data": {
      "image/png": "[encoded data removed]",
      "text/plain": [
       "<Figure size 432x288 with 1 Axes>"
      ]
     },
     "metadata": {
      "needs_background": "light"
     },
     "output_type": "display_data"
    }
   ],
   "source": [
    "#   训练过程中损失的下降：\n",
    "plt.plot(loss_list,color = 'blue')\n",
    "plt.xlabel('epochs')\n",
    "plt.ylabel('loss')\n",
    "plt.show()"
   ]
  },
  {
   "cell_type": "code",
   "execution_count": null,
   "metadata": {},
   "outputs": [],
   "source": []
  },
  {
   "cell_type": "code",
   "execution_count": null,
   "metadata": {},
   "outputs": [],
   "source": []
  }
 ],
 "metadata": {
  "kernelspec": {
   "display_name": "Python [conda env:tf2]",
   "language": "python",
   "name": "conda-env-tf2-py"
  },
  "language_info": {
   "codemirror_mode": {
    "name": "ipython",
    "version": 3
   },
   "file_extension": ".py",
   "mimetype": "text/x-python",
   "name": "python",
   "nbconvert_exporter": "python",
   "pygments_lexer": "ipython3",
   "version": "3.7.7"
  }
 },
 "nbformat": 4,
 "nbformat_minor": 2
}
