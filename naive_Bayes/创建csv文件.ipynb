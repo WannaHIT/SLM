{
 "cells": [
  {
   "cell_type": "code",
   "execution_count": 14,
   "id": "specialized-preserve",
   "metadata": {},
   "outputs": [],
   "source": [
    "#coding=utf-8\n",
    "'''\n",
    "Mnsit原始数据集为字符格式，将数据集转换为cvs格式，\n",
    "后续代码都会在cvs文件的基础上进行编写，这样大家看代码也能清楚很多\n",
    "代码由以下网址提供，表示感谢。\n",
    "https://pjreddie.com/projects/mnist-in-csv/\n",
    "该py文件属于一个补充，不使用也不影响后续算法的实践。\n",
    "转换后的CVS文件在Mnist文件夹中\n",
    "'''\n",
    "def convert(imgf, labelf, outf, n):\n",
    "    f = open(imgf, \"rb\")\n",
    "    o = open(outf, \"w\")\n",
    "    l = open(labelf, \"rb\")\n",
    "\n",
    "    f.read(16)\n",
    "    l.read(8)\n",
    "    images = []\n",
    "\n",
    "    for i in range(n):\n",
    "        image = [ord(l.read(1))]\n",
    "        for j in range(28*28):\n",
    "            image.append(ord(f.read(1)))\n",
    "        images.append(image)\n",
    "\n",
    "    for image in images:\n",
    "        o.write(\",\".join(str(pix) for pix in image)+\"\\n\")\n",
    "    f.close()\n",
    "    o.close()\n",
    "    l.close()\n",
    "\n"
   ]
  },
  {
   "cell_type": "code",
   "execution_count": 15,
   "id": "standard-morgan",
   "metadata": {
    "scrolled": true
   },
   "outputs": [],
   "source": [
    "\n",
    "convert(\"./Mnist//t10k-images.idx3-ubyte\", \"./Mnist//t10k-labels.idx1-ubyte\",\n",
    "        \"./Mnist//mnist_test.csv\", 10000)\n",
    "convert(\"./Mnist//train-images.idx3-ubyte\", \"./Mnist//train-labels.idx1-ubyte\",\n",
    "        \"./Mnist//mnist_train.csv\", 60000)"
   ]
  },
  {
   "cell_type": "code",
   "execution_count": null,
   "id": "thick-horror",
   "metadata": {},
   "outputs": [],
   "source": []
  }
 ],
 "metadata": {
  "kernelspec": {
   "display_name": "Python [conda env:tf2] *",
   "language": "python",
   "name": "conda-env-tf2-py"
  },
  "language_info": {
   "codemirror_mode": {
    "name": "ipython",
    "version": 3
   },
   "file_extension": ".py",
   "mimetype": "text/x-python",
   "name": "python",
   "nbconvert_exporter": "python",
   "pygments_lexer": "ipython3",
   "version": "3.7.9"
  }
 },
 "nbformat": 4,
 "nbformat_minor": 5
}
