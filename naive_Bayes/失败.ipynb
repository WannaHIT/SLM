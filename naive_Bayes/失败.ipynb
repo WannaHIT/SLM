{
 "cells": [
  {
   "cell_type": "code",
   "execution_count": 1,
   "id": "heard-curve",
   "metadata": {},
   "outputs": [],
   "source": [
    "import numpy as np \n",
    "import pandas as pd\n",
    "import time \n",
    "import math\n",
    "from sklearn.model_selection import train_test_split"
   ]
  },
  {
   "cell_type": "code",
   "execution_count": 20,
   "id": "impaired-moldova",
   "metadata": {},
   "outputs": [],
   "source": [
    "df = pd.read_csv('mnist_train.csv')"
   ]
  },
  {
   "cell_type": "code",
   "execution_count": 21,
   "id": "strong-intersection",
   "metadata": {},
   "outputs": [
    {
     "data": {
      "text/plain": [
       "array([[0, 0, 1],\n",
       "       [1, 1, 2]])"
      ]
     },
     "execution_count": 21,
     "metadata": {},
     "output_type": "execute_result"
    }
   ],
   "source": [
    "a = np.array([[1,2,3],\n",
    "             [4,5,6]])\n",
    "a = np.floor_divide(a,3)\n",
    "a"
   ]
  },
  {
   "cell_type": "code",
   "execution_count": 22,
   "id": "contemporary-aside",
   "metadata": {},
   "outputs": [],
   "source": [
    "def create_data(df):\n",
    "     \n",
    "\n",
    "    data = np.array(df.iloc[:,:])\n",
    "    \n",
    "    X = data[:,1:]\n",
    "    y = data[:,0]\n",
    "    \n",
    "    [rows, cols] = data.shape\n",
    "    #此外将数据进行了二值化处理，大于128的转换成1，小于的转换成0，方便后续计算\n",
    "    #\n",
    "    X = np.floor_divide(X,128)#整除\n",
    "        \n",
    "    return X,y"
   ]
  },
  {
   "cell_type": "code",
   "execution_count": null,
   "id": "toxic-laser",
   "metadata": {},
   "outputs": [],
   "source": []
  },
  {
   "cell_type": "code",
   "execution_count": 23,
   "id": "prepared-hammer",
   "metadata": {},
   "outputs": [],
   "source": [
    "X_train, y_train = create_data(df)"
   ]
  },
  {
   "cell_type": "code",
   "execution_count": 6,
   "id": "impaired-syntax",
   "metadata": {},
   "outputs": [
    {
     "data": {
      "text/plain": [
       "60000"
      ]
     },
     "execution_count": 6,
     "metadata": {},
     "output_type": "execute_result"
    }
   ],
   "source": [
    "len(X_train)"
   ]
  },
  {
   "cell_type": "code",
   "execution_count": 7,
   "id": "pleasant-death",
   "metadata": {},
   "outputs": [
    {
     "ename": "NameError",
     "evalue": "name 'y' is not defined",
     "output_type": "error",
     "traceback": [
      "\u001b[0;31m---------------------------------------------------------------------------\u001b[0m",
      "\u001b[0;31mNameError\u001b[0m                                 Traceback (most recent call last)",
      "\u001b[0;32m<ipython-input-7-3d861059fa55>\u001b[0m in \u001b[0;36m<module>\u001b[0;34m\u001b[0m\n\u001b[0;32m----> 1\u001b[0;31m \u001b[0my\u001b[0m\u001b[0;34m.\u001b[0m\u001b[0mshape\u001b[0m\u001b[0;34m\u001b[0m\u001b[0;34m\u001b[0m\u001b[0m\n\u001b[0m",
      "\u001b[0;31mNameError\u001b[0m: name 'y' is not defined"
     ]
    }
   ],
   "source": [
    "y.shape"
   ]
  },
  {
   "cell_type": "code",
   "execution_count": 8,
   "id": "opponent-interface",
   "metadata": {},
   "outputs": [
    {
     "ename": "NameError",
     "evalue": "name 'X' is not defined",
     "output_type": "error",
     "traceback": [
      "\u001b[0;31m---------------------------------------------------------------------------\u001b[0m",
      "\u001b[0;31mNameError\u001b[0m                                 Traceback (most recent call last)",
      "\u001b[0;32m<ipython-input-8-bc5f1a0adac8>\u001b[0m in \u001b[0;36m<module>\u001b[0;34m\u001b[0m\n\u001b[0;32m----> 1\u001b[0;31m \u001b[0mX\u001b[0m\u001b[0;34m.\u001b[0m\u001b[0mshape\u001b[0m\u001b[0;34m\u001b[0m\u001b[0;34m\u001b[0m\u001b[0m\n\u001b[0m",
      "\u001b[0;31mNameError\u001b[0m: name 'X' is not defined"
     ]
    }
   ],
   "source": [
    "X.shape"
   ]
  },
  {
   "cell_type": "code",
   "execution_count": 9,
   "id": "outdoor-lloyd",
   "metadata": {},
   "outputs": [
    {
     "ename": "NameError",
     "evalue": "name 'X' is not defined",
     "output_type": "error",
     "traceback": [
      "\u001b[0;31m---------------------------------------------------------------------------\u001b[0m",
      "\u001b[0;31mNameError\u001b[0m                                 Traceback (most recent call last)",
      "\u001b[0;32m<ipython-input-9-ee5ed1359a37>\u001b[0m in \u001b[0;36m<module>\u001b[0;34m\u001b[0m\n\u001b[0;32m----> 1\u001b[0;31m \u001b[0mX\u001b[0m\u001b[0;34m.\u001b[0m\u001b[0mshape\u001b[0m\u001b[0;34m[\u001b[0m\u001b[0;36m0\u001b[0m\u001b[0;34m]\u001b[0m\u001b[0;34m\u001b[0m\u001b[0;34m\u001b[0m\u001b[0m\n\u001b[0m",
      "\u001b[0;31mNameError\u001b[0m: name 'X' is not defined"
     ]
    }
   ],
   "source": [
    "X.shape[0]"
   ]
  },
  {
   "cell_type": "code",
   "execution_count": 10,
   "id": "opposed-profession",
   "metadata": {},
   "outputs": [
    {
     "ename": "NameError",
     "evalue": "name 'X' is not defined",
     "output_type": "error",
     "traceback": [
      "\u001b[0;31m---------------------------------------------------------------------------\u001b[0m",
      "\u001b[0;31mNameError\u001b[0m                                 Traceback (most recent call last)",
      "\u001b[0;32m<ipython-input-10-c064ac530901>\u001b[0m in \u001b[0;36m<module>\u001b[0;34m\u001b[0m\n\u001b[0;32m----> 1\u001b[0;31m \u001b[0mlen\u001b[0m\u001b[0;34m(\u001b[0m\u001b[0mX\u001b[0m\u001b[0;34m[\u001b[0m\u001b[0;36m0\u001b[0m\u001b[0;34m]\u001b[0m\u001b[0;34m)\u001b[0m\u001b[0;34m\u001b[0m\u001b[0;34m\u001b[0m\u001b[0m\n\u001b[0m",
      "\u001b[0;31mNameError\u001b[0m: name 'X' is not defined"
     ]
    }
   ],
   "source": [
    "len(X[0])"
   ]
  },
  {
   "cell_type": "code",
   "execution_count": null,
   "id": "vietnamese-waters",
   "metadata": {},
   "outputs": [],
   "source": []
  },
  {
   "cell_type": "code",
   "execution_count": 24,
   "id": "protected-pickup",
   "metadata": {},
   "outputs": [],
   "source": [
    "class NaiveBayes():\n",
    "    def __init__(self):\n",
    "        self.model = None\n",
    "        \n",
    "    # 数学期望\n",
    "    @staticmethod\n",
    "    #返回函数的静态方法\n",
    "    #该方法不强制要求传递参数 \"\"\"\n",
    "    def mean(X):\n",
    "        return sum(X) / float(len(X))\n",
    "    \n",
    "    # 标准差（方差）\n",
    "    def stdev(self,X):\n",
    "        avg = self.mean(X)\n",
    "        return math.sqrt(sum([pow(x - avg, 2) for x in X])/ float(len(X)))\n",
    "    \n",
    "    # 概率密度函数\n",
    "    #将 math.pow 换成了 np.power.将 math.exp 换成了 np.exp这个很关键，让下面的测试通过了\n",
    "    def gaussian_probablity(self,x,mean,stdev):\n",
    "        exponent = np.exp(-(np.power(x - mean,2) /  (2 * np.power(stdev,2)+1))) \n",
    "        return (1 / ((np.sqrt(2 * math.pi) * stdev)+1)) * exponent\n",
    "    \n",
    "\n",
    "    # 处理X_train\n",
    "    def summarize(self,train_data):\n",
    "        # zip函数将数据实例中每个属性的值分组到它们自己的列表中，以便我们可以计算属性的均值和标准差值。\n",
    "        summaries = [(self.mean(i),self.stdev(i)) for i in zip(*train_data)]        \n",
    "        return summaries\n",
    "    \n",
    "    # 分类别求出数学期望和标准差\n",
    "    def fit(self,X,y):\n",
    "        #set() 函数创建一个无序不重复元素集\n",
    "        labels = list(set(y))\n",
    "        data = {label: [] for label in labels}\n",
    "        for f,label in zip(X, y):\n",
    "            data[label].append(f)\n",
    "        self.model = {\n",
    "                label:self.summarize(value)\n",
    "                for label, value in data.items()\n",
    "            }\n",
    "        return 'gussianNB train Done!'\n",
    "    \n",
    "    # 计算概率（计算属于某个类的属性的概率）\n",
    "    def calculate_probabilities(self,input_data):\n",
    "        probabilities = {}\n",
    "        for label,value in self.model.items():\n",
    "            probabilities[label] = 1\n",
    "            #probabilities[label] = 0\n",
    "            for i in range(len(value)):\n",
    "                mean,stdev = value[i]\n",
    "                probabilities[label] *= self.gaussian_probablity(input_data[i], mean, stdev)\n",
    "                #probabilities[label] += np.log(self.gaussian_probablity(input_data[i], mean, stdev))\n",
    "                \n",
    "        return probabilities\n",
    "    \n",
    "    # 类别 ,注意下面的实例model测试的时候，X_test传入的是 一维的\n",
    "    def predict(self, X_test):\n",
    "        label = sorted(\n",
    "            self.calculate_probabilities(X_test).items(),\n",
    "            key=lambda x: x[-1])[-1][0]\n",
    "        return label\n",
    "\n",
    "    def score(self, X_test, y_test):\n",
    "        right = 0\n",
    "        for X, y in zip(X_test, y_test):\n",
    "            label = self.predict(X)\n",
    "            if label == y:\n",
    "                right += 1\n",
    "\n",
    "        return right / float(len(X_test))\n",
    "    "
   ]
  },
  {
   "cell_type": "code",
   "execution_count": 25,
   "id": "vocal-record",
   "metadata": {},
   "outputs": [],
   "source": [
    "model = NaiveBayes()"
   ]
  },
  {
   "cell_type": "code",
   "execution_count": 26,
   "id": "quick-drinking",
   "metadata": {},
   "outputs": [
    {
     "data": {
      "text/plain": [
       "'gussianNB train Done!'"
      ]
     },
     "execution_count": 26,
     "metadata": {},
     "output_type": "execute_result"
    }
   ],
   "source": [
    "model.fit(X_train, y_train)"
   ]
  },
  {
   "cell_type": "code",
   "execution_count": 27,
   "id": "sharp-double",
   "metadata": {},
   "outputs": [],
   "source": [
    "#model.predict(X_train[299])"
   ]
  },
  {
   "cell_type": "code",
   "execution_count": 28,
   "id": "opening-queen",
   "metadata": {},
   "outputs": [],
   "source": [
    "df1 = pd.read_csv('mnist_test.csv')"
   ]
  },
  {
   "cell_type": "code",
   "execution_count": 29,
   "id": "compact-invasion",
   "metadata": {},
   "outputs": [],
   "source": [
    "xtest,ytest = create_data(df1)\n",
    "X_train,X_test,y_train,y_test = train_test_split(xtest,ytest,test_size = 0.3)"
   ]
  },
  {
   "cell_type": "code",
   "execution_count": 30,
   "id": "oriented-munich",
   "metadata": {},
   "outputs": [
    {
     "data": {
      "text/plain": [
       "0.116"
      ]
     },
     "execution_count": 30,
     "metadata": {},
     "output_type": "execute_result"
    }
   ],
   "source": [
    "model.score(X_test, y_test)"
   ]
  },
  {
   "cell_type": "code",
   "execution_count": null,
   "id": "monthly-calculation",
   "metadata": {},
   "outputs": [],
   "source": []
  }
 ],
 "metadata": {
  "kernelspec": {
   "display_name": "Python [conda env:tf2] *",
   "language": "python",
   "name": "conda-env-tf2-py"
  },
  "language_info": {
   "codemirror_mode": {
    "name": "ipython",
    "version": 3
   },
   "file_extension": ".py",
   "mimetype": "text/x-python",
   "name": "python",
   "nbconvert_exporter": "python",
   "pygments_lexer": "ipython3",
   "version": "3.7.9"
  }
 },
 "nbformat": 4,
 "nbformat_minor": 5
}
