{
 "cells": [
  {
   "cell_type": "markdown",
   "id": "right-metro",
   "metadata": {},
   "source": [
    "## 朴素贝叶斯分类器就是一个对所有可能性求概率的模型，最后输出结果中哪种可能性高就输出哪种。"
   ]
  },
  {
   "cell_type": "code",
   "execution_count": 13,
   "id": "coated-donor",
   "metadata": {},
   "outputs": [],
   "source": [
    "import numpy as np\n",
    "import pandas as pd\n",
    "import matplotlib.pyplot as plt\n",
    "%matplotlib inline\n",
    "\n",
    "from sklearn.datasets import load_iris\n",
    "from sklearn.model_selection import train_test_split\n",
    "\n",
    "from collections import Counter\n",
    "import math"
   ]
  },
  {
   "cell_type": "code",
   "execution_count": 14,
   "id": "egyptian-batch",
   "metadata": {},
   "outputs": [],
   "source": [
    "def create_data():\n",
    "    iris = load_iris()\n",
    "    df = pd.DataFrame(iris.data,columns=iris.feature_names)\n",
    "    df['label'] = iris.target\n",
    "    df.columns = ['sepal length', 'sepal width', 'petal length', 'petal width', 'label']\n",
    "    #data = np.array(df.iloc[:100,:])\n",
    "    data = np.array(df.iloc[:,:])\n",
    "    return data[:,:-1],data[:,-1]"
   ]
  },
  {
   "cell_type": "code",
   "execution_count": 15,
   "id": "analyzed-cleaning",
   "metadata": {},
   "outputs": [],
   "source": [
    "X,y = create_data()\n",
    "X_train,X_test,y_train,y_test = train_test_split(X,y,test_size = 0.3)"
   ]
  },
  {
   "cell_type": "code",
   "execution_count": 16,
   "id": "signal-questionnaire",
   "metadata": {},
   "outputs": [
    {
     "data": {
      "text/plain": [
       "(array([5.5, 2.4, 3.8, 1.1]), 1.0)"
      ]
     },
     "execution_count": 16,
     "metadata": {},
     "output_type": "execute_result"
    }
   ],
   "source": [
    "X_test[0],y_test[0]"
   ]
  },
  {
   "cell_type": "markdown",
   "id": "satisfactory-teacher",
   "metadata": {},
   "source": [
    "##  GaussianNB 高斯朴素贝叶斯¶\n",
    "特征的可能性被假设为高斯\n",
    "\n",
    "概率密度函数：$$P(x_i | y_k)=\\frac{1}{\\sqrt{2\\pi\\sigma^2_{yk}}}exp(-\\frac{(x_i-\\mu_{yk})^2}{2\\sigma^2_{yk}})$$\n",
    "\n",
    "数学期望(mean)：$\\mu$\n",
    "\n",
    "方差：$\\sigma^2=\\frac{\\sum(X-\\mu)^2}{N}$"
   ]
  },
  {
   "cell_type": "code",
   "execution_count": 17,
   "id": "major-leadership",
   "metadata": {},
   "outputs": [],
   "source": [
    "class NaiveBayes():\n",
    "    def __init__(self):\n",
    "        self.model = None\n",
    "        \n",
    "    # 数学期望\n",
    "    @staticmethod\n",
    "    #返回函数的静态方法\n",
    "    #该方法不强制要求传递参数 \"\"\"\n",
    "    def mean(X):\n",
    "        return sum(X) / float(len(X))\n",
    "    \n",
    "    # 标准差（方差）\n",
    "    def stdev(self,X):\n",
    "        avg = self.mean(X)\n",
    "        return math.sqrt(sum([pow(x - avg, 2) for x in X])/ float(len(X)))\n",
    "    \n",
    "    # 概率密度函数\n",
    "    #将 math.pow 换成了 np.power.将 math.exp 换成了 np.exp这个很关键，让下面的测试通过了\n",
    "    def gaussian_probablity(self,x,mean,stdev):\n",
    "        #exponent = np.exp(-(np.power(x - mean,2) /  (2 * np.power(stdev,2)))) \n",
    "        #return (1 / (np.sqrt(2 * math.pi) * stdev)) * exponent\n",
    "        \n",
    "        exponent = np.exp(-(np.power(x - mean,2) /  (2 * np.power(stdev,2)+1))) \n",
    "        return (1 / ((np.sqrt(2 * math.pi) * stdev)+1)) * exponent\n",
    "    \n",
    "\n",
    "    # 处理X_train\n",
    "    def summarize(self,train_data):\n",
    "        # zip函数将数据实例中每个属性的值分组到它们自己的列表中，以便我们可以计算属性的均值和标准差值。\n",
    "        summaries = [(self.mean(i),self.stdev(i)) for i in zip(*train_data)]        \n",
    "        return summaries\n",
    "    \n",
    "    # 分类别求出数学期望和标准差\n",
    "    def fit(self,X,y):\n",
    "        #set() 函数创建一个无序不重复元素集\n",
    "        labels = list(set(y))\n",
    "        data = {label: [] for label in labels}\n",
    "        for f,label in zip(X, y):\n",
    "            data[label].append(f)\n",
    "        self.model = {\n",
    "                label:self.summarize(value)\n",
    "                for label, value in data.items()\n",
    "            }\n",
    "        return 'gussianNB train Done!'\n",
    "    \n",
    "    # 计算概率（计算属于某个类的属性的概率）\n",
    "    def calculate_probabilities(self,input_data):\n",
    "        probabilities = {}\n",
    "        for label,value in self.model.items():\n",
    "            probabilities[label] = 0\n",
    "            #probabilities[label] = 1\n",
    "            for i in range(len(value)):\n",
    "                mean,stdev = value[i]\n",
    "                #probabilities[label] *= self.gaussian_probablity(input_data[i], mean, stdev)\n",
    "                probabilities[label] += np.log(self.gaussian_probablity(input_data[i], mean, stdev))\n",
    "                \n",
    "        return probabilities\n",
    "    \n",
    "    # 类别 ,注意下面的实例model测试的时候，X_test传入的是 一维的\n",
    "    def predict(self, X_test):\n",
    "        label = sorted(\n",
    "            self.calculate_probabilities(X_test).items(),\n",
    "            key=lambda x: x[-1])[-1][0]\n",
    "        return label\n",
    "\n",
    "    def score(self, X_test, y_test):\n",
    "        right = 0\n",
    "        for X, y in zip(X_test, y_test):\n",
    "            label = self.predict(X)\n",
    "            if label == y:\n",
    "                right += 1\n",
    "\n",
    "        return right / float(len(X_test))\n",
    "    "
   ]
  },
  {
   "cell_type": "markdown",
   "id": "arctic-battlefield",
   "metadata": {},
   "source": [
    "## 测试"
   ]
  },
  {
   "cell_type": "code",
   "execution_count": 18,
   "id": "answering-chocolate",
   "metadata": {},
   "outputs": [],
   "source": [
    "model = NaiveBayes()"
   ]
  },
  {
   "cell_type": "code",
   "execution_count": 19,
   "id": "crazy-technology",
   "metadata": {},
   "outputs": [
    {
     "data": {
      "text/plain": [
       "'gussianNB train Done!'"
      ]
     },
     "execution_count": 19,
     "metadata": {},
     "output_type": "execute_result"
    }
   ],
   "source": [
    "model.fit(X_train, y_train)"
   ]
  },
  {
   "cell_type": "code",
   "execution_count": 20,
   "id": "olympic-length",
   "metadata": {},
   "outputs": [
    {
     "data": {
      "text/plain": [
       "{0.0: array([-71.8447576 , -14.49388257, -51.81357076, -24.22395186]),\n",
       " 1.0: array([-38.11556974, -13.27685767, -27.02941183, -25.73505569]),\n",
       " 2.0: array([-26.31210272, -18.36530046, -22.06040833, -35.21480036])}"
      ]
     },
     "execution_count": 20,
     "metadata": {},
     "output_type": "execute_result"
    }
   ],
   "source": [
    "model.calculate_probabilities(X_test)"
   ]
  },
  {
   "cell_type": "code",
   "execution_count": 21,
   "id": "hungarian-chemistry",
   "metadata": {},
   "outputs": [
    {
     "name": "stdout",
     "output_type": "stream",
     "text": [
      "0.0\n"
     ]
    }
   ],
   "source": [
    "print(model.predict([4.4,  3.2,  1.3,  0.2]))"
   ]
  },
  {
   "cell_type": "code",
   "execution_count": 22,
   "id": "funded-feature",
   "metadata": {},
   "outputs": [
    {
     "data": {
      "text/plain": [
       "0.9111111111111111"
      ]
     },
     "execution_count": 22,
     "metadata": {},
     "output_type": "execute_result"
    }
   ],
   "source": [
    "model.score(X_test, y_test)"
   ]
  },
  {
   "cell_type": "code",
   "execution_count": 12,
   "id": "veterinary-restriction",
   "metadata": {},
   "outputs": [],
   "source": [
    "liancheng = 0.8666666666666667"
   ]
  },
  {
   "cell_type": "code",
   "execution_count": null,
   "id": "occasional-opposition",
   "metadata": {},
   "outputs": [],
   "source": [
    "log_sum = 0.9111111111111111"
   ]
  },
  {
   "cell_type": "markdown",
   "id": "first-russian",
   "metadata": {},
   "source": [
    "# 自己测试"
   ]
  },
  {
   "cell_type": "code",
   "execution_count": 11,
   "id": "rubber-scottish",
   "metadata": {},
   "outputs": [
    {
     "data": {
      "text/plain": [
       "2"
      ]
     },
     "execution_count": 11,
     "metadata": {},
     "output_type": "execute_result"
    }
   ],
   "source": [
    "X_train.ndim"
   ]
  },
  {
   "cell_type": "code",
   "execution_count": 12,
   "id": "freelance-wesley",
   "metadata": {},
   "outputs": [
    {
     "data": {
      "text/plain": [
       "1"
      ]
     },
     "execution_count": 12,
     "metadata": {},
     "output_type": "execute_result"
    }
   ],
   "source": [
    "y_train.ndim"
   ]
  },
  {
   "cell_type": "code",
   "execution_count": 13,
   "id": "caring-studio",
   "metadata": {},
   "outputs": [
    {
     "data": {
      "text/plain": [
       "'gussianNB train Done!'"
      ]
     },
     "execution_count": 13,
     "metadata": {},
     "output_type": "execute_result"
    }
   ],
   "source": [
    "a = NaiveBayes()\n",
    "a.fit(X_train, y_train)"
   ]
  },
  {
   "cell_type": "code",
   "execution_count": 14,
   "id": "arbitrary-steel",
   "metadata": {},
   "outputs": [
    {
     "data": {
      "text/plain": [
       "[(5.477142857142858, 0.654472836623149),\n",
       " (3.104285714285716, 0.4682599138713195),\n",
       " (2.8614285714285717, 1.4568354017373073),\n",
       " (0.7928571428571429, 0.5720443111137032)]"
      ]
     },
     "execution_count": 14,
     "metadata": {},
     "output_type": "execute_result"
    }
   ],
   "source": [
    "a1 = a.summarize(X_train)\n",
    "#四个特征的均值和方差\n",
    "a1  "
   ]
  },
  {
   "cell_type": "code",
   "execution_count": 17,
   "id": "chronic-organic",
   "metadata": {},
   "outputs": [],
   "source": [
    "labels = list(set(y_train))\n",
    "data1 = {label: [] for label in labels}\n",
    "for f,label in zip(X_train,y_train):\n",
    "    data1[label].append(f)"
   ]
  },
  {
   "cell_type": "code",
   "execution_count": 18,
   "id": "handed-queue",
   "metadata": {},
   "outputs": [],
   "source": [
    "#data1"
   ]
  },
  {
   "cell_type": "code",
   "execution_count": 19,
   "id": "driving-russia",
   "metadata": {},
   "outputs": [
    {
     "data": {
      "text/plain": [
       "{0.0: [], 1.0: []}"
      ]
     },
     "execution_count": 19,
     "metadata": {},
     "output_type": "execute_result"
    }
   ],
   "source": [
    "labels = list(set(y_train))\n",
    "data = {label: [] for label in labels}\n",
    "#创建只有键 而 值为空的字典\n",
    "data       "
   ]
  },
  {
   "cell_type": "code",
   "execution_count": 20,
   "id": "light-analysis",
   "metadata": {},
   "outputs": [],
   "source": [
    "for f,label in zip(X_train, y_train):\n",
    "    #注意这个label就是字典的 键，f就是字典的值\n",
    "    data[label].append(f)"
   ]
  },
  {
   "cell_type": "code",
   "execution_count": 21,
   "id": "short-delicious",
   "metadata": {},
   "outputs": [
    {
     "data": {
      "text/plain": [
       "{0.0: [array([4.9, 3. , 1.4, 0.2]),\n",
       "  array([5.4, 3.9, 1.7, 0.4]),\n",
       "  array([4.5, 2.3, 1.3, 0.3]),\n",
       "  array([5.4, 3.7, 1.5, 0.2]),\n",
       "  array([4.8, 3.4, 1.9, 0.2]),\n",
       "  array([5.2, 4.1, 1.5, 0.1]),\n",
       "  array([5.7, 3.8, 1.7, 0.3]),\n",
       "  array([4.8, 3. , 1.4, 0.3]),\n",
       "  array([4.6, 3.2, 1.4, 0.2]),\n",
       "  array([5. , 3.4, 1.5, 0.2]),\n",
       "  array([5. , 3.2, 1.2, 0.2]),\n",
       "  array([4.4, 2.9, 1.4, 0.2]),\n",
       "  array([5.8, 4. , 1.2, 0.2]),\n",
       "  array([5.4, 3.4, 1.5, 0.4]),\n",
       "  array([4.3, 3. , 1.1, 0.1]),\n",
       "  array([5. , 3.4, 1.6, 0.4]),\n",
       "  array([5.1, 3.3, 1.7, 0.5]),\n",
       "  array([5.2, 3.4, 1.4, 0.2]),\n",
       "  array([5.4, 3.9, 1.3, 0.4]),\n",
       "  array([5.5, 4.2, 1.4, 0.2]),\n",
       "  array([5. , 3.5, 1.3, 0.3]),\n",
       "  array([5.4, 3.4, 1.7, 0.2]),\n",
       "  array([5.1, 3.8, 1.6, 0.2]),\n",
       "  array([5.3, 3.7, 1.5, 0.2]),\n",
       "  array([5.1, 3.5, 1.4, 0.2]),\n",
       "  array([4.9, 3.1, 1.5, 0.1]),\n",
       "  array([4.6, 3.4, 1.4, 0.3]),\n",
       "  array([4.7, 3.2, 1.3, 0.2]),\n",
       "  array([5.2, 3.5, 1.5, 0.2]),\n",
       "  array([4.9, 3.6, 1.4, 0.1]),\n",
       "  array([5. , 3.3, 1.4, 0.2]),\n",
       "  array([4.6, 3.6, 1. , 0.2]),\n",
       "  array([5. , 3.5, 1.6, 0.6]),\n",
       "  array([4.8, 3. , 1.4, 0.1]),\n",
       "  array([4.6, 3.1, 1.5, 0.2])],\n",
       " 1.0: [array([6.3, 3.3, 4.7, 1.6]),\n",
       "  array([6. , 2.9, 4.5, 1.5]),\n",
       "  array([5.7, 2.8, 4.1, 1.3]),\n",
       "  array([5.7, 3. , 4.2, 1.2]),\n",
       "  array([5.4, 3. , 4.5, 1.5]),\n",
       "  array([6.3, 2.3, 4.4, 1.3]),\n",
       "  array([5. , 2.3, 3.3, 1. ]),\n",
       "  array([6.2, 2.9, 4.3, 1.3]),\n",
       "  array([6.4, 2.9, 4.3, 1.3]),\n",
       "  array([4.9, 2.4, 3.3, 1. ]),\n",
       "  array([5.6, 2.5, 3.9, 1.1]),\n",
       "  array([6.3, 2.5, 4.9, 1.5]),\n",
       "  array([5.5, 2.4, 3.7, 1. ]),\n",
       "  array([6.7, 3. , 5. , 1.7]),\n",
       "  array([5.9, 3.2, 4.8, 1.8]),\n",
       "  array([5.6, 3. , 4.1, 1.3]),\n",
       "  array([5. , 2. , 3.5, 1. ]),\n",
       "  array([6.9, 3.1, 4.9, 1.5]),\n",
       "  array([6.6, 2.9, 4.6, 1.3]),\n",
       "  array([7. , 3.2, 4.7, 1.4]),\n",
       "  array([5.7, 2.9, 4.2, 1.3]),\n",
       "  array([6.4, 3.2, 4.5, 1.5]),\n",
       "  array([6.1, 2.8, 4.7, 1.2]),\n",
       "  array([6.7, 3.1, 4.7, 1.5]),\n",
       "  array([5.5, 2.4, 3.8, 1.1]),\n",
       "  array([6.5, 2.8, 4.6, 1.5]),\n",
       "  array([5.6, 2.9, 3.6, 1.3]),\n",
       "  array([5.5, 2.3, 4. , 1.3]),\n",
       "  array([5.6, 3. , 4.5, 1.5]),\n",
       "  array([5.2, 2.7, 3.9, 1.4]),\n",
       "  array([6.8, 2.8, 4.8, 1.4]),\n",
       "  array([5.9, 3. , 4.2, 1.5]),\n",
       "  array([6.1, 2.8, 4. , 1.3]),\n",
       "  array([5.7, 2.8, 4.5, 1.3]),\n",
       "  array([5.5, 2.5, 4. , 1.3])]}"
      ]
     },
     "execution_count": 21,
     "metadata": {},
     "output_type": "execute_result"
    }
   ],
   "source": [
    "#字典，只有两个键 0.0 和 1.0\n",
    "data"
   ]
  },
  {
   "cell_type": "code",
   "execution_count": 22,
   "id": "sacred-relief",
   "metadata": {},
   "outputs": [],
   "source": [
    "selfmodel = {\n",
    "                label:a.summarize(value) for label, value in data.items()\n",
    "            }"
   ]
  },
  {
   "cell_type": "code",
   "execution_count": 23,
   "id": "nuclear-making",
   "metadata": {},
   "outputs": [
    {
     "data": {
      "text/plain": [
       "{0.0: [(5.017142857142856, 0.3541474384536268),\n",
       "  (3.4199999999999995, 0.3785687331440431),\n",
       "  (1.4457142857142855, 0.17783275793823355),\n",
       "  (0.24285714285714285, 0.11284810090360858)],\n",
       " 1.0: [(5.937142857142856, 0.555021602815455),\n",
       "  (2.7885714285714283, 0.3096278213518644),\n",
       "  (4.277142857142857, 0.4523498736191548),\n",
       "  (1.3428571428571425, 0.191662969499982)]}"
      ]
     },
     "execution_count": 23,
     "metadata": {},
     "output_type": "execute_result"
    }
   ],
   "source": [
    "#计算每个target的特征的期望和标准差\n",
    "selfmodel"
   ]
  },
  {
   "cell_type": "code",
   "execution_count": 24,
   "id": "unable-archives",
   "metadata": {},
   "outputs": [
    {
     "data": {
      "text/plain": [
       "35"
      ]
     },
     "execution_count": 24,
     "metadata": {},
     "output_type": "execute_result"
    }
   ],
   "source": [
    "len(data[0])"
   ]
  },
  {
   "cell_type": "code",
   "execution_count": 25,
   "id": "first-reynolds",
   "metadata": {},
   "outputs": [
    {
     "data": {
      "text/plain": [
       "35"
      ]
     },
     "execution_count": 25,
     "metadata": {},
     "output_type": "execute_result"
    }
   ],
   "source": [
    "len(data[1.0])"
   ]
  },
  {
   "cell_type": "code",
   "execution_count": 26,
   "id": "delayed-lexington",
   "metadata": {},
   "outputs": [
    {
     "data": {
      "text/plain": [
       "array([6.3, 3.3, 4.7, 1.6])"
      ]
     },
     "execution_count": 26,
     "metadata": {},
     "output_type": "execute_result"
    }
   ],
   "source": [
    "data[1.0][0]"
   ]
  },
  {
   "cell_type": "code",
   "execution_count": 27,
   "id": "excellent-crazy",
   "metadata": {},
   "outputs": [
    {
     "data": {
      "text/plain": [
       "{0.0: [(5.017142857142856, 0.3541474384536268),\n",
       "  (3.4199999999999995, 0.3785687331440431),\n",
       "  (1.4457142857142855, 0.17783275793823355),\n",
       "  (0.24285714285714285, 0.11284810090360858)],\n",
       " 1.0: [(5.937142857142856, 0.555021602815455),\n",
       "  (2.7885714285714283, 0.3096278213518644),\n",
       "  (4.277142857142857, 0.4523498736191548),\n",
       "  (1.3428571428571425, 0.191662969499982)]}"
      ]
     },
     "execution_count": 27,
     "metadata": {},
     "output_type": "execute_result"
    }
   ],
   "source": [
    "selfmodel"
   ]
  },
  {
   "cell_type": "code",
   "execution_count": 29,
   "id": "iraqi-wednesday",
   "metadata": {},
   "outputs": [],
   "source": [
    "xtest = X_test[2]"
   ]
  },
  {
   "cell_type": "code",
   "execution_count": 30,
   "id": "naked-amateur",
   "metadata": {},
   "outputs": [
    {
     "data": {
      "text/plain": [
       "{0.0: 1.1586327296759225, 1.0: 1.134258892760089e-19}"
      ]
     },
     "execution_count": 30,
     "metadata": {},
     "output_type": "execute_result"
    }
   ],
   "source": [
    "probabilities = {}\n",
    "for label,value in selfmodel.items():  \n",
    "    #将字典的值初始化为1\n",
    "    probabilities[label] = 1\n",
    "    for i in range(len(value)):\n",
    "        mean,stdev = value[i]\n",
    "        probabilities[label] *= a.gaussian_probablity(xtest[i], mean, stdev)\n",
    "                \n",
    "probabilities"
   ]
  },
  {
   "cell_type": "code",
   "execution_count": 31,
   "id": "smooth-grocery",
   "metadata": {},
   "outputs": [],
   "source": [
    "#key=lambda 变量：变量[维数] \n",
    "l1 = sorted(probabilities.items(),key=lambda x: x[-1])[-1][0]"
   ]
  },
  {
   "cell_type": "code",
   "execution_count": 32,
   "id": "organizational-korea",
   "metadata": {},
   "outputs": [
    {
     "data": {
      "text/plain": [
       "0.0"
      ]
     },
     "execution_count": 32,
     "metadata": {},
     "output_type": "execute_result"
    }
   ],
   "source": [
    "l1"
   ]
  },
  {
   "cell_type": "code",
   "execution_count": null,
   "id": "positive-israel",
   "metadata": {},
   "outputs": [],
   "source": []
  },
  {
   "cell_type": "markdown",
   "id": "coordinate-monte",
   "metadata": {},
   "source": [
    "## scikit-learn实例"
   ]
  },
  {
   "cell_type": "code",
   "execution_count": 46,
   "id": "interesting-majority",
   "metadata": {},
   "outputs": [],
   "source": [
    "from sklearn.naive_bayes import GaussianNB"
   ]
  },
  {
   "cell_type": "code",
   "execution_count": 47,
   "id": "painful-qatar",
   "metadata": {},
   "outputs": [
    {
     "data": {
      "text/plain": [
       "GaussianNB()"
      ]
     },
     "execution_count": 47,
     "metadata": {},
     "output_type": "execute_result"
    }
   ],
   "source": [
    "clf = GaussianNB()\n",
    "clf.fit(X_train, y_train)"
   ]
  },
  {
   "cell_type": "code",
   "execution_count": 48,
   "id": "general-activity",
   "metadata": {},
   "outputs": [
    {
     "data": {
      "text/plain": [
       "1.0"
      ]
     },
     "execution_count": 48,
     "metadata": {},
     "output_type": "execute_result"
    }
   ],
   "source": [
    "clf.score(X_test, y_test)"
   ]
  },
  {
   "cell_type": "code",
   "execution_count": 49,
   "id": "outside-senate",
   "metadata": {},
   "outputs": [
    {
     "data": {
      "text/plain": [
       "array([0.])"
      ]
     },
     "execution_count": 49,
     "metadata": {},
     "output_type": "execute_result"
    }
   ],
   "source": [
    "clf.predict([[4.4,  3.2,  1.3,  0.2]])"
   ]
  },
  {
   "cell_type": "code",
   "execution_count": 50,
   "id": "closing-argentina",
   "metadata": {},
   "outputs": [],
   "source": [
    "from sklearn.naive_bayes import BernoulliNB, MultinomialNB # 伯努利模型和多项式模型"
   ]
  },
  {
   "cell_type": "code",
   "execution_count": null,
   "id": "solar-growth",
   "metadata": {},
   "outputs": [],
   "source": []
  },
  {
   "cell_type": "markdown",
   "id": "industrial-holmes",
   "metadata": {},
   "source": [
    "习题4.1\n",
    "  用极大似然估计法推出朴素贝叶斯法中的概率估计公式(4.8)及公式 (4.9)。"
   ]
  },
  {
   "cell_type": "markdown",
   "id": "czech-ghana",
   "metadata": {},
   "source": [
    "### 解答：    "
   ]
  },
  {
   "cell_type": "markdown",
   "id": "generous-application",
   "metadata": {},
   "source": [
    "第1步：证明公式(4.8)：$\\displaystyle P(Y=c_k) = \\frac{\\displaystyle \\sum_{i=1}^N I(y_i=c_k)}{N}$\n",
    "由于朴素贝叶斯法假设$Y$是定义在输出空间$\\mathcal{Y}$上的随机变量，因此可以定义$P(Y=c_k)$概率为$p$。\n",
    "令$\\displaystyle m=\\sum_{i=1}^NI(y_i=c_k)$，得出似然函数：$$L(p)=f_D(y_1,y_2,\\cdots,y_n|\\theta)=\\binom{N}{m}p^m(1-p)^{(N-m)}$$使用微分求极值，两边同时对$p$求微分：$$\\begin{aligned}\n",
    "0 &amp;= \\binom{N}{m}\\left[mp^{(m-1)}(1-p)^{(N-m)}-(N-m)p^m(1-p)^{(N-m-1)}\\right] \\\\\n",
    "&amp; = \\binom{N}{m}\\left[p^{(m-1)}(1-p)^{(N-m-1)}(m-Np)\\right]\n",
    "\\end{aligned}$$可求解得到$\\displaystyle p=0,p=1,p=\\frac{m}{N}$\n",
    "显然$\\displaystyle P(Y=c_k)=p=\\frac{m}{N}=\\frac{\\displaystyle \\sum_{i=1}^N I(y_i=c_k)}{N}$，公式(4.8)得证。"
   ]
  },
  {
   "cell_type": "markdown",
   "id": "severe-steel",
   "metadata": {},
   "source": [
    "第2步：证明公式(4.9)：$\\displaystyle P(X^{(j)}=a_{jl}|Y=c_k) = \\frac{\\displaystyle \\sum_{i=1}^N I(x_i^{(j)}=a_{jl},y_i=c_k)}{\\displaystyle \\sum_{i=1}^N I(y_i=c_k)}$\n",
    "令$P(X^{(j)}=a_{jl}|Y=c_k)=p$，令$\\displaystyle m=\\sum_{i=1}^N I(y_i=c_k), q=\\sum_{i=1}^N I(x_i^{(j)}=a_{jl},y_i=c_k)$，得出似然函数：$$L(p)=\\binom{m}{q}p^q(i-p)^{m-q}$$使用微分求极值，两边同时对$p$求微分：$$\\begin{aligned}\n",
    "0 &amp;= \\binom{m}{q}\\left[qp^{(q-1)}(1-p)^{(m-q)}-(m-q)p^q(1-p)^{(m-q-1)}\\right] \\\\\n",
    "&amp; = \\binom{m}{q}\\left[p^{(q-1)}(1-p)^{(m-q-1)}(q-mp)\\right]\n",
    "\\end{aligned}$$可求解得到$\\displaystyle p=0,p=1,p=\\frac{q}{m}$\n",
    "显然$\\displaystyle P(X^{(j)}=a_{jl}|Y=c_k)=p=\\frac{q}{m}=\\frac{\\displaystyle \\sum_{i=1}^N I(x_i^{(j)}=a_{jl},y_i=c_k)}{\\displaystyle \\sum_{i=1}^N I(y_i=c_k)}$，公式(4.9)得证"
   ]
  },
  {
   "cell_type": "markdown",
   "id": "sonic-material",
   "metadata": {},
   "source": [
    "习题4.2\n",
    "    用贝叶斯估计法推出朴素贝叶斯法中的慨率估计公式(4.10)及公式(4.11)"
   ]
  },
  {
   "cell_type": "markdown",
   "id": "oriental-dominican",
   "metadata": {},
   "source": [
    "第1步：证明公式(4.11)：$\\displaystyle P(Y=c_k) = \\frac{\\displaystyle \\sum_{i=1}^N I(y_i=c_k) + \\lambda}{N+K \\lambda}$\n",
    "加入先验概率，在没有任何信息的情况下，可以假设先验概率为均匀概率（即每个事件的概率是相同的）。\n",
    "可得$\\displaystyle p=\\frac{1}{K} \\Leftrightarrow pK-1=0\\quad(1)$\n",
    "根据习题4.1得出先验概率的极大似然估计是$\\displaystyle pN - \\sum_{i=1}^N I(y_i=c_k) = 0\\quad(2)$\n",
    "存在参数$\\lambda$使得$(1) \\cdot \\lambda + (2) = 0$\n",
    "所以有$$\\lambda(pK-1) + pN - \\sum_{i=1}^N I(y_i=c_k) = 0$$可得$\\displaystyle P(Y=c_k) = \\frac{\\displaystyle \\sum_{i=1}^N I(y_i=c_k) + \\lambda}{N+K \\lambda}$，公式(4.11)得证。"
   ]
  },
  {
   "cell_type": "markdown",
   "id": "preliminary-longitude",
   "metadata": {},
   "source": [
    "\n",
    "\n",
    "第2步：证明公式(4.10)：$\\displaystyle P_{\\lambda}(X^{(j)}=a_{jl} | Y = c_k) = \\frac{\\displaystyle \\sum_{i=1}^N I(x_i^{(j)}=a_{jl},y_i=c_k) + \\lambda}{\\displaystyle \\sum_{i=1}^N I(y_i=c_k) + S_j \\lambda}$\n",
    "根据第1步，可同理得到$$\n",
    "P(Y=c_k, x^{(j)}=a_{j l})=\\frac{\\displaystyle \\sum_{i=1}^N I(y_i=c_k, x_i^{(j)}=a_{jl})+\\lambda}{N+K S_j \\lambda}$$"
   ]
  },
  {
   "cell_type": "markdown",
   "id": "julian-coordination",
   "metadata": {},
   "source": [
    "$$\\begin{aligned} \n",
    "P(x^{(j)}=a_{jl} | Y=c_k)\n",
    "&amp;= \\frac{P(Y=c_k, x^{(j)}=a_{j l})}{P(y_i=c_k)} \\\\\n",
    "&amp;= \\frac{\\displaystyle \\frac{\\displaystyle \\sum_{i=1}^N I(y_i=c_k, x_i^{(j)}=a_{jl})+\\lambda}{N+K S_j \\lambda}}{\\displaystyle \\frac{\\displaystyle \\sum_{i=1}^N I(y_i=c_k) + \\lambda}{N+K \\lambda}} \\\\\n",
    "&amp;= (\\lambda可以任意取值，于是取\\lambda = S_j \\lambda) \\\\\n",
    "&amp;= \\frac{\\displaystyle \\frac{\\displaystyle \\sum_{i=1}^N I(y_i=c_k, x_i^{(j)}=a_{jl})+\\lambda}{N+K S_j \\lambda}}{\\displaystyle \\frac{\\displaystyle \\sum_{i=1}^N I(y_i=c_k) + \\lambda}{N+K S_j \\lambda}} \\\\ \n",
    "&amp;= \\frac{\\displaystyle \\sum_{i=1}^N I(y_i=c_k, x_i^{(j)}=a_{jl})+\\lambda}{\\displaystyle \\sum_{i=1}^N I(y_i=c_k) + \\lambda} (其中\\lambda = S_j \\lambda)\\\\\n",
    "&amp;= \\frac{\\displaystyle \\sum_{i=1}^N I(x_i^{(j)}=a_{jl},y_i=c_k) + \\lambda}{\\displaystyle \\sum_{i=1}^N I(y_i=c_k) + S_j \\lambda}\n",
    "\\end{aligned} $$"
   ]
  },
  {
   "cell_type": "code",
   "execution_count": null,
   "id": "casual-projector",
   "metadata": {},
   "outputs": [],
   "source": []
  }
 ],
 "metadata": {
  "kernelspec": {
   "display_name": "Python [conda env:tf2] *",
   "language": "python",
   "name": "conda-env-tf2-py"
  },
  "language_info": {
   "codemirror_mode": {
    "name": "ipython",
    "version": 3
   },
   "file_extension": ".py",
   "mimetype": "text/x-python",
   "name": "python",
   "nbconvert_exporter": "python",
   "pygments_lexer": "ipython3",
   "version": "3.7.7"
  }
 },
 "nbformat": 4,
 "nbformat_minor": 5
}
