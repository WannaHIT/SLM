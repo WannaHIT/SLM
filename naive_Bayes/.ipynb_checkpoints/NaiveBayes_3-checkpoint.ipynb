{
 "cells": [
  {
   "cell_type": "code",
   "execution_count": 1,
   "id": "least-skill",
   "metadata": {},
   "outputs": [],
   "source": [
    "import numpy as np \n",
    "import pandas as pd \n",
    "import math \n",
    "import time\n",
    "\n",
    "\n",
    "from sklearn.datasets import load_iris\n",
    "\n",
    "from sklearn.model_selection import train_test_split"
   ]
  },
  {
   "cell_type": "code",
   "execution_count": 2,
   "id": "electoral-resource",
   "metadata": {},
   "outputs": [],
   "source": [
    "def loadData(filename):\n",
    "    df = pd.read_csv(filename)\n",
    "    \n",
    "    label = np.array(df.iloc[:,0])\n",
    "    dataPre = np.array(df.iloc[:,1:])\n",
    "    data = np.floor_divide(dataPre,128)\n",
    "    return data,label"
   ]
  },
  {
   "cell_type": "code",
   "execution_count": 4,
   "id": "green-gossip",
   "metadata": {},
   "outputs": [],
   "source": [
    "#[rows,columns] = np.shape(X_train)"
   ]
  },
  {
   "cell_type": "code",
   "execution_count": 5,
   "id": "close-saint",
   "metadata": {},
   "outputs": [],
   "source": [
    "def NaiveBayes(Py,Px_y,x):\n",
    "    featrueNum = 784\n",
    "    classNum = 10\n",
    "    P = [0] * classNum\n",
    "    for i in range(classNum):\n",
    "        Sum = 0\n",
    "        \n",
    "        for j in range(featrueNum):\n",
    "            Sum += Px_y[i][j][x[j]]#第i个类别的第j个特征的，x的取值，只有0或1\n",
    "        #由于log故用加法 代表了乘\n",
    "        P[i] = Sum + Py[i]\n",
    "    return P.index(max(P))"
   ]
  },
  {
   "cell_type": "code",
   "execution_count": 15,
   "id": "given-translator",
   "metadata": {},
   "outputs": [
    {
     "data": {
      "text/plain": [
       "14"
      ]
     },
     "execution_count": 15,
     "metadata": {},
     "output_type": "execute_result"
    }
   ],
   "source": [
    "a = np.arange(15)\n",
    "np.max(a)"
   ]
  },
  {
   "cell_type": "code",
   "execution_count": 16,
   "id": "durable-advancement",
   "metadata": {},
   "outputs": [
    {
     "data": {
      "text/plain": [
       "(array([14]),)"
      ]
     },
     "execution_count": 16,
     "metadata": {},
     "output_type": "execute_result"
    }
   ],
   "source": [
    "np.where(a==np.max(a))"
   ]
  },
  {
   "cell_type": "code",
   "execution_count": 17,
   "id": "overall-market",
   "metadata": {},
   "outputs": [],
   "source": [
    "def model_test(Py,Px_y,data,label):\n",
    "    errorCnt = 0\n",
    "    for i in range(len(data)):\n",
    "        presict = NaiveBayes(Py,Px_y,data[i])\n",
    "        if presict != label[i]:\n",
    "            errorCnt += 1\n",
    "    return 1-(errorCnt/len(data))      "
   ]
  },
  {
   "cell_type": "code",
   "execution_count": 18,
   "id": "broke-germany",
   "metadata": {},
   "outputs": [],
   "source": [
    "def getAllProbability(data,Label):\n",
    "    featureNum = 784\n",
    "    \n",
    "    classNum = 10\n",
    "    Py = np.zeros((classNum,1))\n",
    "    \n",
    "    for i in range(classNum):#ERROR:(len(Label))\n",
    "        Py[i] = ((np.sum(Label==i))+1) / (len(Label))\n",
    "    Py = np.log(Py)   \n",
    "    \n",
    "    Px_y = np.zeros((classNum,featureNum,2))\n",
    "    for i in range(len(Label)):\n",
    "        labeli = Label[i]\n",
    "        x = data[i]\n",
    "        for j in  range(featureNum):\n",
    "            #统计特征为0或者为1 的个数\n",
    "            Px_y[labeli][j][x[j]]+=1\n",
    "            \n",
    "    for label in range(classNum):\n",
    "        for j in range(featureNum):\n",
    "            #获取y=label，第j个特征为0的个数\n",
    "            Px_y0 = Px_y[label][j][0]\n",
    "            #获取y=label，第j个特征为1的个数\n",
    "            Px_y1 = Px_y[label][j][1]\n",
    "            \n",
    "            Px_y[label][j][0] = np.log((Px_y0+1) / (Px_y0 + Px_y1 + 2))\n",
    "            Px_y[label][j][1] = np.log((Px_y1+1) / (Px_y0 + Px_y1 + 2))\n",
    "    return Py,Px_y"
   ]
  },
  {
   "cell_type": "code",
   "execution_count": null,
   "id": "immune-measurement",
   "metadata": {},
   "outputs": [],
   "source": []
  },
  {
   "cell_type": "code",
   "execution_count": 19,
   "id": "talented-terror",
   "metadata": {},
   "outputs": [
    {
     "name": "stdout",
     "output_type": "stream",
     "text": [
      "Start to read TrainsSet\n",
      "Start to read TestsSet\n",
      "start to train\n",
      "start to test\n",
      "the accuracy is: 0.8427\n",
      "time span: 69.53512787818909\n"
     ]
    }
   ],
   "source": [
    "start = time.time()\n",
    "print(\"Start to read TrainsSet\")\n",
    "\n",
    "X_train,y_train = loadData('mnist_train.csv')\n",
    "\n",
    "print(\"Start to read TestsSet\")\n",
    "X_test,y_test = loadData('mnist_test.csv')\n",
    "\n",
    "print('start to train')\n",
    "Py, Px_y = getAllProbability(X_train, y_train)\n",
    "\n",
    "#使用习得的先验概率分布和条件概率分布对测试集进行测试\n",
    "print('start to test')\n",
    "accuracy = model_test(Py, Px_y, X_test, y_test)\n",
    "\n",
    "#打印准确率\n",
    "print('the accuracy is:', accuracy)\n",
    "#打印时间\n",
    "print('time span:', time.time() -start)"
   ]
  },
  {
   "cell_type": "code",
   "execution_count": 83,
   "id": "occasional-premises",
   "metadata": {},
   "outputs": [
    {
     "data": {
      "text/plain": [
       "array([[ 1., 34.,  4.],\n",
       "       [ 4.,  5.,  6.]])"
      ]
     },
     "execution_count": 83,
     "metadata": {},
     "output_type": "execute_result"
    }
   ],
   "source": [
    "test = np.array([[1.0,34,4],\n",
    "                [4,5,6]])\n",
    "test"
   ]
  },
  {
   "cell_type": "code",
   "execution_count": 84,
   "id": "passing-wheat",
   "metadata": {},
   "outputs": [
    {
     "data": {
      "text/plain": [
       "numpy.ndarray"
      ]
     },
     "execution_count": 84,
     "metadata": {},
     "output_type": "execute_result"
    }
   ],
   "source": [
    "type(test)"
   ]
  },
  {
   "cell_type": "code",
   "execution_count": 85,
   "id": "enhanced-economics",
   "metadata": {},
   "outputs": [
    {
     "data": {
      "text/plain": [
       "numpy.matrix"
      ]
     },
     "execution_count": 85,
     "metadata": {},
     "output_type": "execute_result"
    }
   ],
   "source": [
    "mat = np.mat(test)\n",
    "type(mat)"
   ]
  },
  {
   "cell_type": "code",
   "execution_count": 86,
   "id": "compatible-sixth",
   "metadata": {},
   "outputs": [
    {
     "data": {
      "text/plain": [
       "2"
      ]
     },
     "execution_count": 86,
     "metadata": {},
     "output_type": "execute_result"
    }
   ],
   "source": [
    "np.sum(test==4)"
   ]
  },
  {
   "cell_type": "code",
   "execution_count": 87,
   "id": "available-video",
   "metadata": {},
   "outputs": [
    {
     "data": {
      "text/plain": [
       "2"
      ]
     },
     "execution_count": 87,
     "metadata": {},
     "output_type": "execute_result"
    }
   ],
   "source": [
    "np.sum(mat==4)#都是返回个数"
   ]
  },
  {
   "cell_type": "code",
   "execution_count": 88,
   "id": "coral-bandwidth",
   "metadata": {},
   "outputs": [
    {
     "data": {
      "text/plain": [
       "array([[0.        , 3.52636052, 1.38629436],\n",
       "       [1.38629436, 1.60943791, 1.79175947]])"
      ]
     },
     "execution_count": 88,
     "metadata": {},
     "output_type": "execute_result"
    }
   ],
   "source": [
    "test = np.log(test)#用1.0就没问题，用 1 就会warning\n",
    "test"
   ]
  },
  {
   "cell_type": "code",
   "execution_count": 7,
   "id": "configured-unknown",
   "metadata": {},
   "outputs": [],
   "source": [
    "def create_data():\n",
    "    iris = load_iris()\n",
    "    df = pd.DataFrame(iris.data,columns=iris.feature_names)\n",
    "    df['label'] = iris.target\n",
    "    df.columns = ['sepal length', 'sepal width', 'petal length', 'petal width', 'label']\n",
    "    #data = np.array(df.iloc[:100,:])\n",
    "    data = np.array(df.iloc[:,:])\n",
    "    return data[:,:-1],data[:,-1]\n"
   ]
  },
  {
   "cell_type": "code",
   "execution_count": 8,
   "id": "ancient-convert",
   "metadata": {},
   "outputs": [],
   "source": [
    "X,y = create_data()\n",
    "X_train,X_test,y_train,y_test = train_test_split(X,y,test_size = 0.2)"
   ]
  },
  {
   "cell_type": "code",
   "execution_count": 115,
   "id": "normal-holmes",
   "metadata": {},
   "outputs": [
    {
     "data": {
      "text/plain": [
       "array([0., 0., 0., 0., 0., 0., 0., 0., 0., 0., 0., 0., 0., 0., 0., 0., 0.,\n",
       "       0., 0., 0., 0., 0., 0., 0., 0., 0., 0., 0., 0., 0., 0., 0., 0., 0.,\n",
       "       0., 0., 0., 0., 0., 0., 0., 0., 0., 0., 0., 0., 0., 0., 0., 0., 1.,\n",
       "       1., 1., 1., 1., 1., 1., 1., 1., 1., 1., 1., 1., 1., 1., 1., 1., 1.,\n",
       "       1., 1., 1., 1., 1., 1., 1., 1., 1., 1., 1., 1., 1., 1., 1., 1., 1.,\n",
       "       1., 1., 1., 1., 1., 1., 1., 1., 1., 1., 1., 1., 1., 1., 1., 2., 2.,\n",
       "       2., 2., 2., 2., 2., 2., 2., 2., 2., 2., 2., 2., 2., 2., 2., 2., 2.,\n",
       "       2., 2., 2., 2., 2., 2., 2., 2., 2., 2., 2., 2., 2., 2., 2., 2., 2.,\n",
       "       2., 2., 2., 2., 2., 2., 2., 2., 2., 2., 2., 2., 2., 2.])"
      ]
     },
     "execution_count": 115,
     "metadata": {},
     "output_type": "execute_result"
    }
   ],
   "source": [
    "## 由于iris数据不是二值化 的，而是一些浮点数，所以这里并不适用，指 x[j],如x[4.7]\n"
   ]
  },
  {
   "cell_type": "code",
   "execution_count": 9,
   "id": "intense-airport",
   "metadata": {},
   "outputs": [
    {
     "ename": "IndexError",
     "evalue": "only integers, slices (`:`), ellipsis (`...`), numpy.newaxis (`None`) and integer or boolean arrays are valid indices",
     "output_type": "error",
     "traceback": [
      "\u001b[0;31m---------------------------------------------------------------------------\u001b[0m",
      "\u001b[0;31mIndexError\u001b[0m                                Traceback (most recent call last)",
      "\u001b[0;32m<ipython-input-9-c6af70e0ac8b>\u001b[0m in \u001b[0;36m<module>\u001b[0;34m\u001b[0m\n\u001b[0;32m----> 1\u001b[0;31m \u001b[0mPy\u001b[0m\u001b[0;34m,\u001b[0m \u001b[0mPx_y\u001b[0m \u001b[0;34m=\u001b[0m \u001b[0mgetAllProbability\u001b[0m\u001b[0;34m(\u001b[0m\u001b[0mX_train\u001b[0m\u001b[0;34m,\u001b[0m \u001b[0my_train\u001b[0m\u001b[0;34m)\u001b[0m\u001b[0;34m\u001b[0m\u001b[0;34m\u001b[0m\u001b[0m\n\u001b[0m\u001b[1;32m      2\u001b[0m \u001b[0;34m\u001b[0m\u001b[0m\n\u001b[1;32m      3\u001b[0m \u001b[0;31m#使用习得的先验概率分布和条件概率分布对测试集进行测试\u001b[0m\u001b[0;34m\u001b[0m\u001b[0;34m\u001b[0m\u001b[0;34m\u001b[0m\u001b[0m\n\u001b[1;32m      4\u001b[0m \u001b[0mprint\u001b[0m\u001b[0;34m(\u001b[0m\u001b[0;34m'start to test'\u001b[0m\u001b[0;34m)\u001b[0m\u001b[0;34m\u001b[0m\u001b[0;34m\u001b[0m\u001b[0m\n\u001b[1;32m      5\u001b[0m \u001b[0maccuracy\u001b[0m \u001b[0;34m=\u001b[0m \u001b[0mmodel_test\u001b[0m\u001b[0;34m(\u001b[0m\u001b[0mPy\u001b[0m\u001b[0;34m,\u001b[0m \u001b[0mPx_y\u001b[0m\u001b[0;34m,\u001b[0m \u001b[0mX_test\u001b[0m\u001b[0;34m,\u001b[0m \u001b[0my_test\u001b[0m\u001b[0;34m)\u001b[0m\u001b[0;34m\u001b[0m\u001b[0;34m\u001b[0m\u001b[0m\n",
      "\u001b[0;32m<ipython-input-6-22c2927ea3d0>\u001b[0m in \u001b[0;36mgetAllProbability\u001b[0;34m(data, Label)\u001b[0m\n\u001b[1;32m     14\u001b[0m         \u001b[0mx\u001b[0m \u001b[0;34m=\u001b[0m \u001b[0mdata\u001b[0m\u001b[0;34m[\u001b[0m\u001b[0mi\u001b[0m\u001b[0;34m]\u001b[0m\u001b[0;34m\u001b[0m\u001b[0;34m\u001b[0m\u001b[0m\n\u001b[1;32m     15\u001b[0m         \u001b[0;32mfor\u001b[0m \u001b[0mj\u001b[0m \u001b[0;32min\u001b[0m  \u001b[0mrange\u001b[0m\u001b[0;34m(\u001b[0m\u001b[0mfeatureNum\u001b[0m\u001b[0;34m)\u001b[0m\u001b[0;34m:\u001b[0m\u001b[0;34m\u001b[0m\u001b[0;34m\u001b[0m\u001b[0m\n\u001b[0;32m---> 16\u001b[0;31m             \u001b[0mPx_y\u001b[0m\u001b[0;34m[\u001b[0m\u001b[0mlabeli\u001b[0m\u001b[0;34m]\u001b[0m\u001b[0;34m[\u001b[0m\u001b[0mj\u001b[0m\u001b[0;34m]\u001b[0m\u001b[0;34m[\u001b[0m\u001b[0mx\u001b[0m\u001b[0;34m[\u001b[0m\u001b[0mj\u001b[0m\u001b[0;34m]\u001b[0m\u001b[0;34m]\u001b[0m\u001b[0;34m+=\u001b[0m\u001b[0;36m1\u001b[0m\u001b[0;34m\u001b[0m\u001b[0;34m\u001b[0m\u001b[0m\n\u001b[0m\u001b[1;32m     17\u001b[0m \u001b[0;34m\u001b[0m\u001b[0m\n\u001b[1;32m     18\u001b[0m     \u001b[0;32mfor\u001b[0m \u001b[0mlabel\u001b[0m \u001b[0;32min\u001b[0m \u001b[0mrange\u001b[0m\u001b[0;34m(\u001b[0m\u001b[0mclassNum\u001b[0m\u001b[0;34m)\u001b[0m\u001b[0;34m:\u001b[0m\u001b[0;34m\u001b[0m\u001b[0;34m\u001b[0m\u001b[0m\n",
      "\u001b[0;31mIndexError\u001b[0m: only integers, slices (`:`), ellipsis (`...`), numpy.newaxis (`None`) and integer or boolean arrays are valid indices"
     ]
    }
   ],
   "source": [
    "Py, Px_y = getAllProbability(X_train, y_train)\n",
    "\n",
    "#使用习得的先验概率分布和条件概率分布对测试集进行测试\n",
    "print('start to test')\n",
    "accuracy = model_test(Py, Px_y, X_test, y_test)\n",
    "\n",
    "#打印准确率\n",
    "print('the accuracy is:', accuracy)"
   ]
  },
  {
   "cell_type": "code",
   "execution_count": null,
   "id": "medical-diana",
   "metadata": {},
   "outputs": [],
   "source": []
  }
 ],
 "metadata": {
  "kernelspec": {
   "display_name": "Python [conda env:tf2] *",
   "language": "python",
   "name": "conda-env-tf2-py"
  },
  "language_info": {
   "codemirror_mode": {
    "name": "ipython",
    "version": 3
   },
   "file_extension": ".py",
   "mimetype": "text/x-python",
   "name": "python",
   "nbconvert_exporter": "python",
   "pygments_lexer": "ipython3",
   "version": "3.7.9"
  }
 },
 "nbformat": 4,
 "nbformat_minor": 5
}
