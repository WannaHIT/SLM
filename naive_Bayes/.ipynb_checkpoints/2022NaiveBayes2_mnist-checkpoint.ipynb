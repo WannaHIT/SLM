{
 "cells": [
  {
   "cell_type": "code",
   "execution_count": 1,
   "id": "amber-lease",
   "metadata": {},
   "outputs": [],
   "source": [
    "import numpy as np \n",
    "import time \n",
    "import math\n",
    "from sklearn.model_selection import train_test_split"
   ]
  },
  {
   "cell_type": "code",
   "execution_count": 2,
   "id": "pediatric-macro",
   "metadata": {},
   "outputs": [],
   "source": [
    "def loadData(filename):\n",
    "    dataArr = [];labelArr = []\n",
    "    fr = open(filename)\n",
    "    #返回列表，包含所有的行。\n",
    "    for line in fr.readlines():\n",
    "        \n",
    "        #获取当前行，并按“，”切割成字段放入列表中\n",
    "        #strip：去掉每行字符串首尾指定的字符（默认空格或换行符）\n",
    "        #split：按照指定的字符将字符串切割成每个字段，返回列表形式\n",
    "        curLine = line.strip().split(',')\n",
    "        #将每行中除标记外的数据放入数据集中（curLine[0]为标记信息）\n",
    "        #在放入的同时将原先字符串形式的数据转换为整型\n",
    "        #此外将数据进行了二值化处理，大于128的转换成1，小于的转换成0，方便后续计算\n",
    "        dataArr.append([int(int(num)>128) for num in curLine[1:]])\n",
    "        #将标记信息放入标记集中\n",
    "        #放入的同时将标记转换为整型\n",
    "        labelArr.append(int(curLine[0]))\n",
    "    #返回数据集和标记\n",
    "    return dataArr,labelArr"
   ]
  },
  {
   "cell_type": "code",
   "execution_count": 3,
   "id": "diverse-journalist",
   "metadata": {},
   "outputs": [],
   "source": [
    "def NaiveBayes(Py,Px_y,x):\n",
    "    '''\n",
    "    通过朴素贝叶斯进行概率估计\n",
    "    :param Py: 先验概率分布\n",
    "    :param Px_y: 条件概率分布\n",
    "    :param x: 要估计的样本x\n",
    "    :return: 返回所有label的估计概率\n",
    "    '''\n",
    "    #设置特征数目\n",
    "    #len(X[0])==784\n",
    "    \n",
    "    featureNum = 784\n",
    "    #设置类别数目\n",
    "    classNum = 10\n",
    "    \n",
    "    #建立存放所有标记的估计概率数组\n",
    "    #[0, 0, 0, 0, 0, 0, 0, 0, 0, 0]\n",
    "    P = [0] * classNum\n",
    "    \n",
    "    #对于每一个类别，单独估计其概率\n",
    "    for i in range(classNum):\n",
    "        #初始化sum为0，sum为求和项。\n",
    "        #在训练过程中对概率进行了log处理，所以这里原先应当是连乘所有概率，最后比较哪个概率最大\n",
    "        #但是当使用log处理时，连乘变成了累加，所以使用sum\n",
    "        sum = 0\n",
    "        \n",
    "        #获取每一个条件概率值，进行累加\n",
    "        for j in range(featureNum):\n",
    "            sum +=Px_y[i][j][x[j]]\n",
    "        #最后再和先验概率相加（也就是式4.7中的先验概率乘以后头那些东西，乘法因为log全变成了加法）\n",
    "        P[i] = sum+ Py[i]\n",
    "    return P.index(max(P))\n",
    "    "
   ]
  },
  {
   "cell_type": "code",
   "execution_count": 4,
   "id": "identified-interval",
   "metadata": {},
   "outputs": [],
   "source": [
    "def model_test(Py,Px_y,testDataArr,testLabelArr):\n",
    "    '''\n",
    "    对测试集进行测试\n",
    "    :param Py: 先验概率分布\n",
    "    :param Px_y: 条件概率分布\n",
    "    :param testDataArr: 测试集数据\n",
    "    :param testLabelArr: 测试集标记\n",
    "    :return: 准确率\n",
    "    '''\n",
    "    #错误值计数\n",
    "    errorCnt = 0\n",
    "    #循环遍历测试集中的每一个样本\n",
    "    for i in range(len(testDataArr)):\n",
    "        #获取预测值\n",
    "        presict = NaiveBayes(Py,Px_y,testDataArr[i])\n",
    "        #与答案进行比较\n",
    "        if presict != testLabelArr[i]:\n",
    "            #若错误  错误值计数加1\n",
    "            errorCnt += 1\n",
    "     #返回准确率   \n",
    "    return 1-(errorCnt/len(testDataArr))"
   ]
  },
  {
   "cell_type": "code",
   "execution_count": 5,
   "id": "boolean-analyst",
   "metadata": {},
   "outputs": [],
   "source": [
    "def getAllProbability(trainDataArr, trainLabelArr):\n",
    "    '''\n",
    "    通过训练集计算先验概率分布和条件概率分布\n",
    "    :param trainDataArr: 训练数据集\n",
    "    :param trainLabelArr: 训练标记集\n",
    "    :return: 先验概率分布和条件概率分布\n",
    "    '''\n",
    "    #设置样本特诊数目，数据集中手写图片为28*28，转换为向量是784维。\n",
    "    # （我们的数据集已经从图像转换成784维的形式了，CSV格式内就是）\n",
    "    featureNum = 784\n",
    "    #设置类别数目，0-9共十个类别\n",
    "    classNum = 10\n",
    "    #初始化先验概率分布存放数组，后续计算得到的P(Y = 0)放在Py[0]中，以此类推\n",
    "    #数据长度为10行1列\n",
    "    Py = np.zeros((classNum, 1))\n",
    "    \n",
    "    #对每个类别进行一次循环，分别计算它们的先验概率分布\n",
    "    #计算公式为书中\"4.2节 朴素贝叶斯法的参数估计 公式4.8\"\n",
    "    for i in range(classNum):\n",
    "        #np.mat(trainLabelArr) == i：将标签转换为矩阵形式，里面的每一位与i比较，若相等，该位变为Ture，反之False\n",
    "        #np.sum(np.mat(trainLabelArr) == i):计算上一步得到的矩阵中Ture的个数，进行求和(直观上就是找所有label中有多少个\n",
    "        #为i的标记，求得4.8式P（Y = Ck）中的分子)\n",
    "        #np.sum(np.mat(trainLabelArr) == i)) + 1：参考“4.2.3节 贝叶斯估计”，例如若数据集总不存在y=1的标记，也就是说\n",
    "        #手写数据集中没有1这张图，那么如果不加1，由于没有y=1，所以分子就会变成0，那么在最后求后验概率时这一项就变成了0，再\n",
    "        #和条件概率乘，结果同样为0，不允许存在这种情况，所以分子加1，分母加上K（K为标签可取的值数量，这里有10个数，取值为10）\n",
    "        #参考公式4.11\n",
    "        #(len(trainLabelArr) + 10)：标签集的总长度+10.\n",
    "        #((np.sum(np.mat(trainLabelArr) == i)) + 1) / (len(trainLabelArr) + 10)：最后求得的先验概率\n",
    "        Py[i] = ((np.sum(np.mat(trainLabelArr) == i)) + 1) / (len(trainLabelArr) + 10)\n",
    "    #转换为log对数形式\n",
    "    #log书中没有写到，但是实际中需要考虑到，原因是这样：\n",
    "    #最后求后验概率估计的时候，形式是各项的相乘（“4.1 朴素贝叶斯法的学习” 式4.7），这里存在两个问题：1.某一项为0时，结果为0.\n",
    "    #这个问题通过分子和分母加上一个相应的数可以排除，前面已经做好了处理。2.如果特征特别多（例如在这里，需要连乘的项目有784个特征\n",
    "    #加一个先验概率分布一共795项相乘，所有数都是0-1之间，结果一定是一个很小的接近0的数。）理论上可以通过结果的大小值判断， 但在\n",
    "    #程序运行中很可能会向下溢出无法比较，因为值太小了。所以人为把值进行log处理。log在定义域内是一个递增函数，也就是说log（x）中，\n",
    "    #x越大，log也就越大，单调性和原数据保持一致。所以加上log对结果没有影响。此外连乘项通过log以后，可以变成各项累加，简化了计算。\n",
    "    #在似然函数中通常会使用log的方式进行处理（至于此书中为什么没涉及，我也不知道）\n",
    "    Py = np.log(Py) \n",
    "    \n",
    "    #计算条件概率 Px_y= P(X=x|Y = y)\n",
    "    #计算条件概率分成了两个步骤，下方第一个大for循环用于累加，参考书中“4.2.3 贝叶斯估计 式4.10”，下方第一个大for循环内部是\n",
    "    #用于计算式4.10的分子，至于分子的+1以及分母的计算在下方第二个大For内\n",
    "    \n",
    "    \n",
    "    #初始化为全0矩阵，用于存放所有情况下的条件概率\n",
    "    Px_y = np.zeros((classNum, featureNum, 2))#(堆，行，列)(类别，特征，取值0或1)参数2列存放 二值化后的值 x[j] ，只有0 or 1\n",
    "    #对 标记集 进行遍历\n",
    "    for i in range(len(trainLabelArr)):\n",
    "        \n",
    "        #获取当前循环所使用的标记\n",
    "        label = trainLabelArr[i]\n",
    "        #获取当前要处理的样本\n",
    "        x = trainDataArr[i]\n",
    "        \n",
    "        #对该样本的每一维特征进行遍历\n",
    "        for j in range(featureNum):\n",
    "            #在矩阵中对应位置加1\n",
    "            #这里还没有计算条件概率，先把所有数累加，全加完以后，即统计个数，在后续步骤中再求对应的条件概率\n",
    "            # 重点理解 x[j]，样本x 的第j个特征的取值\n",
    "            Px_y[label][j][x[j]] += 1 #因为经过二值化，x[j]的取值只有 0 或 1\n",
    "            \n",
    "            \n",
    "    #第二个大for，计算式4.10的分母，以及分子和分母之间的除法\n",
    "    #循环每一个标记（共10个）\n",
    "    for label in range(classNum):\n",
    "        #循环每一个标记对应的每一个特征\n",
    "        for j in range(featureNum):\n",
    "            #获取y=label，第j个特征为0的个数\n",
    "            Px_y0 = Px_y[label][j][0]\n",
    "            #获取y=label，第j个特征为1的个数\n",
    "            Px_y1 = Px_y[label][j][1]\n",
    "            #对式4.10的分子和分母进行相除，再除之前依据贝叶斯估计，分母需要加上2（为每个特征可取值个数）\n",
    "            #*******分别计算对于     y= label &&  x第j个特征为0和1的条件概率分布\n",
    "            Px_y[label][j][0] = np.log((Px_y0 + 1) / (Px_y0 + Px_y1 + 2))\n",
    "            Px_y[label][j][1] = np.log((Px_y1 + 1) / (Px_y0 + Px_y1 + 2))\n",
    "        #返回先验概率分布和条件概率分布\n",
    "    return Py, Px_y\n"
   ]
  },
  {
   "cell_type": "code",
   "execution_count": 6,
   "id": "informational-nerve",
   "metadata": {},
   "outputs": [
    {
     "data": {
      "text/plain": [
       "(1, 10)"
      ]
     },
     "execution_count": 6,
     "metadata": {},
     "output_type": "execute_result"
    }
   ],
   "source": [
    "Mat1 = np.ones((1,10))\n",
    "Mat1.shape"
   ]
  },
  {
   "cell_type": "code",
   "execution_count": 7,
   "id": "intensive-telephone",
   "metadata": {},
   "outputs": [
    {
     "data": {
      "text/plain": [
       "array([[0., 0., 0., 0., 0., 0., 0., 0., 0., 0.]])"
      ]
     },
     "execution_count": 7,
     "metadata": {},
     "output_type": "execute_result"
    }
   ],
   "source": [
    "mat1 = np.log(Mat1)\n",
    "mat1"
   ]
  },
  {
   "cell_type": "code",
   "execution_count": 8,
   "id": "pointed-season",
   "metadata": {},
   "outputs": [
    {
     "data": {
      "text/plain": [
       "array([[[0., 0., 0., 0., 0.],\n",
       "        [0., 0., 0., 0., 0.],\n",
       "        [0., 0., 0., 0., 0.]],\n",
       "\n",
       "       [[0., 0., 0., 0., 0.],\n",
       "        [0., 0., 0., 0., 0.],\n",
       "        [0., 0., 0., 0., 0.]]])"
      ]
     },
     "execution_count": 8,
     "metadata": {},
     "output_type": "execute_result"
    }
   ],
   "source": [
    "np.zeros((2,3,5))"
   ]
  },
  {
   "cell_type": "code",
   "execution_count": 9,
   "id": "helpful-robertson",
   "metadata": {},
   "outputs": [
    {
     "name": "stdout",
     "output_type": "stream",
     "text": [
      "start read transSet\n"
     ]
    }
   ],
   "source": [
    "start = time.time()\n",
    "# 获取训练集\n",
    "print('start read transSet')\n",
    "trainDataArr, trainLabelArr = loadData('/home/litao/ML/slm/naive_Bayes/Mnist/mnist_train.csv')"
   ]
  },
  {
   "cell_type": "code",
   "execution_count": 10,
   "id": "chief-cherry",
   "metadata": {},
   "outputs": [
    {
     "name": "stdout",
     "output_type": "stream",
     "text": [
      "start read testSet\n"
     ]
    }
   ],
   "source": [
    "# 获取测试集\n",
    "\n",
    "print('start read testSet')\n",
    "testDataArr, testLabelArr = loadData('/home/litao/ML/slm/naive_Bayes/Mnist/mnist_test.csv')"
   ]
  },
  {
   "cell_type": "code",
   "execution_count": 11,
   "id": "broad-review",
   "metadata": {},
   "outputs": [
    {
     "name": "stdout",
     "output_type": "stream",
     "text": [
      "start to train\n",
      "start to test\n",
      "the accuracy is: 0.8432999999999999\n",
      "time span: 77.70210337638855\n"
     ]
    }
   ],
   "source": [
    "print('start to train')\n",
    "Py, Px_y = getAllProbability(trainDataArr, trainLabelArr)\n",
    "\n",
    "#使用习得的先验概率分布和条件概率分布对测试集进行测试\n",
    "print('start to test')\n",
    "accuracy = model_test(Py, Px_y, testDataArr, testLabelArr)\n",
    "\n",
    "#打印准确率\n",
    "print('the accuracy is:', accuracy)\n",
    "#打印时间\n",
    "print('time span:', time.time() -start)"
   ]
  },
  {
   "cell_type": "code",
   "execution_count": null,
   "id": "9c8af262",
   "metadata": {},
   "outputs": [],
   "source": []
  },
  {
   "cell_type": "code",
   "execution_count": null,
   "id": "351a65bf",
   "metadata": {},
   "outputs": [],
   "source": []
  },
  {
   "cell_type": "code",
   "execution_count": null,
   "id": "242cb938",
   "metadata": {},
   "outputs": [],
   "source": []
  },
  {
   "cell_type": "markdown",
   "id": "078d795a",
   "metadata": {},
   "source": [
    "## 鸢尾花分类（高斯朴素贝叶斯）"
   ]
  },
  {
   "cell_type": "code",
   "execution_count": 216,
   "id": "textile-cambridge",
   "metadata": {},
   "outputs": [],
   "source": [
    "import numpy as np\n",
    "import pandas as pd\n",
    "import random"
   ]
  },
  {
   "cell_type": "code",
   "execution_count": 217,
   "id": "structured-wilson",
   "metadata": {},
   "outputs": [
    {
     "data": {
      "text/html": [
       "<div>\n",
       "<style scoped>\n",
       "    .dataframe tbody tr th:only-of-type {\n",
       "        vertical-align: middle;\n",
       "    }\n",
       "\n",
       "    .dataframe tbody tr th {\n",
       "        vertical-align: top;\n",
       "    }\n",
       "\n",
       "    .dataframe thead th {\n",
       "        text-align: right;\n",
       "    }\n",
       "</style>\n",
       "<table border=\"1\" class=\"dataframe\">\n",
       "  <thead>\n",
       "    <tr style=\"text-align: right;\">\n",
       "      <th></th>\n",
       "      <th>Sepal.Length</th>\n",
       "      <th>Sepal.Width</th>\n",
       "      <th>Petal.Length</th>\n",
       "      <th>Petal.Width</th>\n",
       "      <th>Species</th>\n",
       "    </tr>\n",
       "  </thead>\n",
       "  <tbody>\n",
       "    <tr>\n",
       "      <th>0</th>\n",
       "      <td>5.1</td>\n",
       "      <td>3.5</td>\n",
       "      <td>1.4</td>\n",
       "      <td>0.2</td>\n",
       "      <td>setosa</td>\n",
       "    </tr>\n",
       "    <tr>\n",
       "      <th>1</th>\n",
       "      <td>4.9</td>\n",
       "      <td>3.0</td>\n",
       "      <td>1.4</td>\n",
       "      <td>0.2</td>\n",
       "      <td>setosa</td>\n",
       "    </tr>\n",
       "    <tr>\n",
       "      <th>2</th>\n",
       "      <td>4.7</td>\n",
       "      <td>3.2</td>\n",
       "      <td>1.3</td>\n",
       "      <td>0.2</td>\n",
       "      <td>setosa</td>\n",
       "    </tr>\n",
       "    <tr>\n",
       "      <th>3</th>\n",
       "      <td>4.6</td>\n",
       "      <td>3.1</td>\n",
       "      <td>1.5</td>\n",
       "      <td>0.2</td>\n",
       "      <td>setosa</td>\n",
       "    </tr>\n",
       "    <tr>\n",
       "      <th>4</th>\n",
       "      <td>5.0</td>\n",
       "      <td>3.6</td>\n",
       "      <td>1.4</td>\n",
       "      <td>0.2</td>\n",
       "      <td>setosa</td>\n",
       "    </tr>\n",
       "  </tbody>\n",
       "</table>\n",
       "</div>"
      ],
      "text/plain": [
       "   Sepal.Length  Sepal.Width  Petal.Length  Petal.Width Species\n",
       "0           5.1          3.5           1.4          0.2  setosa\n",
       "1           4.9          3.0           1.4          0.2  setosa\n",
       "2           4.7          3.2           1.3          0.2  setosa\n",
       "3           4.6          3.1           1.5          0.2  setosa\n",
       "4           5.0          3.6           1.4          0.2  setosa"
      ]
     },
     "execution_count": 217,
     "metadata": {},
     "output_type": "execute_result"
    }
   ],
   "source": [
    "dataSet =pd.read_csv('../titantic_and_iris_dataset-master/iris.csv')#,header = None\n",
    "dataSet = dataSet.iloc[:, 1:]\n",
    "dataSet.head()"
   ]
  },
  {
   "cell_type": "code",
   "execution_count": 218,
   "id": "b077a697",
   "metadata": {},
   "outputs": [
    {
     "data": {
      "text/plain": [
       "Index(['setosa', 'virginica', 'versicolor'], dtype='object')"
      ]
     },
     "execution_count": 218,
     "metadata": {},
     "output_type": "execute_result"
    }
   ],
   "source": [
    "dataSet.index\n",
    "#print(type(dataSet.index))\n",
    "l = list(dataSet.index)\n",
    "#l\n",
    "dataSet.iloc[:,-1].value_counts().index"
   ]
  },
  {
   "cell_type": "code",
   "execution_count": 187,
   "id": "662c41c7",
   "metadata": {},
   "outputs": [
    {
     "data": {
      "text/plain": [
       "setosa        50\n",
       "virginica     50\n",
       "versicolor    50\n",
       "Name: Species, dtype: int64"
      ]
     },
     "execution_count": 187,
     "metadata": {},
     "output_type": "execute_result"
    }
   ],
   "source": [
    "dataSet.iloc[:,-1].value_counts()"
   ]
  },
  {
   "cell_type": "code",
   "execution_count": 188,
   "id": "7ac61817",
   "metadata": {},
   "outputs": [],
   "source": [
    "idx = list(dataSet.index)  # 获得数据集的索引\n",
    "random.shuffle(idx)  # 打乱索引\n",
    "dataSet.index = idx  # 将dataSet数据集的索引改为idx"
   ]
  },
  {
   "cell_type": "code",
   "execution_count": 189,
   "id": "7be3e82c",
   "metadata": {},
   "outputs": [
    {
     "data": {
      "text/html": [
       "<div>\n",
       "<style scoped>\n",
       "    .dataframe tbody tr th:only-of-type {\n",
       "        vertical-align: middle;\n",
       "    }\n",
       "\n",
       "    .dataframe tbody tr th {\n",
       "        vertical-align: top;\n",
       "    }\n",
       "\n",
       "    .dataframe thead th {\n",
       "        text-align: right;\n",
       "    }\n",
       "</style>\n",
       "<table border=\"1\" class=\"dataframe\">\n",
       "  <thead>\n",
       "    <tr style=\"text-align: right;\">\n",
       "      <th></th>\n",
       "      <th>Sepal.Length</th>\n",
       "      <th>Sepal.Width</th>\n",
       "      <th>Petal.Length</th>\n",
       "      <th>Petal.Width</th>\n",
       "      <th>Species</th>\n",
       "    </tr>\n",
       "  </thead>\n",
       "  <tbody>\n",
       "    <tr>\n",
       "      <th>104</th>\n",
       "      <td>5.1</td>\n",
       "      <td>3.5</td>\n",
       "      <td>1.4</td>\n",
       "      <td>0.2</td>\n",
       "      <td>setosa</td>\n",
       "    </tr>\n",
       "    <tr>\n",
       "      <th>120</th>\n",
       "      <td>4.9</td>\n",
       "      <td>3.0</td>\n",
       "      <td>1.4</td>\n",
       "      <td>0.2</td>\n",
       "      <td>setosa</td>\n",
       "    </tr>\n",
       "    <tr>\n",
       "      <th>145</th>\n",
       "      <td>4.7</td>\n",
       "      <td>3.2</td>\n",
       "      <td>1.3</td>\n",
       "      <td>0.2</td>\n",
       "      <td>setosa</td>\n",
       "    </tr>\n",
       "    <tr>\n",
       "      <th>95</th>\n",
       "      <td>4.6</td>\n",
       "      <td>3.1</td>\n",
       "      <td>1.5</td>\n",
       "      <td>0.2</td>\n",
       "      <td>setosa</td>\n",
       "    </tr>\n",
       "    <tr>\n",
       "      <th>68</th>\n",
       "      <td>5.0</td>\n",
       "      <td>3.6</td>\n",
       "      <td>1.4</td>\n",
       "      <td>0.2</td>\n",
       "      <td>setosa</td>\n",
       "    </tr>\n",
       "  </tbody>\n",
       "</table>\n",
       "</div>"
      ],
      "text/plain": [
       "     Sepal.Length  Sepal.Width  Petal.Length  Petal.Width Species\n",
       "104           5.1          3.5           1.4          0.2  setosa\n",
       "120           4.9          3.0           1.4          0.2  setosa\n",
       "145           4.7          3.2           1.3          0.2  setosa\n",
       "95            4.6          3.1           1.5          0.2  setosa\n",
       "68            5.0          3.6           1.4          0.2  setosa"
      ]
     },
     "execution_count": 189,
     "metadata": {},
     "output_type": "execute_result"
    }
   ],
   "source": [
    "dataSet.head()  # 可以看出dataSet的索引为乱序"
   ]
  },
  {
   "cell_type": "code",
   "execution_count": 190,
   "id": "c706b8a3",
   "metadata": {},
   "outputs": [],
   "source": [
    "n = dataSet.shape[0]  # 总数据量\n",
    "m = int(n * 0.8)  # 训练集的数量，因为数量是整数需要使用int()\n",
    "train = dataSet.loc[range(m), :]  # dataSet中[0,m)的索引为训练集\n",
    "test = dataSet.loc[range(m,n), :] #  dataSet中[m,n)的索引为测试集\n",
    "test.index = range(test.shape[0]) #  将测试集的索引改为[0,shape[0]);"
   ]
  },
  {
   "cell_type": "code",
   "execution_count": 191,
   "id": "4500fcc8",
   "metadata": {},
   "outputs": [
    {
     "data": {
      "text/plain": [
       "Index(['versicolor', 'setosa', 'virginica'], dtype='object')"
      ]
     },
     "execution_count": 191,
     "metadata": {},
     "output_type": "execute_result"
    }
   ],
   "source": [
    "# 获得类别\n",
    "labels = train.iloc[:, -1].value_counts().index# 类别\n",
    "#type(labels)\n",
    "labels"
   ]
  },
  {
   "cell_type": "code",
   "execution_count": 192,
   "id": "315dada2",
   "metadata": {},
   "outputs": [
    {
     "data": {
      "text/plain": [
       "['versicolor', 'setosa', 'virginica']"
      ]
     },
     "execution_count": 192,
     "metadata": {},
     "output_type": "execute_result"
    }
   ],
   "source": [
    "li = labels.tolist()\n",
    "li"
   ]
  },
  {
   "cell_type": "code",
   "execution_count": 193,
   "id": "3c72a9e3",
   "metadata": {},
   "outputs": [],
   "source": [
    "mean = []  # 每个类别的均差\n",
    "std = []  # 每个类别方差\n",
    "result = []  # 测试集预测结果"
   ]
  },
  {
   "cell_type": "code",
   "execution_count": 194,
   "id": "845c6f26",
   "metadata": {},
   "outputs": [],
   "source": [
    "for i in labels:\n",
    "    item = train.loc[train.iloc[:, -1] == i, :]\n",
    "    m = item.iloc[:, :-1].mean()\n",
    "    s = np.sum((item.iloc[:, :-1]-m)**2)/(item.shape[0])\n",
    "    mean.append(m)\n",
    "    std.append(s)\n",
    "means = pd.DataFrame(mean, index = labels)\n",
    "stds = pd.DataFrame(std, index = labels)"
   ]
  },
  {
   "cell_type": "code",
   "execution_count": 195,
   "id": "52eaad07",
   "metadata": {},
   "outputs": [
    {
     "data": {
      "text/html": [
       "<div>\n",
       "<style scoped>\n",
       "    .dataframe tbody tr th:only-of-type {\n",
       "        vertical-align: middle;\n",
       "    }\n",
       "\n",
       "    .dataframe tbody tr th {\n",
       "        vertical-align: top;\n",
       "    }\n",
       "\n",
       "    .dataframe thead th {\n",
       "        text-align: right;\n",
       "    }\n",
       "</style>\n",
       "<table border=\"1\" class=\"dataframe\">\n",
       "  <thead>\n",
       "    <tr style=\"text-align: right;\">\n",
       "      <th></th>\n",
       "      <th>Sepal.Length</th>\n",
       "      <th>Sepal.Width</th>\n",
       "      <th>Petal.Length</th>\n",
       "      <th>Petal.Width</th>\n",
       "    </tr>\n",
       "  </thead>\n",
       "  <tbody>\n",
       "    <tr>\n",
       "      <th>versicolor</th>\n",
       "      <td>5.929268</td>\n",
       "      <td>2.785366</td>\n",
       "      <td>4.236585</td>\n",
       "      <td>1.317073</td>\n",
       "    </tr>\n",
       "    <tr>\n",
       "      <th>setosa</th>\n",
       "      <td>5.040000</td>\n",
       "      <td>3.477500</td>\n",
       "      <td>1.482500</td>\n",
       "      <td>0.247500</td>\n",
       "    </tr>\n",
       "    <tr>\n",
       "      <th>virginica</th>\n",
       "      <td>6.574359</td>\n",
       "      <td>2.930769</td>\n",
       "      <td>5.538462</td>\n",
       "      <td>2.020513</td>\n",
       "    </tr>\n",
       "  </tbody>\n",
       "</table>\n",
       "</div>"
      ],
      "text/plain": [
       "            Sepal.Length  Sepal.Width  Petal.Length  Petal.Width\n",
       "versicolor      5.929268     2.785366      4.236585     1.317073\n",
       "setosa          5.040000     3.477500      1.482500     0.247500\n",
       "virginica       6.574359     2.930769      5.538462     2.020513"
      ]
     },
     "execution_count": 195,
     "metadata": {},
     "output_type": "execute_result"
    }
   ],
   "source": [
    "means"
   ]
  },
  {
   "cell_type": "code",
   "execution_count": 196,
   "id": "27dce5d3",
   "metadata": {},
   "outputs": [
    {
     "data": {
      "text/html": [
       "<div>\n",
       "<style scoped>\n",
       "    .dataframe tbody tr th:only-of-type {\n",
       "        vertical-align: middle;\n",
       "    }\n",
       "\n",
       "    .dataframe tbody tr th {\n",
       "        vertical-align: top;\n",
       "    }\n",
       "\n",
       "    .dataframe thead th {\n",
       "        text-align: right;\n",
       "    }\n",
       "</style>\n",
       "<table border=\"1\" class=\"dataframe\">\n",
       "  <thead>\n",
       "    <tr style=\"text-align: right;\">\n",
       "      <th></th>\n",
       "      <th>Sepal.Length</th>\n",
       "      <th>Sepal.Width</th>\n",
       "      <th>Petal.Length</th>\n",
       "      <th>Petal.Width</th>\n",
       "    </tr>\n",
       "  </thead>\n",
       "  <tbody>\n",
       "    <tr>\n",
       "      <th>versicolor</th>\n",
       "      <td>0.252314</td>\n",
       "      <td>0.088566</td>\n",
       "      <td>0.208174</td>\n",
       "      <td>0.040440</td>\n",
       "    </tr>\n",
       "    <tr>\n",
       "      <th>setosa</th>\n",
       "      <td>0.102400</td>\n",
       "      <td>0.144244</td>\n",
       "      <td>0.028944</td>\n",
       "      <td>0.011494</td>\n",
       "    </tr>\n",
       "    <tr>\n",
       "      <th>virginica</th>\n",
       "      <td>0.409086</td>\n",
       "      <td>0.094438</td>\n",
       "      <td>0.333136</td>\n",
       "      <td>0.068297</td>\n",
       "    </tr>\n",
       "  </tbody>\n",
       "</table>\n",
       "</div>"
      ],
      "text/plain": [
       "            Sepal.Length  Sepal.Width  Petal.Length  Petal.Width\n",
       "versicolor      0.252314     0.088566      0.208174     0.040440\n",
       "setosa          0.102400     0.144244      0.028944     0.011494\n",
       "virginica       0.409086     0.094438      0.333136     0.068297"
      ]
     },
     "execution_count": 196,
     "metadata": {},
     "output_type": "execute_result"
    }
   ],
   "source": [
    "stds"
   ]
  },
  {
   "cell_type": "code",
   "execution_count": 197,
   "id": "91b03424",
   "metadata": {},
   "outputs": [
    {
     "data": {
      "text/html": [
       "<div>\n",
       "<style scoped>\n",
       "    .dataframe tbody tr th:only-of-type {\n",
       "        vertical-align: middle;\n",
       "    }\n",
       "\n",
       "    .dataframe tbody tr th {\n",
       "        vertical-align: top;\n",
       "    }\n",
       "\n",
       "    .dataframe thead th {\n",
       "        text-align: right;\n",
       "    }\n",
       "</style>\n",
       "<table border=\"1\" class=\"dataframe\">\n",
       "  <thead>\n",
       "    <tr style=\"text-align: right;\">\n",
       "      <th></th>\n",
       "      <th>Sepal.Length</th>\n",
       "      <th>Sepal.Width</th>\n",
       "      <th>Petal.Length</th>\n",
       "      <th>Petal.Width</th>\n",
       "      <th>Species</th>\n",
       "    </tr>\n",
       "  </thead>\n",
       "  <tbody>\n",
       "    <tr>\n",
       "      <th>0</th>\n",
       "      <td>4.9</td>\n",
       "      <td>3.0</td>\n",
       "      <td>1.4</td>\n",
       "      <td>0.2</td>\n",
       "      <td>setosa</td>\n",
       "    </tr>\n",
       "    <tr>\n",
       "      <th>1</th>\n",
       "      <td>7.2</td>\n",
       "      <td>3.2</td>\n",
       "      <td>6.0</td>\n",
       "      <td>1.8</td>\n",
       "      <td>virginica</td>\n",
       "    </tr>\n",
       "    <tr>\n",
       "      <th>2</th>\n",
       "      <td>4.4</td>\n",
       "      <td>3.2</td>\n",
       "      <td>1.3</td>\n",
       "      <td>0.2</td>\n",
       "      <td>setosa</td>\n",
       "    </tr>\n",
       "    <tr>\n",
       "      <th>3</th>\n",
       "      <td>6.5</td>\n",
       "      <td>3.2</td>\n",
       "      <td>5.1</td>\n",
       "      <td>2.0</td>\n",
       "      <td>virginica</td>\n",
       "    </tr>\n",
       "    <tr>\n",
       "      <th>4</th>\n",
       "      <td>5.0</td>\n",
       "      <td>2.0</td>\n",
       "      <td>3.5</td>\n",
       "      <td>1.0</td>\n",
       "      <td>versicolor</td>\n",
       "    </tr>\n",
       "  </tbody>\n",
       "</table>\n",
       "</div>"
      ],
      "text/plain": [
       "   Sepal.Length  Sepal.Width  Petal.Length  Petal.Width     Species\n",
       "0           4.9          3.0           1.4          0.2      setosa\n",
       "1           7.2          3.2           6.0          1.8   virginica\n",
       "2           4.4          3.2           1.3          0.2      setosa\n",
       "3           6.5          3.2           5.1          2.0   virginica\n",
       "4           5.0          2.0           3.5          1.0  versicolor"
      ]
     },
     "execution_count": 197,
     "metadata": {},
     "output_type": "execute_result"
    }
   ],
   "source": [
    "test.head()"
   ]
  },
  {
   "cell_type": "code",
   "execution_count": 198,
   "id": "70ecaeb1",
   "metadata": {},
   "outputs": [
    {
     "data": {
      "text/plain": [
       "[4.4, 3.2, 1.3, 0.2]"
      ]
     },
     "execution_count": 198,
     "metadata": {},
     "output_type": "execute_result"
    }
   ],
   "source": [
    "iset = test.iloc[2, :-1].tolist()\n",
    "iset"
   ]
  },
  {
   "cell_type": "code",
   "execution_count": 199,
   "id": "38f64c1c",
   "metadata": {},
   "outputs": [
    {
     "data": {
      "text/html": [
       "<div>\n",
       "<style scoped>\n",
       "    .dataframe tbody tr th:only-of-type {\n",
       "        vertical-align: middle;\n",
       "    }\n",
       "\n",
       "    .dataframe tbody tr th {\n",
       "        vertical-align: top;\n",
       "    }\n",
       "\n",
       "    .dataframe thead th {\n",
       "        text-align: right;\n",
       "    }\n",
       "</style>\n",
       "<table border=\"1\" class=\"dataframe\">\n",
       "  <thead>\n",
       "    <tr style=\"text-align: right;\">\n",
       "      <th></th>\n",
       "      <th>Sepal.Length</th>\n",
       "      <th>Sepal.Width</th>\n",
       "      <th>Petal.Length</th>\n",
       "      <th>Petal.Width</th>\n",
       "    </tr>\n",
       "  </thead>\n",
       "  <tbody>\n",
       "    <tr>\n",
       "      <th>versicolor</th>\n",
       "      <td>-1.529268</td>\n",
       "      <td>0.414634</td>\n",
       "      <td>-2.936585</td>\n",
       "      <td>-1.117073</td>\n",
       "    </tr>\n",
       "    <tr>\n",
       "      <th>setosa</th>\n",
       "      <td>-0.640000</td>\n",
       "      <td>-0.277500</td>\n",
       "      <td>-0.182500</td>\n",
       "      <td>-0.047500</td>\n",
       "    </tr>\n",
       "    <tr>\n",
       "      <th>virginica</th>\n",
       "      <td>-2.174359</td>\n",
       "      <td>0.269231</td>\n",
       "      <td>-4.238462</td>\n",
       "      <td>-1.820513</td>\n",
       "    </tr>\n",
       "  </tbody>\n",
       "</table>\n",
       "</div>"
      ],
      "text/plain": [
       "            Sepal.Length  Sepal.Width  Petal.Length  Petal.Width\n",
       "versicolor     -1.529268     0.414634     -2.936585    -1.117073\n",
       "setosa         -0.640000    -0.277500     -0.182500    -0.047500\n",
       "virginica      -2.174359     0.269231     -4.238462    -1.820513"
      ]
     },
     "execution_count": 199,
     "metadata": {},
     "output_type": "execute_result"
    }
   ],
   "source": [
    "#广播\n",
    "iset - means"
   ]
  },
  {
   "cell_type": "code",
   "execution_count": 200,
   "id": "c5889d3d",
   "metadata": {},
   "outputs": [
    {
     "data": {
      "text/plain": [
       "0         setosa\n",
       "1      virginica\n",
       "2         setosa\n",
       "3      virginica\n",
       "4     versicolor\n",
       "5     versicolor\n",
       "6     versicolor\n",
       "7         setosa\n",
       "8      virginica\n",
       "9     versicolor\n",
       "10        setosa\n",
       "11        setosa\n",
       "12     virginica\n",
       "13    versicolor\n",
       "14    versicolor\n",
       "15     virginica\n",
       "16     virginica\n",
       "17     virginica\n",
       "18    versicolor\n",
       "19        setosa\n",
       "20     virginica\n",
       "21     virginica\n",
       "22        setosa\n",
       "23     virginica\n",
       "24        setosa\n",
       "25        setosa\n",
       "26    versicolor\n",
       "27     virginica\n",
       "28        setosa\n",
       "29    versicolor\n",
       "Name: Species, dtype: object"
      ]
     },
     "execution_count": 200,
     "metadata": {},
     "output_type": "execute_result"
    }
   ],
   "source": [
    "#means['setosa']\n",
    "test.iloc[:,-1]"
   ]
  },
  {
   "cell_type": "code",
   "execution_count": 201,
   "id": "d7bdd1f8",
   "metadata": {},
   "outputs": [
    {
     "data": {
      "text/plain": [
       "'versicolor'"
      ]
     },
     "execution_count": 201,
     "metadata": {},
     "output_type": "execute_result"
    }
   ],
   "source": [
    "li[0]"
   ]
  },
  {
   "cell_type": "code",
   "execution_count": 202,
   "id": "630a1cdd",
   "metadata": {},
   "outputs": [
    {
     "data": {
      "text/plain": [
       "10"
      ]
     },
     "execution_count": 202,
     "metadata": {},
     "output_type": "execute_result"
    }
   ],
   "source": [
    "a = list(test.iloc[:,-1] == li[1]).count(True)\n",
    "a"
   ]
  },
  {
   "cell_type": "code",
   "execution_count": 203,
   "id": "5c5478fe",
   "metadata": {},
   "outputs": [
    {
     "data": {
      "text/plain": [
       "4"
      ]
     },
     "execution_count": 203,
     "metadata": {},
     "output_type": "execute_result"
    }
   ],
   "source": [
    "test.shape[1]-1"
   ]
  },
  {
   "cell_type": "code",
   "execution_count": 204,
   "id": "23283aff",
   "metadata": {},
   "outputs": [
    {
     "data": {
      "text/plain": [
       "[0.3, 0.3333333333333333, 0.36666666666666664]"
      ]
     },
     "execution_count": 204,
     "metadata": {},
     "output_type": "execute_result"
    }
   ],
   "source": [
    "py = []\n",
    "#'int' object is not iterable\n",
    "for i in range(len(li)):\n",
    "    py.append(np.sum(test.iloc[:,-1] == li[i])/len(test))\n",
    "    \n",
    "py"
   ]
  },
  {
   "cell_type": "code",
   "execution_count": 205,
   "id": "2aec3b1d",
   "metadata": {},
   "outputs": [
    {
     "name": "stdout",
     "output_type": "stream",
     "text": [
      "0.3\n",
      "0.3333333333333333\n",
      "0.36666666666666664\n"
     ]
    }
   ],
   "source": [
    "for i in range(3):\n",
    "    py = list(test.iloc[:,-1] == li[i]).count(True) / test.shape[0]\n",
    "    print(py)"
   ]
  },
  {
   "cell_type": "code",
   "execution_count": 206,
   "id": "e28de10c",
   "metadata": {},
   "outputs": [
    {
     "data": {
      "text/plain": [
       "array([1, 4, 9])"
      ]
     },
     "execution_count": 206,
     "metadata": {},
     "output_type": "execute_result"
    }
   ],
   "source": [
    "a = [1,2,3]\n",
    "b = np.array([1,2,3])\n",
    "a * b"
   ]
  },
  {
   "cell_type": "code",
   "execution_count": 207,
   "id": "ae9cda8c",
   "metadata": {},
   "outputs": [],
   "source": [
    "for j in range(test.shape[0]):\n",
    "    iset = test.iloc[j, :-1].tolist()\n",
    "    iprob = np.exp(-1*(iset-means)**2/(2*stds))/np.sqrt(2*np.pi*stds)  # 根据正态分布公式\n",
    "    prob = 1\n",
    "    for k in range(test.shape[1]-1):\n",
    "        #py = list(test.iloc[:,-1] == li[k]).count(True) / test.shape[0]\n",
    "        prob = prob * iprob.iloc[:,k]\n",
    "        prob *= py\n",
    "    cla = prob.index[np.argmax(prob.values)]\n",
    "    result.append(cla)\n",
    "test['predict'] = result"
   ]
  },
  {
   "cell_type": "code",
   "execution_count": 208,
   "id": "a9aa844c",
   "metadata": {},
   "outputs": [
    {
     "data": {
      "text/html": [
       "<div>\n",
       "<style scoped>\n",
       "    .dataframe tbody tr th:only-of-type {\n",
       "        vertical-align: middle;\n",
       "    }\n",
       "\n",
       "    .dataframe tbody tr th {\n",
       "        vertical-align: top;\n",
       "    }\n",
       "\n",
       "    .dataframe thead th {\n",
       "        text-align: right;\n",
       "    }\n",
       "</style>\n",
       "<table border=\"1\" class=\"dataframe\">\n",
       "  <thead>\n",
       "    <tr style=\"text-align: right;\">\n",
       "      <th></th>\n",
       "      <th>Sepal.Length</th>\n",
       "      <th>Sepal.Width</th>\n",
       "      <th>Petal.Length</th>\n",
       "      <th>Petal.Width</th>\n",
       "    </tr>\n",
       "  </thead>\n",
       "  <tbody>\n",
       "    <tr>\n",
       "      <th>versicolor</th>\n",
       "      <td>0.686846</td>\n",
       "      <td>0.193712</td>\n",
       "      <td>7.401485e-01</td>\n",
       "      <td>1.311671e+00</td>\n",
       "    </tr>\n",
       "    <tr>\n",
       "      <th>setosa</th>\n",
       "      <td>0.001747</td>\n",
       "      <td>0.003669</td>\n",
       "      <td>1.144440e-68</td>\n",
       "      <td>8.565201e-30</td>\n",
       "    </tr>\n",
       "    <tr>\n",
       "      <th>virginica</th>\n",
       "      <td>0.525548</td>\n",
       "      <td>0.076811</td>\n",
       "      <td>1.369831e-01</td>\n",
       "      <td>2.100340e-01</td>\n",
       "    </tr>\n",
       "  </tbody>\n",
       "</table>\n",
       "</div>"
      ],
      "text/plain": [
       "            Sepal.Length  Sepal.Width  Petal.Length   Petal.Width\n",
       "versicolor      0.686846     0.193712  7.401485e-01  1.311671e+00\n",
       "setosa          0.001747     0.003669  1.144440e-68  8.565201e-30\n",
       "virginica       0.525548     0.076811  1.369831e-01  2.100340e-01"
      ]
     },
     "execution_count": 208,
     "metadata": {},
     "output_type": "execute_result"
    }
   ],
   "source": [
    "iprob"
   ]
  },
  {
   "cell_type": "code",
   "execution_count": 209,
   "id": "b724e2bf",
   "metadata": {},
   "outputs": [
    {
     "data": {
      "text/html": [
       "<div>\n",
       "<style scoped>\n",
       "    .dataframe tbody tr th:only-of-type {\n",
       "        vertical-align: middle;\n",
       "    }\n",
       "\n",
       "    .dataframe tbody tr th {\n",
       "        vertical-align: top;\n",
       "    }\n",
       "\n",
       "    .dataframe thead th {\n",
       "        text-align: right;\n",
       "    }\n",
       "</style>\n",
       "<table border=\"1\" class=\"dataframe\">\n",
       "  <thead>\n",
       "    <tr style=\"text-align: right;\">\n",
       "      <th></th>\n",
       "      <th>Sepal.Length</th>\n",
       "      <th>Sepal.Width</th>\n",
       "      <th>Petal.Length</th>\n",
       "      <th>Petal.Width</th>\n",
       "    </tr>\n",
       "  </thead>\n",
       "  <tbody>\n",
       "    <tr>\n",
       "      <th>versicolor</th>\n",
       "      <td>0.686846</td>\n",
       "      <td>0.193712</td>\n",
       "      <td>7.401485e-01</td>\n",
       "      <td>1.311671e+00</td>\n",
       "    </tr>\n",
       "    <tr>\n",
       "      <th>setosa</th>\n",
       "      <td>0.001747</td>\n",
       "      <td>0.003669</td>\n",
       "      <td>1.144440e-68</td>\n",
       "      <td>8.565201e-30</td>\n",
       "    </tr>\n",
       "    <tr>\n",
       "      <th>virginica</th>\n",
       "      <td>0.525548</td>\n",
       "      <td>0.076811</td>\n",
       "      <td>1.369831e-01</td>\n",
       "      <td>2.100340e-01</td>\n",
       "    </tr>\n",
       "  </tbody>\n",
       "</table>\n",
       "</div>"
      ],
      "text/plain": [
       "            Sepal.Length  Sepal.Width  Petal.Length   Petal.Width\n",
       "versicolor      0.686846     0.193712  7.401485e-01  1.311671e+00\n",
       "setosa          0.001747     0.003669  1.144440e-68  8.565201e-30\n",
       "virginica       0.525548     0.076811  1.369831e-01  2.100340e-01"
      ]
     },
     "execution_count": 209,
     "metadata": {},
     "output_type": "execute_result"
    }
   ],
   "source": [
    "iprob * 1"
   ]
  },
  {
   "cell_type": "code",
   "execution_count": 210,
   "id": "6212b765",
   "metadata": {},
   "outputs": [
    {
     "data": {
      "text/plain": [
       "versicolor     8.560870e-04\n",
       "setosa        4.163955e-105\n",
       "virginica      7.697457e-06\n",
       "dtype: float64"
      ]
     },
     "execution_count": 210,
     "metadata": {},
     "output_type": "execute_result"
    }
   ],
   "source": [
    "prob * py"
   ]
  },
  {
   "cell_type": "code",
   "execution_count": 212,
   "id": "09b74ba5",
   "metadata": {},
   "outputs": [
    {
     "name": "stdout",
     "output_type": "stream",
     "text": [
      "模型预测准确率为0.9333333333333333\n"
     ]
    },
    {
     "data": {
      "text/html": [
       "<div>\n",
       "<style scoped>\n",
       "    .dataframe tbody tr th:only-of-type {\n",
       "        vertical-align: middle;\n",
       "    }\n",
       "\n",
       "    .dataframe tbody tr th {\n",
       "        vertical-align: top;\n",
       "    }\n",
       "\n",
       "    .dataframe thead th {\n",
       "        text-align: right;\n",
       "    }\n",
       "</style>\n",
       "<table border=\"1\" class=\"dataframe\">\n",
       "  <thead>\n",
       "    <tr style=\"text-align: right;\">\n",
       "      <th></th>\n",
       "      <th>Sepal.Length</th>\n",
       "      <th>Sepal.Width</th>\n",
       "      <th>Petal.Length</th>\n",
       "      <th>Petal.Width</th>\n",
       "      <th>Species</th>\n",
       "      <th>predict</th>\n",
       "    </tr>\n",
       "  </thead>\n",
       "  <tbody>\n",
       "    <tr>\n",
       "      <th>0</th>\n",
       "      <td>5.1</td>\n",
       "      <td>3.5</td>\n",
       "      <td>1.4</td>\n",
       "      <td>0.3</td>\n",
       "      <td>setosa</td>\n",
       "      <td>setosa</td>\n",
       "    </tr>\n",
       "    <tr>\n",
       "      <th>1</th>\n",
       "      <td>7.4</td>\n",
       "      <td>2.8</td>\n",
       "      <td>6.1</td>\n",
       "      <td>1.9</td>\n",
       "      <td>virginica</td>\n",
       "      <td>virginica</td>\n",
       "    </tr>\n",
       "    <tr>\n",
       "      <th>2</th>\n",
       "      <td>4.9</td>\n",
       "      <td>3.0</td>\n",
       "      <td>1.4</td>\n",
       "      <td>0.2</td>\n",
       "      <td>setosa</td>\n",
       "      <td>setosa</td>\n",
       "    </tr>\n",
       "    <tr>\n",
       "      <th>3</th>\n",
       "      <td>6.7</td>\n",
       "      <td>3.3</td>\n",
       "      <td>5.7</td>\n",
       "      <td>2.5</td>\n",
       "      <td>virginica</td>\n",
       "      <td>virginica</td>\n",
       "    </tr>\n",
       "    <tr>\n",
       "      <th>4</th>\n",
       "      <td>5.0</td>\n",
       "      <td>2.3</td>\n",
       "      <td>3.3</td>\n",
       "      <td>1.0</td>\n",
       "      <td>versicolor</td>\n",
       "      <td>versicolor</td>\n",
       "    </tr>\n",
       "    <tr>\n",
       "      <th>5</th>\n",
       "      <td>5.0</td>\n",
       "      <td>3.2</td>\n",
       "      <td>1.2</td>\n",
       "      <td>0.2</td>\n",
       "      <td>setosa</td>\n",
       "      <td>setosa</td>\n",
       "    </tr>\n",
       "    <tr>\n",
       "      <th>6</th>\n",
       "      <td>5.1</td>\n",
       "      <td>3.8</td>\n",
       "      <td>1.6</td>\n",
       "      <td>0.2</td>\n",
       "      <td>setosa</td>\n",
       "      <td>setosa</td>\n",
       "    </tr>\n",
       "    <tr>\n",
       "      <th>7</th>\n",
       "      <td>5.5</td>\n",
       "      <td>2.4</td>\n",
       "      <td>3.7</td>\n",
       "      <td>1.0</td>\n",
       "      <td>versicolor</td>\n",
       "      <td>versicolor</td>\n",
       "    </tr>\n",
       "    <tr>\n",
       "      <th>8</th>\n",
       "      <td>6.9</td>\n",
       "      <td>3.1</td>\n",
       "      <td>4.9</td>\n",
       "      <td>1.5</td>\n",
       "      <td>versicolor</td>\n",
       "      <td>virginica</td>\n",
       "    </tr>\n",
       "    <tr>\n",
       "      <th>9</th>\n",
       "      <td>5.4</td>\n",
       "      <td>3.9</td>\n",
       "      <td>1.7</td>\n",
       "      <td>0.4</td>\n",
       "      <td>setosa</td>\n",
       "      <td>setosa</td>\n",
       "    </tr>\n",
       "    <tr>\n",
       "      <th>10</th>\n",
       "      <td>6.3</td>\n",
       "      <td>2.8</td>\n",
       "      <td>5.1</td>\n",
       "      <td>1.5</td>\n",
       "      <td>virginica</td>\n",
       "      <td>versicolor</td>\n",
       "    </tr>\n",
       "    <tr>\n",
       "      <th>11</th>\n",
       "      <td>6.0</td>\n",
       "      <td>2.9</td>\n",
       "      <td>4.5</td>\n",
       "      <td>1.5</td>\n",
       "      <td>versicolor</td>\n",
       "      <td>versicolor</td>\n",
       "    </tr>\n",
       "    <tr>\n",
       "      <th>12</th>\n",
       "      <td>6.2</td>\n",
       "      <td>3.4</td>\n",
       "      <td>5.4</td>\n",
       "      <td>2.3</td>\n",
       "      <td>virginica</td>\n",
       "      <td>virginica</td>\n",
       "    </tr>\n",
       "    <tr>\n",
       "      <th>13</th>\n",
       "      <td>6.6</td>\n",
       "      <td>3.0</td>\n",
       "      <td>4.4</td>\n",
       "      <td>1.4</td>\n",
       "      <td>versicolor</td>\n",
       "      <td>versicolor</td>\n",
       "    </tr>\n",
       "    <tr>\n",
       "      <th>14</th>\n",
       "      <td>5.8</td>\n",
       "      <td>2.8</td>\n",
       "      <td>5.1</td>\n",
       "      <td>2.4</td>\n",
       "      <td>virginica</td>\n",
       "      <td>virginica</td>\n",
       "    </tr>\n",
       "    <tr>\n",
       "      <th>15</th>\n",
       "      <td>5.4</td>\n",
       "      <td>3.4</td>\n",
       "      <td>1.5</td>\n",
       "      <td>0.4</td>\n",
       "      <td>setosa</td>\n",
       "      <td>setosa</td>\n",
       "    </tr>\n",
       "    <tr>\n",
       "      <th>16</th>\n",
       "      <td>4.5</td>\n",
       "      <td>2.3</td>\n",
       "      <td>1.3</td>\n",
       "      <td>0.3</td>\n",
       "      <td>setosa</td>\n",
       "      <td>setosa</td>\n",
       "    </tr>\n",
       "    <tr>\n",
       "      <th>17</th>\n",
       "      <td>5.4</td>\n",
       "      <td>3.4</td>\n",
       "      <td>1.7</td>\n",
       "      <td>0.2</td>\n",
       "      <td>setosa</td>\n",
       "      <td>setosa</td>\n",
       "    </tr>\n",
       "    <tr>\n",
       "      <th>18</th>\n",
       "      <td>7.2</td>\n",
       "      <td>3.2</td>\n",
       "      <td>6.0</td>\n",
       "      <td>1.8</td>\n",
       "      <td>virginica</td>\n",
       "      <td>virginica</td>\n",
       "    </tr>\n",
       "    <tr>\n",
       "      <th>19</th>\n",
       "      <td>5.0</td>\n",
       "      <td>3.5</td>\n",
       "      <td>1.6</td>\n",
       "      <td>0.6</td>\n",
       "      <td>setosa</td>\n",
       "      <td>setosa</td>\n",
       "    </tr>\n",
       "    <tr>\n",
       "      <th>20</th>\n",
       "      <td>6.8</td>\n",
       "      <td>3.0</td>\n",
       "      <td>5.5</td>\n",
       "      <td>2.1</td>\n",
       "      <td>virginica</td>\n",
       "      <td>virginica</td>\n",
       "    </tr>\n",
       "    <tr>\n",
       "      <th>21</th>\n",
       "      <td>6.7</td>\n",
       "      <td>3.1</td>\n",
       "      <td>4.7</td>\n",
       "      <td>1.5</td>\n",
       "      <td>versicolor</td>\n",
       "      <td>versicolor</td>\n",
       "    </tr>\n",
       "    <tr>\n",
       "      <th>22</th>\n",
       "      <td>6.4</td>\n",
       "      <td>2.7</td>\n",
       "      <td>5.3</td>\n",
       "      <td>1.9</td>\n",
       "      <td>virginica</td>\n",
       "      <td>virginica</td>\n",
       "    </tr>\n",
       "    <tr>\n",
       "      <th>23</th>\n",
       "      <td>6.7</td>\n",
       "      <td>3.1</td>\n",
       "      <td>5.6</td>\n",
       "      <td>2.4</td>\n",
       "      <td>virginica</td>\n",
       "      <td>virginica</td>\n",
       "    </tr>\n",
       "    <tr>\n",
       "      <th>24</th>\n",
       "      <td>6.1</td>\n",
       "      <td>3.0</td>\n",
       "      <td>4.6</td>\n",
       "      <td>1.4</td>\n",
       "      <td>versicolor</td>\n",
       "      <td>versicolor</td>\n",
       "    </tr>\n",
       "    <tr>\n",
       "      <th>25</th>\n",
       "      <td>5.2</td>\n",
       "      <td>4.1</td>\n",
       "      <td>1.5</td>\n",
       "      <td>0.1</td>\n",
       "      <td>setosa</td>\n",
       "      <td>setosa</td>\n",
       "    </tr>\n",
       "    <tr>\n",
       "      <th>26</th>\n",
       "      <td>5.6</td>\n",
       "      <td>2.7</td>\n",
       "      <td>4.2</td>\n",
       "      <td>1.3</td>\n",
       "      <td>versicolor</td>\n",
       "      <td>versicolor</td>\n",
       "    </tr>\n",
       "    <tr>\n",
       "      <th>27</th>\n",
       "      <td>4.6</td>\n",
       "      <td>3.4</td>\n",
       "      <td>1.4</td>\n",
       "      <td>0.3</td>\n",
       "      <td>setosa</td>\n",
       "      <td>setosa</td>\n",
       "    </tr>\n",
       "    <tr>\n",
       "      <th>28</th>\n",
       "      <td>5.7</td>\n",
       "      <td>2.8</td>\n",
       "      <td>4.5</td>\n",
       "      <td>1.3</td>\n",
       "      <td>versicolor</td>\n",
       "      <td>versicolor</td>\n",
       "    </tr>\n",
       "    <tr>\n",
       "      <th>29</th>\n",
       "      <td>6.4</td>\n",
       "      <td>2.8</td>\n",
       "      <td>5.6</td>\n",
       "      <td>2.1</td>\n",
       "      <td>virginica</td>\n",
       "      <td>virginica</td>\n",
       "    </tr>\n",
       "  </tbody>\n",
       "</table>\n",
       "</div>"
      ],
      "text/plain": [
       "    Sepal.Length  Sepal.Width  Petal.Length  Petal.Width     Species  \\\n",
       "0            5.1          3.5           1.4          0.3      setosa   \n",
       "1            7.4          2.8           6.1          1.9   virginica   \n",
       "2            4.9          3.0           1.4          0.2      setosa   \n",
       "3            6.7          3.3           5.7          2.5   virginica   \n",
       "4            5.0          2.3           3.3          1.0  versicolor   \n",
       "5            5.0          3.2           1.2          0.2      setosa   \n",
       "6            5.1          3.8           1.6          0.2      setosa   \n",
       "7            5.5          2.4           3.7          1.0  versicolor   \n",
       "8            6.9          3.1           4.9          1.5  versicolor   \n",
       "9            5.4          3.9           1.7          0.4      setosa   \n",
       "10           6.3          2.8           5.1          1.5   virginica   \n",
       "11           6.0          2.9           4.5          1.5  versicolor   \n",
       "12           6.2          3.4           5.4          2.3   virginica   \n",
       "13           6.6          3.0           4.4          1.4  versicolor   \n",
       "14           5.8          2.8           5.1          2.4   virginica   \n",
       "15           5.4          3.4           1.5          0.4      setosa   \n",
       "16           4.5          2.3           1.3          0.3      setosa   \n",
       "17           5.4          3.4           1.7          0.2      setosa   \n",
       "18           7.2          3.2           6.0          1.8   virginica   \n",
       "19           5.0          3.5           1.6          0.6      setosa   \n",
       "20           6.8          3.0           5.5          2.1   virginica   \n",
       "21           6.7          3.1           4.7          1.5  versicolor   \n",
       "22           6.4          2.7           5.3          1.9   virginica   \n",
       "23           6.7          3.1           5.6          2.4   virginica   \n",
       "24           6.1          3.0           4.6          1.4  versicolor   \n",
       "25           5.2          4.1           1.5          0.1      setosa   \n",
       "26           5.6          2.7           4.2          1.3  versicolor   \n",
       "27           4.6          3.4           1.4          0.3      setosa   \n",
       "28           5.7          2.8           4.5          1.3  versicolor   \n",
       "29           6.4          2.8           5.6          2.1   virginica   \n",
       "\n",
       "       predict  \n",
       "0       setosa  \n",
       "1    virginica  \n",
       "2       setosa  \n",
       "3    virginica  \n",
       "4   versicolor  \n",
       "5       setosa  \n",
       "6       setosa  \n",
       "7   versicolor  \n",
       "8    virginica  \n",
       "9       setosa  \n",
       "10  versicolor  \n",
       "11  versicolor  \n",
       "12   virginica  \n",
       "13  versicolor  \n",
       "14   virginica  \n",
       "15      setosa  \n",
       "16      setosa  \n",
       "17      setosa  \n",
       "18   virginica  \n",
       "19      setosa  \n",
       "20   virginica  \n",
       "21  versicolor  \n",
       "22   virginica  \n",
       "23   virginica  \n",
       "24  versicolor  \n",
       "25      setosa  \n",
       "26  versicolor  \n",
       "27      setosa  \n",
       "28  versicolor  \n",
       "29   virginica  "
      ]
     },
     "execution_count": 212,
     "metadata": {},
     "output_type": "execute_result"
    }
   ],
   "source": [
    "train, test = randSplit(dataSet, 0.8)\n",
    "gnb_classify(train, test)"
   ]
  },
  {
   "cell_type": "code",
   "execution_count": null,
   "id": "386639ad",
   "metadata": {},
   "outputs": [],
   "source": []
  },
  {
   "cell_type": "markdown",
   "id": "71893fb1",
   "metadata": {},
   "source": [
    "## 将上述代码整理的下面源码"
   ]
  },
  {
   "cell_type": "code",
   "execution_count": 219,
   "id": "received-active",
   "metadata": {},
   "outputs": [],
   "source": [
    "#np.random.permutation(int(rate*df.shape【0】))，然后带着索引去找数据这样不是更方便？\n",
    "def randSplit(dataSet, rate):\n",
    "    l = list(dataSet.index)#提取出索引\n",
    "    random.shuffle(l)#随机打乱索引\n",
    "    dataSet.index = l #将打乱后的索引重新赋值给原数据集\n",
    "    n = dataSet.shape[0]#总行数\n",
    "    m = int(n * rate)#训练集的数量\n",
    "    train = dataSet.loc[range(m), :]#提取前m个记录作为训练集\n",
    "    test = dataSet.loc[range(m, n), :] #剩下的作为测试集\n",
    "    dataSet.index = range(dataSet.shape[0]) #更新原数据集的索引\n",
    "    test.index = range(test.shape[0]) #更新测试集的索引\n",
    "    return train, test   "
   ]
  },
  {
   "cell_type": "code",
   "execution_count": 221,
   "id": "92fccd72",
   "metadata": {},
   "outputs": [
    {
     "data": {
      "text/plain": [
       "0         setosa\n",
       "1         setosa\n",
       "2      virginica\n",
       "3         setosa\n",
       "4      virginica\n",
       "5      virginica\n",
       "6         setosa\n",
       "7         setosa\n",
       "8     versicolor\n",
       "9     versicolor\n",
       "10     virginica\n",
       "11        setosa\n",
       "12     virginica\n",
       "13     virginica\n",
       "14        setosa\n",
       "15        setosa\n",
       "16    versicolor\n",
       "17    versicolor\n",
       "18        setosa\n",
       "19        setosa\n",
       "20        setosa\n",
       "21    versicolor\n",
       "22     virginica\n",
       "23     virginica\n",
       "24    versicolor\n",
       "25     virginica\n",
       "26    versicolor\n",
       "27        setosa\n",
       "28     virginica\n",
       "29     virginica\n",
       "Name: predict, dtype: object"
      ]
     },
     "execution_count": 221,
     "metadata": {},
     "output_type": "execute_result"
    }
   ],
   "source": [
    "test.iloc[:,-1]"
   ]
  },
  {
   "cell_type": "code",
   "execution_count": 222,
   "id": "c6d6efe6",
   "metadata": {},
   "outputs": [],
   "source": [
    "def gnb_classify(train,test):\n",
    "    labels = train.iloc[:,-1].value_counts().index #提取训练集的标签种类\n",
    "    mean =[] #存放每个类别的均值\n",
    "    std =[] #存放每个类别的方差\n",
    "    result = [] #存放测试集的预测结果\n",
    "    \n",
    "    #缺少Py即先验概率，补上了\n",
    "    py = []\n",
    "    #'int' object is not iterable\n",
    "    for i in range(len(li)):\n",
    "        py.append(np.sum(test.iloc[:,-1] == li[i])/len(test))\n",
    "        \n",
    "        \n",
    "        \n",
    "    for i in labels:\n",
    "        item = train.loc[train.iloc[:,-1]==i,:] #分别提取出每一种类别\n",
    "        m = item.iloc[:,:-1].mean() #当前类别的平均值\n",
    "        s = np.sum((item.iloc[:,:-1]-m)**2)/(item.shape[0]) #当前类别的方差\n",
    "        mean.append(m) #将当前类别的平均值追加至列表\n",
    "        std.append(s) #将当前类别的方差追加至列表\n",
    "        \n",
    "    means = pd.DataFrame(mean,index=labels) #变成DF格式，索引为类标签\n",
    "    stds = pd.DataFrame(std,index=labels) #变成DF格式，索引为类标签\n",
    "    \n",
    "    for j in range(test.shape[0]):\n",
    "        iset = test.iloc[j,:-1].tolist() #当前测试实例\n",
    "        # means已经转换成DataFrame格式了，这里用到的是广播功能\n",
    "        iprob = np.exp(-1*(iset-means)**2/(stds*2))/(np.sqrt(2*np.pi*stds)) #正态分布公式\n",
    "        prob = 1 #初始化当前实例总概率\n",
    "        for k in range(test.shape[1]-1): #遍历每个特征\n",
    "            #缺少Py即先验概率\n",
    "           \n",
    "            #条件概率\n",
    "            prob = prob * iprob.iloc[:,k] #特征概率  之积即为当前实例概率\n",
    "            prob *= py\n",
    "            cla = prob.index[np.argmax(prob.values)] #返回最大概率的类别\n",
    "        result.append(cla)\n",
    "    #新增一列\n",
    "    test['predict']=result\n",
    "    acc = (test.iloc[:,-1]==test.iloc[:,-2]).mean() #计算预测准确率\n",
    "    print(f'模型预测准确率为{acc}')\n",
    "    return test"
   ]
  },
  {
   "cell_type": "code",
   "execution_count": 223,
   "id": "43300e9f",
   "metadata": {},
   "outputs": [
    {
     "name": "stdout",
     "output_type": "stream",
     "text": [
      "模型预测准确率为1.0\n",
      "模型预测准确率为0.9333333333333333\n",
      "模型预测准确率为1.0\n",
      "模型预测准确率为0.9666666666666667\n",
      "模型预测准确率为0.9666666666666667\n",
      "模型预测准确率为0.9333333333333333\n",
      "模型预测准确率为1.0\n",
      "模型预测准确率为0.9\n",
      "模型预测准确率为1.0\n",
      "模型预测准确率为0.9333333333333333\n",
      "模型预测准确率为0.9\n",
      "模型预测准确率为0.9666666666666667\n",
      "模型预测准确率为0.9666666666666667\n",
      "模型预测准确率为0.9333333333333333\n",
      "模型预测准确率为0.9333333333333333\n",
      "模型预测准确率为0.9333333333333333\n",
      "模型预测准确率为0.9333333333333333\n",
      "模型预测准确率为0.9666666666666667\n",
      "模型预测准确率为1.0\n",
      "模型预测准确率为0.9666666666666667\n"
     ]
    }
   ],
   "source": [
    "for i in range(20):#测试20次，对比测试成功的概率\n",
    "    train, test = randSplit(dataSet, 0.8)\n",
    "    gnb_classify(train, test)"
   ]
  },
  {
   "cell_type": "markdown",
   "id": "e5402892",
   "metadata": {},
   "source": [
    "## 社区评论是否为侮辱类词语（伯努利朴素贝叶斯）"
   ]
  },
  {
   "cell_type": "code",
   "execution_count": 225,
   "id": "588e6130",
   "metadata": {},
   "outputs": [],
   "source": [
    "from numpy import *\n",
    " \n",
    "#加载数据\n",
    "def loadDataSet():\n",
    "    postingList = [['my', 'dog', 'has', 'flea', 'problems', 'help', 'please'],\n",
    "                   ['maybe', 'not', 'take', 'him', 'to', 'dog', 'park', 'stupid'],\n",
    "                   ['my', 'dalmation', 'is', 'so', 'cute', 'I', 'love', 'him'],\n",
    "                   ['stop', 'posting', 'stupid', 'worthless', 'garbage'],\n",
    "                   ['mr', 'licks', 'ate', 'my', 'steak', 'how', 'to', 'stop', 'him'],\n",
    "                   ['quit', 'buying', 'worthless', 'dog', 'food', 'stupid']]\n",
    "    classVec = [0, 1, 0, 1, 0, 1]#类别标签向量，1代表侮辱性词汇，0代表非侮辱性词汇\n",
    "    return postingList, classVec"
   ]
  },
  {
   "cell_type": "code",
   "execution_count": 226,
   "id": "dbe5f346",
   "metadata": {},
   "outputs": [],
   "source": [
    "##合并所有单词，利用set来去重，得到所有单词的唯一列表\n",
    "def createVocabList(dataSet):\n",
    "    vocabSet = set() #创建一个空的集合\n",
    "    for doc in dataSet: #遍历dataSet中的每一条言论\n",
    "        vocabSet = vocabSet | set(doc) #取并集\n",
    "        vocabList = list(vocabSet)\n",
    "    return vocabList"
   ]
  },
  {
   "cell_type": "code",
   "execution_count": 227,
   "id": "98347295",
   "metadata": {},
   "outputs": [],
   "source": [
    "#获得训练集向量\n",
    "def setOfWords2Vec(vocabList, inputSet):\n",
    "    returnVec = [0] * len(vocabList) #创建一个其中所含元素都为0的向量\n",
    "    for word in inputSet: #遍历每个词条\n",
    "        if word in vocabList: #如果词条存在于词汇表中，则变为1\n",
    "            returnVec[vocabList.index(word)] = 1\n",
    "        else:\n",
    "            print(f\" {word} is not in my Vocabulary!\" )\n",
    "    return returnVec #返回文档向量"
   ]
  },
  {
   "cell_type": "code",
   "execution_count": 228,
   "id": "f3fc14f7",
   "metadata": {},
   "outputs": [],
   "source": [
    "#生成训练集向量列表\n",
    "def get_trainMat(dataSet):\n",
    "    trainMat = [] #初始化向量列表\n",
    "    vocabList = createVocabList(dataSet) #生成词汇表\n",
    "    for inputSet in dataSet: #遍历样本词条中的每一条样本\n",
    "        returnVec=setOfWords2Vec(vocabList, inputSet) #将当前词条向量化\n",
    "        trainMat.append(returnVec) #追加到向量列表中\n",
    "    return trainMat"
   ]
  },
  {
   "cell_type": "code",
   "execution_count": 231,
   "id": "de067ebe",
   "metadata": {},
   "outputs": [],
   "source": [
    "#分类器训练函数\n",
    "def trainNB(trainMat,classVec):\n",
    "    n = len(trainMat) #计算训练的文档数目\n",
    "    m = len(trainMat[0]) #计算每篇文档的词条数\n",
    "    pAb = sum(classVec)/n #文档属于侮辱类的概率\n",
    "    \n",
    "    #下面的初始化是为了防止出现0概率\n",
    "    p0Num = np.ones(m) #词条出现数初始化为1\n",
    "    p1Num = np.ones(m) #词条出现数初始化为1\n",
    "    p0Denom = 2 #分母初始化为2\n",
    "    p1Denom = 2 #分母初始化为2\n",
    "    for i in range(n): #遍历每一个文档\n",
    "        if classVec[i] == 1: #统计属于侮辱类的条件概率所需的数据\n",
    "            p1Num += trainMat[i]\n",
    "            p1Denom += sum(trainMat[i])\n",
    "        else: #统计属于非侮辱类的条件概率所需的数据\n",
    "            p0Num += trainMat[i]\n",
    "            p0Denom += sum(trainMat[i])\n",
    "    p1V = np.log(p1Num/p1Denom)   # numpy数组 / float = 1中每个单词/1中总单词\n",
    "    p0V = np.log(p0Num/p0Denom)    # 这里为什么还用ln来处理，后面说明\n",
    "    return p0V,p1V,pAb #返回属于非侮辱类,侮辱类和文档属于侮辱类的概率"
   ]
  },
  {
   "cell_type": "code",
   "execution_count": 232,
   "id": "7b8d91d6",
   "metadata": {},
   "outputs": [],
   "source": [
    "#朴素贝叶斯分类器函数\n",
    "def classifyNB(vec2Classify, p0V, p1V, pAb):\n",
    "    p1 = sum(vec2Classify * p1V) + np.log(pAb)    #对应元素相乘# 相乘后得到哪些单词存在，再求和，再+log(P(C))\n",
    "    p0 = sum(vec2Classify * p0V) + np.log(1- pAb) #对应元素相乘# 由于使用的是ln，这里其实都是对数相加\n",
    "    if p1 > p0:\n",
    "        return 1\n",
    "    else:\n",
    "        return 0"
   ]
  },
  {
   "cell_type": "code",
   "execution_count": 233,
   "id": "1bfa48d6",
   "metadata": {},
   "outputs": [],
   "source": [
    "#朴素贝叶斯测试函数\n",
    "def testingNB(testVec):\n",
    "    dataSet,classVec = loadDataSet() #创建实验样本\n",
    "    vocabList = createVocabList(dataSet) #创建词汇表\n",
    "    trainMat= get_trainMat(dataSet) #将实验样本向量化\n",
    "    p0V,p1V,pAb = trainNB(trainMat,classVec) #训练朴素贝叶斯分类器\n",
    "    thisone = setOfWords2Vec(vocabList, testVec) #测试样本向量化\n",
    "    if classifyNB(thisone,p0V,p1V,pAb)==1:\n",
    "        print(testVec,'属于侮辱类') #执行分类并打印分类结果\n",
    "    else:\n",
    "        print(testVec,'属于非侮辱类') #执行分类并打印分类结果"
   ]
  },
  {
   "cell_type": "code",
   "execution_count": 234,
   "id": "14f5454d",
   "metadata": {},
   "outputs": [
    {
     "name": "stdout",
     "output_type": "stream",
     "text": [
      "['love', 'my', 'dalmation'] 属于非侮辱类\n"
     ]
    }
   ],
   "source": [
    "testVec1 = ['love', 'my', 'dalmation']\n",
    "testingNB(testVec1)"
   ]
  },
  {
   "cell_type": "code",
   "execution_count": 235,
   "id": "d0ba4cce",
   "metadata": {},
   "outputs": [
    {
     "name": "stdout",
     "output_type": "stream",
     "text": [
      "['stupid', 'garbage'] 属于侮辱类\n"
     ]
    }
   ],
   "source": [
    "testVec2 = ['stupid', 'garbage']\n",
    "testingNB(testVec2)"
   ]
  },
  {
   "cell_type": "code",
   "execution_count": null,
   "id": "bfb40116",
   "metadata": {},
   "outputs": [],
   "source": []
  },
  {
   "cell_type": "code",
   "execution_count": 224,
   "id": "70435e4b",
   "metadata": {},
   "outputs": [
    {
     "data": {
      "text/plain": [
       "[0, 0, 0]"
      ]
     },
     "execution_count": 224,
     "metadata": {},
     "output_type": "execute_result"
    }
   ],
   "source": [
    "[0] * 3"
   ]
  },
  {
   "cell_type": "code",
   "execution_count": null,
   "id": "0ab95cc2",
   "metadata": {},
   "outputs": [],
   "source": [
    "\"\"\"#优化词集模型= 为 词袋模型+=，将单词列表变为数字向量列表\n",
    "def bagOfWords2VecMN(vocabList, inputSet):\n",
    "    returnVec = [0] * len(vocabList)    #获得所有单词等长的0列表\n",
    "    for word in inputSet:\n",
    "        if word in vocabList:\n",
    "            returnVec[vocabList.index(word)] += 1   #对应单词位置加1\n",
    "    return returnVec\n",
    " \n",
    "# 返回的是0、1各自两个分类中每个单词数量除以该分类单词总量再取对数ln 以及0、1两类的比例\n",
    "def trainNB0(trainMatrix, trainCategory):\n",
    "    numTrainDocs = len(trainMatrix)  # 样本数\n",
    "    numWords = len(trainMatrix[0])  # 特征数\n",
    "    pAbusive = sum(trainCategory) / float(numTrainDocs)  # 1类所占比例\n",
    "    p0Num = ones(numWords)\n",
    "    p1Num = ones(numWords)  #初始化所有单词为1\n",
    "    p0Denom = 2.0\n",
    "    p1Denom = 2.0  #初始化总单词为2        后面解释为什么这四个不初始化为0\n",
    "    for i in range(numTrainDocs):\n",
    "        if trainCategory[i] == 1:       #求1类\n",
    "            p1Num += trainMatrix[i]\n",
    "            p1Denom += sum(trainMatrix[i])\n",
    "        else:\n",
    "            p0Num += trainMatrix[i]     #求0类\n",
    "            p0Denom += sum(trainMatrix[i])\n",
    "    p1Vect = log(p1Num / p1Denom)  # numpy数组 / float = 1中每个单词/1中总单词\n",
    "    p0Vect = log(p0Num / p0Denom)  # 这里为什么还用ln来处理，后面说明\n",
    "    return p0Vect, p1Vect, pAbusive\n",
    " \n",
    "#P(X|C)判断各类别的概率大小（这里是0、1）\n",
    "def classifyNB(vec2Classify, p0Vec, p1Vec, pClass1):\n",
    "    p1 = sum(vec2Classify * p1Vec) + log(pClass1)  # 相乘后得到哪些单词存在，再求和，再+log(P(C))\n",
    "    p0 = sum(vec2Classify * p0Vec) + log(1.0 - pClass1) # 由于使用的是ln，这里其实都是对数相加\n",
    "    if p1 > p0:\n",
    "        return 1\n",
    "    else:\n",
    "        return 0\"\"\"\n",
    " "
   ]
  },
  {
   "cell_type": "code",
   "execution_count": 236,
   "id": "dfe667b1",
   "metadata": {},
   "outputs": [
    {
     "data": {
      "text/plain": [
       "\"##封装调用的函数\\ndef testingNB():\\n    listOPosts, listClasses = loadDataSet()\\n    myVocabList = createVocabList(listOPosts)\\n    trainMat = []\\n    for postinDoc in listOPosts:\\n        trainMat.append(bagOfWords2VecMN(myVocabList, postinDoc))\\n    p0V, p1V, pAb = trainNB0(array(trainMat), array(listClasses))\\n    #上面求出了0、1两个类中各单词所占该类的比例，以及0、1的比例\\n \\n    #下面是预测两条样本数据的类别\\n    testEntry = ['love', 'my', 'dalmation']\\n    thisDoc = array(bagOfWords2VecMN(myVocabList, testEntry)) #先将测试数据转为numpy的词袋模型 [0 2 0 5 1 0 0 3 ...]\\n    print(testEntry, 'classified as: ', classifyNB(thisDoc, p0V, p1V, pAb)) #传值判断\\n \\n    testEntry = ['stupid', 'garbage']\\n    thisDoc = array(bagOfWords2VecMN(myVocabList, testEntry))\\n    print(testEntry, 'classified as: ', classifyNB(thisDoc, p0V, p1V, pAb))\\n \""
      ]
     },
     "execution_count": 236,
     "metadata": {},
     "output_type": "execute_result"
    }
   ],
   "source": [
    "\"\"\"##封装调用的函数\n",
    "def testingNB():\n",
    "    listOPosts, listClasses = loadDataSet()\n",
    "    myVocabList = createVocabList(listOPosts)\n",
    "    trainMat = []\n",
    "    for postinDoc in listOPosts:\n",
    "        trainMat.append(bagOfWords2VecMN(myVocabList, postinDoc))\n",
    "    p0V, p1V, pAb = trainNB0(array(trainMat), array(listClasses))\n",
    "    #上面求出了0、1两个类中各单词所占该类的比例，以及0、1的比例\n",
    " \n",
    "    #下面是预测两条样本数据的类别\n",
    "    testEntry = ['love', 'my', 'dalmation']\n",
    "    thisDoc = array(bagOfWords2VecMN(myVocabList, testEntry)) #先将测试数据转为numpy的词袋模型 [0 2 0 5 1 0 0 3 ...]\n",
    "    print(testEntry, 'classified as: ', classifyNB(thisDoc, p0V, p1V, pAb)) #传值判断\n",
    " \n",
    "    testEntry = ['stupid', 'garbage']\n",
    "    thisDoc = array(bagOfWords2VecMN(myVocabList, testEntry))\n",
    "    print(testEntry, 'classified as: ', classifyNB(thisDoc, p0V, p1V, pAb))\n",
    " \"\"\"\n",
    "\n"
   ]
  },
  {
   "cell_type": "code",
   "execution_count": null,
   "id": "80884185",
   "metadata": {},
   "outputs": [],
   "source": []
  }
 ],
 "metadata": {
  "kernelspec": {
   "display_name": "Python [conda env:tf2]",
   "language": "python",
   "name": "conda-env-tf2-py"
  },
  "language_info": {
   "codemirror_mode": {
    "name": "ipython",
    "version": 3
   },
   "file_extension": ".py",
   "mimetype": "text/x-python",
   "name": "python",
   "nbconvert_exporter": "python",
   "pygments_lexer": "ipython3",
   "version": "3.7.7"
  }
 },
 "nbformat": 4,
 "nbformat_minor": 5
}
