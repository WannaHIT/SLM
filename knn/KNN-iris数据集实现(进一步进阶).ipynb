{
 "cells": [
  {
   "cell_type": "code",
   "execution_count": 3,
   "metadata": {},
   "outputs": [],
   "source": [
    "import numpy as np \n",
    "from sklearn import datasets\n",
    "from sklearn.model_selection import train_test_split\n",
    "#report用于计算f1等指标的值\n",
    "#confusion_matrix指混淆矩阵，行相加为真实值，列相加为分类值\n",
    "from sklearn.metrics import classification_report,confusion_matrix\n",
    "#operaator里封装了一些数学函数供使用\n",
    "import operator\n",
    "import random"
   ]
  },
  {
   "cell_type": "code",
   "execution_count": 4,
   "metadata": {},
   "outputs": [
    {
     "data": {
      "text/plain": [
       "array([3, 3, 3])"
      ]
     },
     "execution_count": 4,
     "metadata": {},
     "output_type": "execute_result"
    }
   ],
   "source": [
    "a = np.array([[1,2],\n",
    "             [1,2],\n",
    "             [1,2]])\n",
    "#按列求和 这个’列’可以理解为一列，再垂直这个列的方向逐渐求和\n",
    "#拍扁\n",
    "a.sum(axis = 1)"
   ]
  },
  {
   "cell_type": "code",
   "execution_count": 6,
   "metadata": {},
   "outputs": [
    {
     "data": {
      "text/plain": [
       "array([[1, 2],\n",
       "       [1, 2],\n",
       "       [1, 2],\n",
       "       [1, 2],\n",
       "       [1, 2],\n",
       "       [1, 2],\n",
       "       [1, 2],\n",
       "       [1, 2],\n",
       "       [1, 2]])"
      ]
     },
     "execution_count": 6,
     "metadata": {},
     "output_type": "execute_result"
    }
   ],
   "source": [
    "np.tile(a,(3,1))"
   ]
  },
  {
   "cell_type": "code",
   "execution_count": 7,
   "metadata": {},
   "outputs": [],
   "source": [
    "def knn(x_test,x_data,y_data,k):  #x_test 是单个样本!\n",
    "    #计算样本数量\n",
    "    #准确来讲计算的是行数\n",
    "    x_data_size = x_data.shape[0]\n",
    "    #复制x_test,即 将单个样本复制数据样本个数次\n",
    "    np.tile(x_test,(x_data_size,1))\n",
    "    #计算x_test与每一个样本的差值\n",
    "    diffMat = np.tile(x_test,(x_data_size,1)) - x_data\n",
    "    #计算差值的平方\n",
    "    sqDiffMat = diffMat**2\n",
    "    #求和  \n",
    "    sqDistances = sqDiffMat.sum(axis=1)\n",
    "    #开方\n",
    "    distances = sqDistances**0.5\n",
    "    #从大到小排序\n",
    "    sortedDistances = distances.argsort()\n",
    "    classCount = {}\n",
    "    for i in range(k):\n",
    "        votelabel = y_data[sortedDistances[i]]\n",
    "        #统计标签数量\n",
    "        classCount[votelabel] = classCount.get(votelabel,0)+1\n",
    "    #根据operator.itemgetter(1)-第一个值对classCount排序，然后再取倒序\n",
    "    sortedClassCount = sorted(classCount.items(),key=operator.itemgetter(1),reverse=True)\n",
    "    #获取数量最多的标签\n",
    "    return sortedClassCount[0][0]"
   ]
  },
  {
   "cell_type": "code",
   "execution_count": 8,
   "metadata": {},
   "outputs": [
    {
     "name": "stdout",
     "output_type": "stream",
     "text": [
      "              precision    recall  f1-score   support\n",
      "\n",
      "           0       1.00      1.00      1.00        10\n",
      "           1       0.83      0.91      0.87        11\n",
      "           2       0.94      0.89      0.92        19\n",
      "\n",
      "    accuracy                           0.93        40\n",
      "   macro avg       0.93      0.93      0.93        40\n",
      "weighted avg       0.93      0.93      0.93        40\n",
      "\n"
     ]
    }
   ],
   "source": [
    "#载入数据\n",
    "iris = datasets.load_iris()\n",
    "#x_train,x_test,y_train,y_test = train_test_split(iris.data,iris.target,test_size=0.2)\n",
    "#上面意思是分割数据0.2为测试数据，0.8为训练数据\n",
    "\n",
    "\n",
    "#以下方法均是自主打乱数据的方法\n",
    "#打乱数据\n",
    "data_size = iris.data.shape[0]\n",
    "#生成一个列表List\n",
    "index = [i for i in range(data_size)]\n",
    "#把列表传进去之后shuffle函数自动帮我们打乱它\n",
    "random.shuffle(index)\n",
    "iris.data = iris.data[index]\n",
    "iris.target = iris.target[index]\n",
    "\n",
    "#切分数据集\n",
    "test_size = 40\n",
    "x_train = iris.data[test_size:]\n",
    "x_test = iris.data[:test_size]\n",
    "y_train = iris.target[test_size:]\n",
    "y_test = iris.target[:test_size]\n",
    "\n",
    "#空表\n",
    "predictions = ([])\n",
    "\n",
    "for i in range(x_test.shape[0]):\n",
    "    predictions.append(knn(x_test[i],x_train,y_train,5))\n",
    "\n",
    "print(classification_report(y_test,predictions))"
   ]
  },
  {
   "cell_type": "code",
   "execution_count": 9,
   "metadata": {},
   "outputs": [
    {
     "name": "stdout",
     "output_type": "stream",
     "text": [
      "[[10  0  0]\n",
      " [ 0 10  1]\n",
      " [ 0  2 17]]\n"
     ]
    }
   ],
   "source": [
    "print(confusion_matrix(y_test,predictions))\n",
    "#可以看出第二行有两个数据分类错了，knn算法的预测较为准确\n",
    "#这里多阐述一下\n",
    "#正确的预测结果都在对角线上，所以从混淆矩阵中可以很方便直观的看出哪里有错误，因为他们呈现在对角线外面。"
   ]
  },
  {
   "cell_type": "code",
   "execution_count": 10,
   "metadata": {},
   "outputs": [
    {
     "data": {
      "text/plain": [
       "18"
      ]
     },
     "execution_count": 10,
     "metadata": {},
     "output_type": "execute_result"
    }
   ],
   "source": [
    "predictions.count(2)"
   ]
  },
  {
   "cell_type": "code",
   "execution_count": 11,
   "metadata": {},
   "outputs": [
    {
     "data": {
      "text/plain": [
       "list"
      ]
     },
     "execution_count": 11,
     "metadata": {},
     "output_type": "execute_result"
    }
   ],
   "source": [
    "type(predictions)\n"
   ]
  },
  {
   "cell_type": "code",
   "execution_count": 12,
   "metadata": {},
   "outputs": [],
   "source": [
    "a = list(y_test)"
   ]
  },
  {
   "cell_type": "code",
   "execution_count": 13,
   "metadata": {},
   "outputs": [
    {
     "name": "stdout",
     "output_type": "stream",
     "text": [
      "Toatal_accuryce = 0.925000\n",
      "Class0_accuracy = 1.000000\n",
      "Class1_accuracy = 0.909091\n",
      "Class2_accuracy = 0.894737\n",
      "\n"
     ]
    }
   ],
   "source": [
    "count = 0\n",
    "cont_list = [0,0,0]\n",
    "for i in range(len(y_test)):\n",
    "    if(y_test[i]==predictions[i]):\n",
    "        if(y_test[i]==0):\n",
    "            cont_list[0]+=1\n",
    "        elif(y_test[i]==1):\n",
    "            cont_list[1]+=1\n",
    "        else:\n",
    "            cont_list[2]+=1\n",
    "        count+=1\n",
    "    \n",
    "        \n",
    "accuryce = count/len(y_test) \n",
    "print(\"Toatal_accuryce = %f\\nClass0_accuracy = %f\\nClass1_accuracy = %f\\nClass2_accuracy = %f\\n\"% (accuryce,\n",
    "      cont_list[0]/a.count(0),cont_list[1]/a.count(1),cont_list[2]/a.count(2),)\n",
    "     )"
   ]
  },
  {
   "cell_type": "code",
   "execution_count": null,
   "metadata": {},
   "outputs": [],
   "source": []
  },
  {
   "cell_type": "code",
   "execution_count": null,
   "metadata": {},
   "outputs": [],
   "source": []
  }
 ],
 "metadata": {
  "kernelspec": {
   "display_name": "Python [conda env:tf2]",
   "language": "python",
   "name": "conda-env-tf2-py"
  },
  "language_info": {
   "codemirror_mode": {
    "name": "ipython",
    "version": 3
   },
   "file_extension": ".py",
   "mimetype": "text/x-python",
   "name": "python",
   "nbconvert_exporter": "python",
   "pygments_lexer": "ipython3",
   "version": "3.7.7"
  }
 },
 "nbformat": 4,
 "nbformat_minor": 2
}
